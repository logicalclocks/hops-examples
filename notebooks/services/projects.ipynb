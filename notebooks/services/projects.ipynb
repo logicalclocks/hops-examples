{
 "cells": [
  {
   "cell_type": "markdown",
   "id": "7488826a",
   "metadata": {},
   "source": [
    "## Project API"
   ]
  },
  {
   "cell_type": "markdown",
   "id": "e4e6ce4f",
   "metadata": {},
   "source": [
    "This API provides the possibility to create new projects or access existing ones."
   ]
  },
  {
   "cell_type": "markdown",
   "id": "7b98e0b5",
   "metadata": {},
   "source": [
    "## Scope"
   ]
  },
  {
   "cell_type": "markdown",
   "id": "84fa6eca",
   "metadata": {},
   "source": [
    "* Check project existence\n",
    "* Create a new project\n",
    "* Get a project\n",
    "* Get all projects"
   ]
  },
  {
   "cell_type": "code",
   "execution_count": 1,
   "id": "db505bb3",
   "metadata": {},
   "outputs": [],
   "source": [
    "import hopsworks"
   ]
  },
  {
   "cell_type": "markdown",
   "id": "f5f52a96",
   "metadata": {},
   "source": [
    "## Connect to the cluster"
   ]
  },
  {
   "cell_type": "code",
   "execution_count": 2,
   "id": "98e14f36",
   "metadata": {},
   "outputs": [
    {
     "name": "stdout",
     "output_type": "stream",
     "text": [
      "Connected. Call `.close()` to terminate connection gracefully.\n"
     ]
    }
   ],
   "source": [
    "# Connect to your cluster, to be used running inside Jupyter or jobs inside the cluster.\n",
    "connection = hopsworks.connection()"
   ]
  },
  {
   "cell_type": "code",
   "execution_count": 3,
   "id": "d408a27f",
   "metadata": {},
   "outputs": [],
   "source": [
    "# Uncomment when connecting to the cluster from an external environment.\n",
    "# connection = hopsworks.connection(host='my_instance', port=443, api_key_value='apikey')"
   ]
  },
  {
   "cell_type": "markdown",
   "id": "b8b63bcd",
   "metadata": {},
   "source": [
    "## Create new project"
   ]
  },
  {
   "cell_type": "code",
   "execution_count": 4,
   "id": "b2179b13",
   "metadata": {},
   "outputs": [],
   "source": [
    "PROJECT_NAME=\"my_project\""
   ]
  },
  {
   "cell_type": "code",
   "execution_count": 5,
   "id": "df933cbe",
   "metadata": {},
   "outputs": [],
   "source": [
    "# Create a new project\n",
    "my_project = connection.create_project(PROJECT_NAME, description=\"This project is created to demo the hopsworks python project API\")  "
   ]
  },
  {
   "cell_type": "code",
   "execution_count": 6,
   "id": "32520b57",
   "metadata": {},
   "outputs": [
    {
     "data": {
      "text/plain": [
       "True"
      ]
     },
     "execution_count": 6,
     "metadata": {},
     "output_type": "execute_result"
    }
   ],
   "source": [
    "# Check for project existence\n",
    "connection.project_exists(PROJECT_NAME)"
   ]
  },
  {
   "cell_type": "markdown",
   "id": "a555f3af",
   "metadata": {},
   "source": [
    "## Get existing projects"
   ]
  },
  {
   "cell_type": "code",
   "execution_count": 7,
   "id": "b2b559f7",
   "metadata": {},
   "outputs": [],
   "source": [
    "# Get an existing project\n",
    "my_project = connection.get_project(PROJECT_NAME) # Get project handle"
   ]
  },
  {
   "cell_type": "code",
   "execution_count": 8,
   "id": "35afa0ab",
   "metadata": {},
   "outputs": [
    {
     "data": {
      "text/plain": [
       "[Project('demo_ml_meb10000', 'admin@hopsworks.ai', 'A demo project for getting started with deep learning'),\n",
       " Project('my_project', 'admin@hopsworks.ai', 'This project is created to demo the hopsworks python project API')]"
      ]
     },
     "execution_count": 8,
     "metadata": {},
     "output_type": "execute_result"
    }
   ],
   "source": [
    "# Get all existing projects\n",
    "connection.get_projects()"
   ]
  },
  {
   "cell_type": "markdown",
   "id": "9e928b3a",
   "metadata": {},
   "source": [
    "## Project properties"
   ]
  },
  {
   "cell_type": "code",
   "execution_count": 9,
   "id": "8a606035",
   "metadata": {},
   "outputs": [
    {
     "data": {
      "text/plain": [
       "124"
      ]
     },
     "execution_count": 9,
     "metadata": {},
     "output_type": "execute_result"
    }
   ],
   "source": [
    "my_project.id"
   ]
  },
  {
   "cell_type": "code",
   "execution_count": 10,
   "id": "03a21f6d",
   "metadata": {},
   "outputs": [
    {
     "data": {
      "text/plain": [
       "'my_project'"
      ]
     },
     "execution_count": 10,
     "metadata": {},
     "output_type": "execute_result"
    }
   ],
   "source": [
    "my_project.name"
   ]
  },
  {
   "cell_type": "code",
   "execution_count": 11,
   "id": "e007871a",
   "metadata": {},
   "outputs": [
    {
     "data": {
      "text/plain": [
       "'admin@hopsworks.ai'"
      ]
     },
     "execution_count": 11,
     "metadata": {},
     "output_type": "execute_result"
    }
   ],
   "source": [
    "my_project.owner"
   ]
  },
  {
   "cell_type": "code",
   "execution_count": 12,
   "id": "0d96d073",
   "metadata": {},
   "outputs": [
    {
     "data": {
      "text/plain": [
       "'This project is created to demo the hopsworks python project API'"
      ]
     },
     "execution_count": 12,
     "metadata": {},
     "output_type": "execute_result"
    }
   ],
   "source": [
    "my_project.description"
   ]
  },
  {
   "cell_type": "code",
   "execution_count": 13,
   "id": "34c0437e",
   "metadata": {},
   "outputs": [
    {
     "data": {
      "text/plain": [
       "'2022-04-12T13:22:25Z'"
      ]
     },
     "execution_count": 13,
     "metadata": {},
     "output_type": "execute_result"
    }
   ],
   "source": [
    "my_project.created"
   ]
  }
 ],
 "metadata": {
  "kernelspec": {
   "display_name": "Python",
   "language": "python",
   "name": "python3"
  },
  "language_info": {
   "codemirror_mode": {
    "name": "ipython",
    "version": 3
   },
   "file_extension": ".py",
   "mimetype": "text/x-python",
   "name": "python",
   "nbconvert_exporter": "python",
   "pygments_lexer": "ipython3",
   "version": "3.8.11"
  }
 },
 "nbformat": 4,
 "nbformat_minor": 5
}