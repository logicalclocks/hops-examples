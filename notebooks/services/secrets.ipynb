{
 "cells": [
  {
   "cell_type": "markdown",
   "id": "f1e60411",
   "metadata": {},
   "source": [
    "## Secrets API "
   ]
  },
  {
   "cell_type": "markdown",
   "id": "8c27ff9f",
   "metadata": {},
   "source": [
    "This API provides the possibility to manage secrets in the platform."
   ]
  },
  {
   "cell_type": "markdown",
   "id": "e91a70a4",
   "metadata": {},
   "source": [
    "## Scope"
   ]
  },
  {
   "cell_type": "markdown",
   "id": "c9c87d7f",
   "metadata": {},
   "source": [
    "* Create a new secret\n",
    "* Get a secret\n",
    "* Get all secrets"
   ]
  },
  {
   "cell_type": "code",
   "execution_count": 1,
   "id": "a9a40735",
   "metadata": {},
   "outputs": [],
   "source": [
    "import hopsworks"
   ]
  },
  {
   "cell_type": "markdown",
   "id": "5e4001db",
   "metadata": {},
   "source": [
    "## Connect to the cluster"
   ]
  },
  {
   "cell_type": "code",
   "execution_count": 2,
   "id": "322625dc",
   "metadata": {},
   "outputs": [
    {
     "name": "stdout",
     "output_type": "stream",
     "text": [
      "Connected. Call `.close()` to terminate connection gracefully.\n"
     ]
    }
   ],
   "source": [
    "# Connect to your cluster, to be used running inside Jupyter or jobs inside the cluster.\n",
    "connection = hopsworks.connection()"
   ]
  },
  {
   "cell_type": "code",
   "execution_count": 3,
   "id": "4e616781",
   "metadata": {},
   "outputs": [],
   "source": [
    "# Uncomment when connecting to the cluster from an external environment.\n",
    "# connection = hopsworks.connection(host='my_instance', port=443, api_key_value='apikey')"
   ]
  },
  {
   "cell_type": "markdown",
   "id": "0de98118",
   "metadata": {},
   "source": [
    "## Get the API"
   ]
  },
  {
   "cell_type": "code",
   "execution_count": 4,
   "id": "07a1102a",
   "metadata": {},
   "outputs": [],
   "source": [
    "secrets_api = connection.get_secrets_api()"
   ]
  },
  {
   "cell_type": "markdown",
   "id": "7fc61725",
   "metadata": {},
   "source": [
    "## Create new secret"
   ]
  },
  {
   "cell_type": "code",
   "execution_count": 5,
   "id": "fbc6efea",
   "metadata": {},
   "outputs": [],
   "source": [
    "SECRET_NAME=\"demo_secret\"\n",
    "SECRET_VALUE=\"secret_value\""
   ]
  },
  {
   "cell_type": "code",
   "execution_count": 6,
   "id": "53a5b0d5",
   "metadata": {},
   "outputs": [],
   "source": [
    "secret = secrets_api.create_secret(SECRET_NAME, SECRET_VALUE)"
   ]
  },
  {
   "cell_type": "markdown",
   "id": "eccb966b",
   "metadata": {},
   "source": [
    "## Get existing secrets"
   ]
  },
  {
   "cell_type": "code",
   "execution_count": 7,
   "id": "3bf9fb12",
   "metadata": {},
   "outputs": [
    {
     "data": {
      "text/plain": [
       "[Secret('demo_secret', 'PRIVATE'),\n",
       " Secret('demo_ml_meb10000_meb10000', 'PRIVATE'),\n",
       " Secret('my_project_meb10000', 'PRIVATE')]"
      ]
     },
     "execution_count": 7,
     "metadata": {},
     "output_type": "execute_result"
    }
   ],
   "source": [
    "secrets_api.get_secrets()"
   ]
  },
  {
   "cell_type": "code",
   "execution_count": 8,
   "id": "8fbc40dc",
   "metadata": {},
   "outputs": [],
   "source": [
    "secret = secrets_api.get_secret(SECRET_NAME)"
   ]
  },
  {
   "cell_type": "markdown",
   "id": "39c7142d",
   "metadata": {},
   "source": [
    "## Secret properties"
   ]
  },
  {
   "cell_type": "code",
   "execution_count": 9,
   "id": "fcfc1d44",
   "metadata": {},
   "outputs": [
    {
     "data": {
      "text/plain": [
       "'demo_secret'"
      ]
     },
     "execution_count": 9,
     "metadata": {},
     "output_type": "execute_result"
    }
   ],
   "source": [
    "secret.name"
   ]
  },
  {
   "cell_type": "code",
   "execution_count": 10,
   "id": "d4f657fd",
   "metadata": {},
   "outputs": [
    {
     "data": {
      "text/plain": [
       "'secret_value'"
      ]
     },
     "execution_count": 10,
     "metadata": {},
     "output_type": "execute_result"
    }
   ],
   "source": [
    "secret.value"
   ]
  },
  {
   "cell_type": "markdown",
   "id": "66117da5",
   "metadata": {},
   "source": [
    "## Delete secret"
   ]
  },
  {
   "cell_type": "code",
   "execution_count": 11,
   "id": "974d99c8",
   "metadata": {},
   "outputs": [],
   "source": [
    "secret.delete()"
   ]
  }
 ],
 "metadata": {
  "kernelspec": {
   "display_name": "Python",
   "language": "python",
   "name": "python3"
  },
  "language_info": {
   "codemirror_mode": {
    "name": "ipython",
    "version": 3
   },
   "file_extension": ".py",
   "mimetype": "text/x-python",
   "name": "python",
   "nbconvert_exporter": "python",
   "pygments_lexer": "ipython3",
   "version": "3.8.11"
  }
 },
 "nbformat": 4,
 "nbformat_minor": 5
}