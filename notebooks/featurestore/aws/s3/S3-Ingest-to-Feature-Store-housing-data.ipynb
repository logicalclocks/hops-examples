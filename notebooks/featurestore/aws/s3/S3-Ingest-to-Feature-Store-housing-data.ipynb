{
 "cells": [
  {
   "cell_type": "markdown",
   "metadata": {},
   "source": [
    "---\n",
    "title: \"Feature Ingestion from S3 - Sacramento Housing\"\n",
    "date: 2021-02-24\n",
    "type: technical_note\n",
    "draft: false\n",
    "---"
   ]
  },
  {
   "cell_type": "markdown",
   "metadata": {},
   "source": [
    "## Ingest Sacramento Housing data from a S3 bucket to the Feature Store\n",
    "\n",
    "First, download this sample data from [here](../data/Sacramentorealestatetransactions.csv) - and upload it into a S3 bucket.\n",
    "\n",
    "Before starting with the execution, you should also create a S3 storage connector pointing to the bucket where you uploaded the data. You can follow the [Storage Connectors documentation](https://docs.hopsworks.ai/feature-store-api/latest/setup/) to see how you can create the storage connector from the feature store UI."
   ]
  },
  {
   "cell_type": "markdown",
   "metadata": {},
   "source": [
    "## Import already feature engineered data from S3<a name=\"already_eng\"></a>\n",
    "\n",
    "In this section we are going to assume that the feature engineering process has already happended outside Hopsworks. In other words, the data in S3 is already feature engineered and we only want to import it into the feature store to be made available to data scientistis.\n"
   ]
  },
  {
   "cell_type": "markdown",
   "metadata": {},
   "source": [
    "# You first need an IAM Role\n",
    "You will need an IAM role to be able to read data from a S3 bucket. In Hopsworks, there are two ways of assuming an IAM role for the notebooks/jobs that you run in Hopsworks:\n",
    "1. you can assign an *Instance Profile* to the Hopsworks cluster when you create it and all users share its IAM Role, and\n",
    "2. you can assign multiple IAM Roles to a Hopsworks Cluster, and then decide which Projects and its users can assume which IAM Role.\n",
    "\n",
    "\n",
    "## Cluster-wide IAM Role\n",
    "On hopsworks.ai, when you are configuring your Hopsworks cluster, you can select an Instance profile for Hopsworks - see the screenshot below.. All jobs run on Hopsworks can use the IAM Role for this Instance profile (the Instance profile is an IAM Role for this instance). That is, all Hopsworks users share the Instance Profile role and the resource access policies attached to that role.\n",
    "\\\n",
    "\\\n",
    "<img src=\"images/iam-profile.png\" alt=\"Cluster-wide IAM Profile\" style=\"margin: auto; height: 450px; width:550px;\"/>\n",
    "\n",
    "## Federated IAM Roles (Role Chaining)\n",
    "\n",
    "You can restrict a IAM Roles to be only usable within a specified project. Within the specified project, you can furuther retrict which *role* a user must have to be able to use the IAM Role - e.g., only *Data Owners* in the project called *Noc-list* can use this assume IAM role. See details on [how to setup multiple IAM Roles (Role Chaining) in our documentation](https://hopsworks.readthedocs.io/en/latest/admin_guide/cloud_role_mapping.html)."
   ]
  },
  {
   "cell_type": "code",
   "execution_count": null,
   "metadata": {},
   "outputs": [],
   "source": [
    "import hsfs\n",
    "connection = hsfs.connection()\n",
    "fs = connection.get_feature_store()"
   ]
  },
  {
   "cell_type": "code",
   "execution_count": null,
   "metadata": {},
   "outputs": [],
   "source": [
    "# You can also read from a bucket with your IAM Role without a storage connector\n",
    "df = spark.read_csv(\"s3a://sacramento_houses_raw/sacramento_houses_raw.csv\")\n",
    "df.show(5)"
   ]
  },
  {
   "cell_type": "code",
   "execution_count": null,
   "metadata": {},
   "outputs": [],
   "source": [
    "housing_fg = fs.create_feature_group(name=\"housing_fg\",\n",
    "                                   version=1,\n",
    "                                   description=\"FG with Sacramento Housing Data\",\n",
    "                                   primary_key=[\"latitude\", \"longitude\"],\n",
    "                                   time_travel_format=None,\n",
    "                                   statistics_config={\"enabled\": True, \"histograms\": True, \"correlations\": True, \"exact_uniqueness\": True})\n",
    "housing_fg.save(df)\n"
   ]
  },
  {
   "cell_type": "markdown",
   "metadata": {},
   "source": [
    "In the feature store UI you should now be able to see that the feature group has been created, browse its schema and statistics. You can now use it to [build training datasets](#training).\n",
    "\n",
    "## Import raw data, do feature engineering and create a feature group<a name=\"raw\"></a>\n",
    "\n",
    "In the next session we are going to assume that the data in the S3 bucket is raw data that needs to be feature engineered before it can be used by data scientists to build models.\n",
    "\n",
    "Hopsworks feature store relies on Apache Spark to provide a scalabale framework for feature engineering processing. Hopsworks allows users to write both PySpark and Scala code. To know more about how to work with Spark code in Hopsworks you can have a look at [Apache Spark documentation](https://spark.apache.org/docs/latest/index.html) and at the [Hopsworks Jupyter documentation](https://hopsworks.readthedocs.io/en/stable/user_guide/hopsworks/jupyter.html).\n",
    "\n",
    "For the sake of the tutorial, in this section we are going to read the CSV file in a dataframe, convert the `type` feature from a string to a categorical numerical feature and write the new feature group in the feature store.\n",
    "\n",
    "To instruct Spark to read from S3 we build the path to the file in the bucket. Please note the file system - `s3a://`."
   ]
  }
 ],
 "metadata": {
  "kernelspec": {
   "display_name": "PySpark",
   "language": "python",
   "name": "pysparkkernel"
  },
  "language_info": {
   "codemirror_mode": {
    "name": "python",
    "version": 3
   },
   "mimetype": "text/x-python",
   "name": "pyspark",
   "pygments_lexer": "python3"
  }
 },
 "nbformat": 4,
 "nbformat_minor": 4
}