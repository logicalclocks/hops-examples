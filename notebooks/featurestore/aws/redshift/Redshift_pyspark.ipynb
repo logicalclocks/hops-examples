{
 "cells": [
  {
   "cell_type": "markdown",
   "metadata": {},
   "source": [
    "---\n",
    "title: \"Feature Ingestion from Redshift with PySpark\"\n",
    "date: 2021-02-24\n",
    "type: technical_note\n",
    "draft: false\n",
    "---"
   ]
  },
  {
   "cell_type": "markdown",
   "metadata": {},
   "source": [
    "<h2 style=\"color: #1EB382;font-weight: bold;\">Redshift Integration</h2>\n",
    "\n",
    "This notebooks guides through the ingestion of Redshift data in the Hopsworks feature store. To follow this notebook users should have an existing Redshift cluster, if not, they can follow the AWS [documentation](https://docs.aws.amazon.com/ses/latest/DeveloperGuide/event-publishing-redshift-cluster.html).\n",
    "\n",
    "The data for this tutorial is available in CSV format [here](../data/Sacramentorealestatetransactions.csv)\n",
    "Users should create the following table in Redshift\n",
    "```sql\n",
    "CREATE TABLE telco(\n",
    "    customer_id varchar(200),\n",
    "    gender varchar(200),\n",
    "    senior_citizen integer,\n",
    "    partner varchar(200),\n",
    "    dependents varchar(200),\n",
    "    tenure integer,\n",
    "    phone_service varchar(200),\n",
    "    multiple_lines varchar(200),\n",
    "    internet_service varchar(200),\n",
    "    online_security varchar(200),\n",
    "    online_backup varchar(200),\n",
    "    device_protection varchar(200),\n",
    "    tech_support varchar(200),\n",
    "    streaming_tv varchar(200),\n",
    "    streaming_movies varchar(200),\n",
    "    contract varchar(200),\n",
    "    paperless_billing varchar(200),\n",
    "    payment_method varchar(200),\n",
    "    monthly_charges double precision,\n",
    "    total_charges varchar(200),\n",
    "    churn varchar(200)\n",
    ")\n",
    "```\n",
    "\n",
    "and populate the table using the copy command:\n",
    "```sql\n",
    "COPY telco\n",
    "FROM 's3://bucket/telco_customer_churn.csv'\n",
    "IAM_ROLE 'arn:aws:iam::xxxxxxxxx:role/role_name'\n",
    "FORMAT as CSV\n",
    "FILLRECORD\n",
    "```\n",
    "\n",
    "Once the data has been imported into Redshift, we can start ingesting it into the Hopsworks Feature Store. \n",
    "\n",
    "<h3 style=\"color: #1EB382;font-weight: bold;\">Storage Connector</h3>\n",
    "\n",
    "The first step to be able to ingest Redshift data into the feature store is to configure a storage connector.The Redshift connector requires you to specify the following properties. Most of them are available in the properties area of your cluster in the Redshift UI.\n",
    "\n",
    "\n",
    "<img src=\"images/connector_ui.png\" alt=\"Redshift Connector UI\" style=\"margin: auto; height: 600px; width:550px;\"/>\n",
    "\n",
    "- Cluster identifier: The name of the cluster\n",
    "\n",
    "- Database driver: You can use the default JDBC Redshift Driver `com.amazon.redshift.jdbc42.Driver` (More on this later)\n",
    "\n",
    "- Database endpoint: The endpoint for the database. Should be in the format of `[UUID].eu-west-1.redshift.amazonaws.com`\n",
    "\n",
    "- Database name: The name of the database to query\n",
    "\n",
    "- Database port: The port of the cluster. Defaults to 5349\n",
    "\n",
    "There are two options available for authenticating with the Redshift cluster. The first option is to configure a username and a password. The password is stored in the secret store and made available to all the members of the project.\n",
    "The second option is to configure an IAM role. With IAM roles,  Jobs or notebooks launched on Hopsworks  do not need to explicitly authenticate with Redshift, as the HSFS library will transparently use the IAM role to acquire a temporary credential to authenticate the specified user. \n",
    "In Hopsworks, there are two different ways to configure an IAM role: a per-cluster IAM role or a federated IAM role (role chaining). For the per-cluster IAM role, you select an instance profile for your Hopsworks cluster when launching it in hopsworks.ai, and all jobs or notebooks will be run with the selected IAM role.  For the federated IAM role, you create a head IAM role for the cluster that enables Hopsworks to assume a potentially different IAM role in each project. You can even restrict it so that only certain roles within a project (like a data owner) can assume a given role. \n",
    "\n",
    "With regards to the database driver, the library to interact with Redshift *is not* included in Hopsworks - you need to upload the driver yourself. First, you need to download the library from  here. You then upload the driver files to the “Resources” dataset in your project. Then, you add the file to your notebook or job before launching it, as shown in the screenshots below.\n",
    "\n",
    "The library can be downloaded here: https://docs.aws.amazon.com/redshift/latest/mgmt/configure-jdbc-connection.html#download-jdbc-driver"
   ]
  },
  {
   "cell_type": "code",
   "execution_count": 10,
   "metadata": {},
   "outputs": [
    {
     "name": "stdout",
     "output_type": "stream",
     "text": [
      "Connected. Call `.close()` to terminate connection gracefully."
     ]
    }
   ],
   "source": [
    "import hsfs\n",
    "# Connect to the Hopsworks feature store\n",
    "connection = hsfs.connection()\n",
    "# Retrieve the metadata handle\n",
    "fs = connection.get_feature_store()"
   ]
  },
  {
   "cell_type": "markdown",
   "metadata": {},
   "source": [
    "<h3 style=\"color: #1EB382;font-weight: bold;\">External (On-Demand) Feature Group</h3>\n",
    "\n",
    "Hopsworks supports the creation of (a) cached feature groups and (b) external (on-demand) feature groups. For cached feature groups, the features are stored in Hopsworks feature store. For external feature groups, only metadata for features is stored in the feature store - not the actual feature data which is read from the external database/object-store. When the external feature group is accessed from a Spark or Python job, the feature data is read on-demand using a connector from the external store. On AWS, Hopsworks supports the creation of external feature groups from a large number of data stores, including Redshift, RDS, Snowflake, S3, and any JDBC-enabled source. \n",
    "\n",
    "In this example, we will define an external feature group for a table in Redshift. External feature groups in Hopsworks support “provenance” in the Hopsworks Web UI, you can track which features are stored on which external systems and how they are computed. Additionally HSFS (the Python/Scala library used to interact with the feature store) provides the same APIs for external feature groups as for cached feature groups.\n",
    "\n",
    "An external (on-demand) feature group can be defined as follow:"
   ]
  },
  {
   "cell_type": "code",
   "execution_count": 11,
   "metadata": {},
   "outputs": [],
   "source": [
    "# Retrieve the storage connector defined before\n",
    "redshift_conn = fs.get_storage_connector(\"telco_redshift_cluster\")"
   ]
  },
  {
   "cell_type": "code",
   "execution_count": 3,
   "metadata": {},
   "outputs": [],
   "source": [
    "telco_on_dmd = fs.create_on_demand_feature_group(name=\"telco_redshift\",\n",
    "                                                version=2,\n",
    "                                                query=\"select * from telco\",\n",
    "                                                description=\"On-demand feature group for telecom customer data\",\n",
    "                                                storage_connector=redshift_conn,\n",
    "                                                statistics_config=True)"
   ]
  },
  {
   "cell_type": "code",
   "execution_count": 5,
   "metadata": {},
   "outputs": [],
   "source": [
    "telco_on_dmd.save()"
   ]
  },
  {
   "cell_type": "markdown",
   "metadata": {},
   "source": [
    "<h3 style=\"color: #1EB382;font-weight: bold;\">Engineer features and save to the Feature Store</h3>\n",
    "\n",
    "On-demand feature groups can be used directly as a source for creating training datasets. This is often the case if a company is migrating to Hopsworks and there are already feature engineering pipelines in production writing data to Redshift.\n",
    "\n",
    "This flexibility provided by Hopsworks allows users to hit the ground running from day 1, without having to rewrite their pipelines to take advantage of the benefits the Hopsworks feature store provides."
   ]
  },
  {
   "cell_type": "code",
   "execution_count": 13,
   "metadata": {},
   "outputs": [
    {
     "name": "stdout",
     "output_type": "stream",
     "text": [
      "+-----------+----------------+-------------+-------------+-----+\n",
      "|customer_id|internet_service|phone_service|total_charges|churn|\n",
      "+-----------+----------------+-------------+-------------+-----+\n",
      "| 7590-VHVEG|             DSL|           No|        29.85|   No|\n",
      "| 5575-GNVDE|             DSL|          Yes|       1889.5|   No|\n",
      "| 3668-QPYBK|             DSL|          Yes|       108.15|  Yes|\n",
      "| 7795-CFOCW|             DSL|           No|      1840.75|   No|\n",
      "| 9237-HQITU|     Fiber optic|          Yes|       151.65|  Yes|\n",
      "+-----------+----------------+-------------+-------------+-----+\n",
      "only showing top 5 rows"
     ]
    }
   ],
   "source": [
    "telco_on_dmd.select(['customer_id', 'internet_service', 'phone_service', 'total_charges', 'churn']).show(5)"
   ]
  },
  {
   "cell_type": "markdown",
   "metadata": {},
   "source": [
    "On-demand feature groups can also be joined with cached feature groups in Hopsworks to create training datasets. [This helper guide](https://docs.hopsworks.ai/feature-store-api/latest/generated/query_vs_dataframe/) explains in detail how the HSFS joining APIs work and how they can be used to create training datasets.\n",
    "\n",
    "If, however, Redshift contains raw data that needs to be feature engineered, you can retrieve a Spark DataFrame backed by the Redshift table using the HSFS API."
   ]
  },
  {
   "cell_type": "code",
   "execution_count": 32,
   "metadata": {},
   "outputs": [],
   "source": [
    "spark_df = telco_on_dmd.read()"
   ]
  },
  {
   "cell_type": "code",
   "execution_count": 28,
   "metadata": {},
   "outputs": [],
   "source": [
    "from pyspark.sql.types import DoubleType\n",
    "from pyspark.sql import functions as F\n",
    "from pyspark.ml import Pipeline\n",
    "from pyspark.ml.feature import StringIndexer"
   ]
  },
  {
   "cell_type": "code",
   "execution_count": 48,
   "metadata": {},
   "outputs": [],
   "source": [
    "categoricalColumns = ['gender','senior_citizen','partner','dependents','phone_service','multiple_lines',\n",
    "                      'internet_service', 'online_security', 'online_backup', 'device_protection', 'tech_support',\n",
    "                      'streaming_tv', 'streaming_movies', 'contract', 'paperless_billing', 'payment_method', 'churn']\n",
    "\n",
    "spark_df = spark_df.withColumn(\"total_charges\", F.col(\"total_charges\").cast(DoubleType()))\\\n",
    "                   .fillna(0)\n",
    "\n",
    "stages = [] # stages in our Pipeline\n",
    "output_cols = [('customer_id', 'customer_id')]\n",
    "for categoricalCol in categoricalColumns:\n",
    "    # Category Indexing with StringIndexer\n",
    "    output_col = categoricalCol + \"_Index\"\n",
    "    stringIndexer = StringIndexer(inputCol=categoricalCol, outputCol=output_col)\n",
    "    stages += [stringIndexer]\n",
    "    output_cols += [(categoricalCol, output_col)]\n",
    "\n",
    "pipeline = Pipeline(stages=stages)\n",
    "dataset = pipeline.fit(spark_df).transform(spark_df)\n",
    "telco_fg_df = dataset.selectExpr([\"{} as {}\".format(col[1], col[0]) for col in output_cols])"
   ]
  },
  {
   "cell_type": "code",
   "execution_count": 51,
   "metadata": {},
   "outputs": [
    {
     "name": "stdout",
     "output_type": "stream",
     "text": [
      "+-----------+------+--------------+-------+----------+-------------+--------------+----------------+---------------+-------------+-----------------+------------+------------+----------------+--------+-----------------+--------------+-----+\n",
      "|customer_id|gender|senior_citizen|partner|dependents|phone_service|multiple_lines|internet_service|online_security|online_backup|device_protection|tech_support|streaming_tv|streaming_movies|contract|paperless_billing|payment_method|churn|\n",
      "+-----------+------+--------------+-------+----------+-------------+--------------+----------------+---------------+-------------+-----------------+------------+------------+----------------+--------+-----------------+--------------+-----+\n",
      "| 7590-VHVEG|   1.0|           0.0|    1.0|       0.0|          1.0|           2.0|             1.0|            0.0|          1.0|              0.0|         0.0|         0.0|             0.0|     0.0|              0.0|           0.0|  0.0|\n",
      "| 5575-GNVDE|   0.0|           0.0|    0.0|       0.0|          0.0|           0.0|             1.0|            1.0|          0.0|              1.0|         0.0|         0.0|             0.0|     2.0|              1.0|           1.0|  0.0|\n",
      "| 3668-QPYBK|   0.0|           0.0|    0.0|       0.0|          0.0|           0.0|             1.0|            1.0|          1.0|              0.0|         0.0|         0.0|             0.0|     0.0|              0.0|           1.0|  1.0|\n",
      "| 7795-CFOCW|   0.0|           0.0|    0.0|       0.0|          1.0|           2.0|             1.0|            1.0|          0.0|              1.0|         1.0|         0.0|             0.0|     2.0|              1.0|           2.0|  0.0|\n",
      "| 9237-HQITU|   1.0|           0.0|    0.0|       0.0|          0.0|           0.0|             0.0|            0.0|          0.0|              0.0|         0.0|         0.0|             0.0|     0.0|              0.0|           0.0|  1.0|\n",
      "+-----------+------+--------------+-------+----------+-------------+--------------+----------------+---------------+-------------+-----------------+------------+------------+----------------+--------+-----------------+--------------+-----+\n",
      "only showing top 5 rows"
     ]
    }
   ],
   "source": [
    "telco_fg_df.show(5)"
   ]
  },
  {
   "cell_type": "markdown",
   "metadata": {},
   "source": [
    "Storing feature groups as cached feature groups within Hopsworks provides several benefits over on-demand feature groups. First it allows users to leverage Hudi for incremental ingestion (with ACID properties, ensuring the integrity of the feature group) and time travel capabilities. As new data is ingested, new commits are tracked by Hopsworks allowing users to see what has changed over time. On each commit, statistics are computed and tracked in Hopsworks, allowing users to understand how the data has changed over time.\n",
    "\n",
    "Cached feature groups can also be stored in the online feature store (`online_enabled=True`), thus enabling low latency access to the features using the online feature store API."
   ]
  },
  {
   "cell_type": "code",
   "execution_count": 53,
   "metadata": {},
   "outputs": [],
   "source": [
    "telco_fg = fs.create_feature_group(name=\"telco_customer_features\",\n",
    "                                version=1,\n",
    "                                description=\"Telecom customer features\",\n",
    "                                online_enabled=True,\n",
    "                                time_travel_format=\"HUDI\",\n",
    "                                primary_key=[\"customer_id\"],\n",
    "                                statistics_config=True)"
   ]
  },
  {
   "cell_type": "code",
   "execution_count": null,
   "metadata": {},
   "outputs": [],
   "source": [
    "telco_fg.save(telco_fg_df)"
   ]
  }
 ],
 "metadata": {
  "kernelspec": {
   "display_name": "PySpark",
   "language": "python",
   "name": "pysparkkernel"
  },
  "language_info": {
   "codemirror_mode": {
    "name": "python",
    "version": 3
   },
   "mimetype": "text/x-python",
   "name": "pyspark",
   "pygments_lexer": "python3"
  }
 },
 "nbformat": 4,
 "nbformat_minor": 4
}