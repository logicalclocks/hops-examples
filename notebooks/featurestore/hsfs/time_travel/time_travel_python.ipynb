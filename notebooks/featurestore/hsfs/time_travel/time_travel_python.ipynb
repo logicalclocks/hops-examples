{
 "cells": [
  {
   "cell_type": "markdown",
   "metadata": {},
   "source": [
    "---\n",
    "title: \"Time-Travel with PySpark\"\n",
    "date: 2021-02-24\n",
    "type: technical_note\n",
    "draft: false\n",
    "---"
   ]
  },
  {
   "cell_type": "markdown",
   "metadata": {},
   "source": [
    "# Time travel operations in Hopsworks Feature Store\n",
    "\n",
    "In this notebook we will introduce time travel operations in Hopsworks Feature Store (HSFS). Currently HSFS supports Apache Hudi (http://hudi.apache.org/) a storage abstraction/library for doing **incremental** data ingestion to a Hopsworks Feature Store."
   ]
  },
  {
   "cell_type": "markdown",
   "metadata": {},
   "source": [
    "## Background"
   ]
  },
  {
   "cell_type": "markdown",
   "metadata": {},
   "source": [
    "### Motivation\n",
    "\n",
    "Traditional ETL typically involves taking a snapshot of a production database and doing a full load into a data lake (typically stored on a distributed file system). Using the snapshot approach for ETL is simple since the snapshot is immutable and can be loaded as an atomic unit into the data lake. However, the con of taking this approach to doing data ingestion is that it is *slow*. Even if just a single record have been updated since the last data ingestion, the entire table has to be re-written. If you are working with Big Data (TB or PB size datasets) then this will introduce significant *data latency* and *wasted resources* (majority of the writes when ingesting the snapshot is redundant as most of the records have not been updated since the last ETL step). \n",
    "\n",
    "This motivates the use-case for **incremental** data ingestion. Incremental data ingestion means that only deltas/changelogs since the last ingestion are inserted. With incremental processing, you process data in *mini-batches* and run the spark job frequently. The incremental model makes better use of resources and makes it easier to do complex processing and joins.\n",
    "\n",
    "In addition data is rarely immutable in practice. A bank transaction might be reverted, a customer might change his or her home adress, and a customer review might be updated, to give a few examples. This is where Hudi comes into the picture. Hudi stands for `Hadoop Upserts anD Incrementals` and brings two new primitives for data engineering on distributed file systems (in addition to append/read):\n",
    "\n",
    "- `Upsert`: the ability to do insertions (appends) and updates efficiently. \n",
    "- `Incremental reads`: the ability to read datasets incrementally using the notion of \"commits\"."
   ]
  },
  {
   "cell_type": "markdown",
   "metadata": {},
   "source": [
    "### How Hopsworks Feature Store time travel operations can be used for ML and Feature Pipelines\n",
    "\n",
    "Hudi is integrated in the Hopsworks Feature Store for doing incremental feature computation and for point-in-time correctness and backfilling of feature data.\n",
    "\n",
    "![Incremental Feature Engineering](../../images/featurestore_incremental_pull.png \"Incremetal Feature Engineering\")"
   ]
  },
  {
   "cell_type": "markdown",
   "metadata": {},
   "source": [
    "## Examples"
   ]
  },
  {
   "cell_type": "markdown",
   "metadata": {},
   "source": [
    "### Create HUDI time travel enabled feature group and Bulk Insert Sample Dataset\n",
    "\n",
    "For this demo we will use small sample of the Agarwal Generator that is a widely used dataset. It contains the hypothetical data of people applying for a loan. `Rakesh Agrawal, Tomasz Imielinksi, and Arun Swami, \"Database Mining: A Performance Perspective\", IEEE Transactions on Knowledge and Data Engineering, 5(6), December 1993. <br/><br/>`\n",
    "\n",
    "##### For simplicity of demo purposes we will split Agarwal dataset into 3 freature groups and manualy create datasets: \n",
    "* `economy_fg` with customer id, salary, loan, value of house, age of house, commission and type of car features; \n",
    "* `demographic_fg` with customer id, age, education level, zip code,\n",
    "* `class_fg` which will contain labels wether loan was approved `class B` or rejected `class A`."
   ]
  },
  {
   "cell_type": "markdown",
   "metadata": {},
   "source": [
    "### Importing necessary libraries "
   ]
  },
  {
   "cell_type": "code",
   "execution_count": 1,
   "metadata": {},
   "outputs": [
    {
     "name": "stdout",
     "output_type": "stream",
     "text": [
      "Starting Spark application\n"
     ]
    },
    {
     "data": {
      "text/html": [
       "<table>\n",
       "<tr><th>ID</th><th>YARN Application ID</th><th>Kind</th><th>State</th><th>Spark UI</th><th>Driver log</th></tr><tr><td>7</td><td>application_1633615577994_0008</td><td>pyspark</td><td>idle</td><td><a target=\"_blank\" href=\"/hopsworks-api/yarnui/https://hopsworks0.logicalclocks.com:8089/proxy/application_1633615577994_0008/\">Link</a></td><td><a target=\"_blank\" href=\"/hopsworks-api/yarnui/https://hopsworks0.logicalclocks.com:8044/node/containerlogs/container_1633615577994_0008_01_000001/onlinetf__meb10000\">Link</a></td></tr></table>"
      ],
      "text/plain": [
       "<IPython.core.display.HTML object>"
      ]
     },
     "metadata": {},
     "output_type": "display_data"
    },
    {
     "name": "stdout",
     "output_type": "stream",
     "text": [
      "SparkSession available as 'spark'.\n",
      "Connected. Call `.close()` to terminate connection gracefully."
     ]
    }
   ],
   "source": [
    "import hsfs\n",
    "import datetime\n",
    "from pyspark.sql import DataFrame, Row\n",
    "from pyspark.sql.types import *\n",
    "from pyspark.sql.functions import unix_timestamp, from_unixtime\n",
    "\n",
    "connection = hsfs.connection()\n",
    "# get a reference to the feature store, you can access also shared feature stores by providing the feature store name\n",
    "fs = connection.get_feature_store();"
   ]
  },
  {
   "cell_type": "code",
   "execution_count": 2,
   "metadata": {},
   "outputs": [],
   "source": [
    "economy_fg_schema = StructType([\n",
    "  StructField(\"id\", IntegerType(), True),\n",
    "  StructField(\"salary\", FloatType(), True),\n",
    "  StructField(\"commission\", FloatType(), True),\n",
    "  StructField(\"car\", StringType(), True), \n",
    "  StructField(\"hvalue\", FloatType(), True),      \n",
    "  StructField(\"hyears\", IntegerType(), True),     \n",
    "  StructField(\"loan\", FloatType(), True),\n",
    "  StructField(\"year\", IntegerType(), True)    \n",
    "])\n",
    "\n",
    "demographic_fg_schema = StructType([\n",
    "  StructField(\"id\", IntegerType(), True),\n",
    "  StructField(\"age\", IntegerType(), True),\n",
    "  StructField(\"elevel\", StringType(), True),   \n",
    "  StructField(\"zipcode\", StringType(), True)     \n",
    "])\n",
    "\n",
    "class_fg_schema =  StructType([\n",
    "  StructField(\"id\", IntegerType(), True),\n",
    "  StructField(\"class\", StringType(), True),\n",
    "  StructField(\"year\", IntegerType(), True)              \n",
    "])"
   ]
  },
  {
   "cell_type": "markdown",
   "metadata": {},
   "source": [
    "### Create spark dataframes for each Feature groups"
   ]
  },
  {
   "cell_type": "code",
   "execution_count": 3,
   "metadata": {},
   "outputs": [],
   "source": [
    "economy_bulk_insert_data = [\n",
    "    Row(1, 110499.73, 0.0,  \"car15\",  235000.0, 30, 354724.18, 2020),\n",
    "    Row(2, 140893.77, 0.0,  \"car20\",  135000.0, 2, 395015.33, 2020),\n",
    "    Row(3, 119159.65, 0.0,  \"car1\", 145000.0, 22, 122025.08, 2020),\n",
    "    Row(4, 20000.0, 52593.63, \"car9\", 185000.0, 30, 99629.62, 2020)    \n",
    "]\n",
    "\n",
    "economy_bulk_insert_df = spark.createDataFrame(economy_bulk_insert_data, economy_fg_schema)"
   ]
  },
  {
   "cell_type": "code",
   "execution_count": 4,
   "metadata": {},
   "outputs": [
    {
     "name": "stdout",
     "output_type": "stream",
     "text": [
      "+---+---------+----------+-----+--------+------+---------+----+\n",
      "| id|   salary|commission|  car|  hvalue|hyears|     loan|year|\n",
      "+---+---------+----------+-----+--------+------+---------+----+\n",
      "|  1|110499.73|       0.0|car15|235000.0|    30| 354724.2|2020|\n",
      "|  2|140893.77|       0.0|car20|135000.0|     2|395015.34|2020|\n",
      "|  3|119159.65|       0.0| car1|145000.0|    22|122025.08|2020|\n",
      "|  4|  20000.0|  52593.63| car9|185000.0|    30| 99629.62|2020|\n",
      "+---+---------+----------+-----+--------+------+---------+----+"
     ]
    }
   ],
   "source": [
    "economy_bulk_insert_df.show()"
   ]
  },
  {
   "cell_type": "code",
   "execution_count": 5,
   "metadata": {},
   "outputs": [],
   "source": [
    "demographic_bulk_insert_data = [\n",
    "    Row(1, 54, \"level3\", \"zipcode5\"),\n",
    "    Row(2, 44, \"level4\", \"zipcode8\"),\n",
    "    Row(3, 49, \"level2\", \"zipcode4\"),\n",
    "    Row(4, 56, \"level0\", \"zipcode2\")    \n",
    "]\n",
    "\n",
    "demographic_bulk_insert_df = spark.createDataFrame(demographic_bulk_insert_data, demographic_fg_schema)"
   ]
  },
  {
   "cell_type": "code",
   "execution_count": 6,
   "metadata": {},
   "outputs": [
    {
     "name": "stdout",
     "output_type": "stream",
     "text": [
      "+---+---+------+--------+\n",
      "| id|age|elevel| zipcode|\n",
      "+---+---+------+--------+\n",
      "|  1| 54|level3|zipcode5|\n",
      "|  2| 44|level4|zipcode8|\n",
      "|  3| 49|level2|zipcode4|\n",
      "|  4| 56|level0|zipcode2|\n",
      "+---+---+------+--------+"
     ]
    }
   ],
   "source": [
    "demographic_bulk_insert_df.show()"
   ]
  },
  {
   "cell_type": "code",
   "execution_count": 7,
   "metadata": {},
   "outputs": [],
   "source": [
    "class_bulk_insert_data = [\n",
    "    Row(1, \"groupB\", 2020),\n",
    "    Row(2, \"groupB\", 2020),\n",
    "    Row(3, \"groupB\", 2020),\n",
    "    Row(4, \"groupB\", 2020)    \n",
    "]\n",
    "\n",
    "class_bulk_insert_df = spark.createDataFrame(class_bulk_insert_data, class_fg_schema)"
   ]
  },
  {
   "cell_type": "code",
   "execution_count": 8,
   "metadata": {},
   "outputs": [
    {
     "name": "stdout",
     "output_type": "stream",
     "text": [
      "+---+------+----+\n",
      "| id| class|year|\n",
      "+---+------+----+\n",
      "|  1|groupB|2020|\n",
      "|  2|groupB|2020|\n",
      "|  3|groupB|2020|\n",
      "|  4|groupB|2020|\n",
      "+---+------+----+"
     ]
    }
   ],
   "source": [
    "class_bulk_insert_df.show()"
   ]
  },
  {
   "cell_type": "markdown",
   "metadata": {},
   "source": [
    "### Create feature groups \n",
    "\n",
    "Now We will create each feature group and enable time travel format `HUDI`. In Hopsworks Feature Store `primary` and `partition` keys are required to be privided for HUDI enabled feature groups."
   ]
  },
  {
   "cell_type": "code",
   "execution_count": 9,
   "metadata": {},
   "outputs": [],
   "source": [
    "economy_fg = fs.create_feature_group(\n",
    "    name = \"economy_fg\", \n",
    "    description = \"Hudi Household Economy Feature Group\",\n",
    "    version=2,\n",
    "    primary_key = [\"id\"], \n",
    "    partition_key = [\"year\"], \n",
    "    hudi_precombine_key = \"id\", \n",
    "    time_travel_format = \"HUDI\",\n",
    "    online_enabled=True \n",
    ")"
   ]
  },
  {
   "cell_type": "code",
   "execution_count": 10,
   "metadata": {},
   "outputs": [],
   "source": [
    "demography_fg = fs.create_feature_group(\n",
    "    name = \"demography_fg\",\n",
    "    description = \"Hudi Demographic Feature Group\",\n",
    "    version = 2,\n",
    "    primary_key = [\"id\"],\n",
    "    partition_key = [\"zipcode\"],\n",
    "    time_travel_format=\"HUDI\",\n",
    "    online_enabled=True     \n",
    ")"
   ]
  },
  {
   "cell_type": "code",
   "execution_count": 11,
   "metadata": {},
   "outputs": [],
   "source": [
    "class_fg = fs.create_feature_group(\n",
    "    name = \"class_fg\", \n",
    "    description = \"Hudi Class Feature Group\", \n",
    "    version = 2,\n",
    "    primary_key = [\"id\"],\n",
    "    hudi_precombine_key = \"year\",\n",
    "    time_travel_format = \"HUDI\",\n",
    "    online_enabled=True     \n",
    ")"
   ]
  },
  {
   "cell_type": "markdown",
   "metadata": {},
   "source": [
    "### Define user provided hudi options \n",
    "By default, Hudi tends to over-partition input. Recommended shuffle parallelism for `hoodie.[insert|upsert|bulkinsert].shuffle.parallelism` is atleast input_data_size/500MB"
   ]
  },
  {
   "cell_type": "code",
   "execution_count": 12,
   "metadata": {},
   "outputs": [],
   "source": [
    "extra_hudi_options = {\n",
    "    \"hoodie.bulkinsert.shuffle.parallelism\":\"1\", \n",
    "    \"hoodie.insert.shuffle.parallelism\":\"1\", \n",
    "    \"hoodie.upsert.shuffle.parallelism\":\"1\",\n",
    "    \"hoodie.parquet.compression.ratio\":\"0.5\"\n",
    "} "
   ]
  },
  {
   "cell_type": "markdown",
   "metadata": {},
   "source": [
    "### Bulk insert data into the feature group\n",
    "Since we have not yet saved any data into newly created feature groups we will use Apache hudi terminology and `Bulk Insert` data. In HSFS its just issuing `save` method.  "
   ]
  },
  {
   "cell_type": "code",
   "execution_count": 13,
   "metadata": {},
   "outputs": [],
   "source": [
    "economy_fg.save(economy_bulk_insert_df,write_options=extra_hudi_options)"
   ]
  },
  {
   "cell_type": "code",
   "execution_count": 14,
   "metadata": {},
   "outputs": [],
   "source": [
    "demography_fg.save(demographic_bulk_insert_df,write_options=extra_hudi_options)"
   ]
  },
  {
   "cell_type": "code",
   "execution_count": 15,
   "metadata": {},
   "outputs": [],
   "source": [
    "class_fg.save(class_bulk_insert_df,write_options=extra_hudi_options)"
   ]
  },
  {
   "cell_type": "markdown",
   "metadata": {},
   "source": [
    "#### Hopsworks Feature Store Commits\n",
    "\n",
    "If you thoroughly followed this demo you probably noticed that Hopsworks Feature Store uses Apache Hudi as its time travel engine. Hudi introduces the notion of `commits` which means that it supports certain properties of traditional databases such as single-table transactions, snapshot isolation, atomic upserts and savepoints for data recovery. If an ingestion fails for some reason, no partial results will be written rather the ingestion will be roll-backed. The commit is implemented using atomic `mv` operation in HDFS. \n",
    "\n",
    "Currently, feature groups that we created contain only a single commit each as we've just done a single bulk-insert. Lets explore time line of `economy_fg`:"
   ]
  },
  {
   "cell_type": "code",
   "execution_count": 16,
   "metadata": {},
   "outputs": [
    {
     "name": "stdout",
     "output_type": "stream",
     "text": [
      "(1633683625000, {'committedOn': '20211008090025', 'rowsUpdated': 0, 'rowsInserted': 4, 'rowsDeleted': 0})"
     ]
    }
   ],
   "source": [
    "for item in economy_fg.commit_details().items():\n",
    "    print(item)"
   ]
  },
  {
   "cell_type": "markdown",
   "metadata": {},
   "source": [
    "### Inspect results"
   ]
  },
  {
   "cell_type": "code",
   "execution_count": 17,
   "metadata": {},
   "outputs": [
    {
     "name": "stdout",
     "output_type": "stream",
     "text": [
      "+----+---+---------+----------+-----+--------+------+---------+\n",
      "|year| id|   salary|commission|  car|  hvalue|hyears|     loan|\n",
      "+----+---+---------+----------+-----+--------+------+---------+\n",
      "|2020|  1|110499.73|       0.0|car15|235000.0|    30| 354724.2|\n",
      "|2020|  2|140893.77|       0.0|car20|135000.0|     2|395015.34|\n",
      "|2020|  3|119159.65|       0.0| car1|145000.0|    22|122025.08|\n",
      "|2020|  4|  20000.0|  52593.63| car9|185000.0|    30| 99629.62|\n",
      "+----+---+---------+----------+-----+--------+------+---------+"
     ]
    }
   ],
   "source": [
    "economy_fg.read().show()"
   ]
  },
  {
   "cell_type": "code",
   "execution_count": 18,
   "metadata": {},
   "outputs": [
    {
     "name": "stdout",
     "output_type": "stream",
     "text": [
      "+--------+---+---+------+\n",
      "| zipcode| id|age|elevel|\n",
      "+--------+---+---+------+\n",
      "|zipcode4|  3| 49|level2|\n",
      "|zipcode8|  2| 44|level4|\n",
      "|zipcode2|  4| 56|level0|\n",
      "|zipcode5|  1| 54|level3|\n",
      "+--------+---+---+------+"
     ]
    }
   ],
   "source": [
    "demography_fg.read().show()"
   ]
  },
  {
   "cell_type": "code",
   "execution_count": 19,
   "metadata": {},
   "outputs": [
    {
     "name": "stdout",
     "output_type": "stream",
     "text": [
      "+---+------+----+\n",
      "| id| class|year|\n",
      "+---+------+----+\n",
      "|  1|groupB|2020|\n",
      "|  2|groupB|2020|\n",
      "|  3|groupB|2020|\n",
      "|  4|groupB|2020|\n",
      "+---+------+----+"
     ]
    }
   ],
   "source": [
    "class_fg.read().show()"
   ]
  },
  {
   "cell_type": "markdown",
   "metadata": {},
   "source": [
    "### Upsert new data into a Feature Group\n",
    "\n",
    "So far we have not done anything time travel special, we simply did a regular bulk-insert of some data into a Hudi enabled feature group. We could have done the same thing using just regular None Hudi enabled Feature group. However now we will look into how we can do upserts, and how Hopsworks Feature store enables us to do this efficiently."
   ]
  },
  {
   "cell_type": "markdown",
   "metadata": {},
   "source": [
    "#### Generate Sample Upserts Data"
   ]
  },
  {
   "cell_type": "code",
   "execution_count": 20,
   "metadata": {},
   "outputs": [
    {
     "name": "stdout",
     "output_type": "stream",
     "text": [
      "+---+---------+----------+-----+--------+------+---------+----+\n",
      "| id|   salary|commission|  car|  hvalue|hyears|     loan|year|\n",
      "+---+---------+----------+-----+--------+------+---------+----+\n",
      "|  1|120499.73|       0.0|car17|205000.0|    30| 564724.2|2020|\n",
      "|  2|160893.77|       0.0|car10|179000.0|     2|455015.34|2020|\n",
      "|  5| 93956.32|       0.0|car15|135000.0|     1| 458679.8|2020|\n",
      "|  6| 41365.43|  52809.15| car7|135000.0|    19| 216839.7|2020|\n",
      "|  7| 94805.61|       0.0|car17|135000.0|    23|233216.06|2020|\n",
      "+---+---------+----------+-----+--------+------+---------+----+"
     ]
    }
   ],
   "source": [
    "economy_upsert_data = [\n",
    "    Row(1, 120499.73, 0.0, \"car17\", 205000.0, 30, 564724.18, 2020),    #update\n",
    "    Row(2, 160893.77, 0.0, \"car10\", 179000.0, 2, 455015.33, 2020),     #update\n",
    "    Row(5, 93956.32, 0.0, \"car15\",  135000.0, 1, 458679.82, 2020),     #insert\n",
    "    Row(6, 41365.43, 52809.15, \"car7\", 135000.0, 19, 216839.71, 2020), #insert\n",
    "    Row(7, 94805.61, 0.0, \"car17\", 135000.0, 23, 233216.07, 2020)      #insert    \n",
    "]\n",
    "\n",
    "economy_upsert_df = spark.createDataFrame(economy_upsert_data, economy_fg_schema)\n",
    "\n",
    "economy_upsert_df.show(5)"
   ]
  },
  {
   "cell_type": "code",
   "execution_count": 21,
   "metadata": {},
   "outputs": [
    {
     "name": "stdout",
     "output_type": "stream",
     "text": [
      "+---+---+------+--------+\n",
      "| id|age|elevel| zipcode|\n",
      "+---+---+------+--------+\n",
      "|  2| 44|level1|zipcode8|\n",
      "|  5| 59|level1|zipcode2|\n",
      "|  6| 71|level2|zipcode3|\n",
      "|  7| 32|level1|zipcode2|\n",
      "+---+---+------+--------+"
     ]
    }
   ],
   "source": [
    "demographic_upsert_data = [\n",
    "    Row(2, 44, \"level1\", \"zipcode8\"),     #update\n",
    "    Row(5, 59, \"level1\", \"zipcode2\"),     #insert\n",
    "    Row(6, 71, \"level2\", \"zipcode3\"),     #insert\n",
    "    Row(7, 32, \"level1\", \"zipcode2\")      #insert    \n",
    "]\n",
    "\n",
    "demographic_upsert_df = spark.createDataFrame(demographic_upsert_data, demographic_fg_schema)\n",
    "\n",
    "demographic_upsert_df.show()"
   ]
  },
  {
   "cell_type": "code",
   "execution_count": 22,
   "metadata": {},
   "outputs": [
    {
     "name": "stdout",
     "output_type": "stream",
     "text": [
      "+---+------+----+\n",
      "| id| class|year|\n",
      "+---+------+----+\n",
      "|  1|groupA|2020|\n",
      "|  5|groupA|2020|\n",
      "|  6|groupA|2020|\n",
      "|  7|groupA|2020|\n",
      "+---+------+----+"
     ]
    }
   ],
   "source": [
    "class_upsert_data = [\n",
    "    Row(1, \"groupA\", 2020), #update\n",
    "    Row(5, \"groupA\", 2020), #insert\n",
    "    Row(6, \"groupA\", 2020), #insert\n",
    "    Row(7, \"groupA\", 2020)  #insert    \n",
    "] \n",
    "\n",
    "class_upsert_df = spark.createDataFrame(class_upsert_data, class_fg_schema)\n",
    "\n",
    "class_upsert_df.show()"
   ]
  },
  {
   "cell_type": "code",
   "execution_count": 23,
   "metadata": {},
   "outputs": [
    {
     "name": "stdout",
     "output_type": "stream",
     "text": [
      "+---+---------+----------+-----+--------+------+---------+----+\n",
      "| id|   salary|commission|  car|  hvalue|hyears|     loan|year|\n",
      "+---+---------+----------+-----+--------+------+---------+----+\n",
      "|  1|120499.73|       0.0|car17|205000.0|    30| 564724.2|2020|\n",
      "|  2|160893.77|       0.0|car10|179000.0|     2|455015.34|2020|\n",
      "|  5| 93956.32|       0.0|car15|135000.0|     1| 458679.8|2020|\n",
      "|  6| 41365.43|  52809.15| car7|135000.0|    19| 216839.7|2020|\n",
      "|  7| 94805.61|       0.0|car17|135000.0|    23|233216.06|2020|\n",
      "+---+---------+----------+-----+--------+------+---------+----+"
     ]
    }
   ],
   "source": [
    "economy_upsert_df.show()"
   ]
  },
  {
   "cell_type": "code",
   "execution_count": 24,
   "metadata": {},
   "outputs": [
    {
     "name": "stdout",
     "output_type": "stream",
     "text": [
      "+----+---+---------+----------+-----+--------+------+---------+\n",
      "|year| id|   salary|commission|  car|  hvalue|hyears|     loan|\n",
      "+----+---+---------+----------+-----+--------+------+---------+\n",
      "|2020|  1|110499.73|       0.0|car15|235000.0|    30| 354724.2|\n",
      "|2020|  2|140893.77|       0.0|car20|135000.0|     2|395015.34|\n",
      "|2020|  3|119159.65|       0.0| car1|145000.0|    22|122025.08|\n",
      "|2020|  4|  20000.0|  52593.63| car9|185000.0|    30| 99629.62|\n",
      "+----+---+---------+----------+-----+--------+------+---------+"
     ]
    }
   ],
   "source": [
    "economy_fg.read().show(5)"
   ]
  },
  {
   "cell_type": "markdown",
   "metadata": {},
   "source": [
    "#### Make the Upsert using Hopsworks Feature Store API\n",
    "In Hopsworks Feature Store issuing `insert` method on Apache Hudi enabled feature group will by default perform `Upsert` operation which means to either insert a new row, or on the basis of `parimary` and `partition` keys update already existing one."
   ]
  },
  {
   "cell_type": "code",
   "execution_count": 25,
   "metadata": {},
   "outputs": [],
   "source": [
    "economy_fg.insert(economy_upsert_df,write_options=extra_hudi_options)"
   ]
  },
  {
   "cell_type": "code",
   "execution_count": 26,
   "metadata": {},
   "outputs": [],
   "source": [
    "demography_fg.insert(demographic_upsert_df,write_options=extra_hudi_options)"
   ]
  },
  {
   "cell_type": "code",
   "execution_count": 27,
   "metadata": {},
   "outputs": [],
   "source": [
    "class_fg.insert(class_upsert_df,write_options=extra_hudi_options)"
   ]
  },
  {
   "cell_type": "markdown",
   "metadata": {},
   "source": [
    "#### Inspect the results\n",
    "\n",
    "Notice that although Hudi enabled Feature group stores the old value of the records from the previous commit, when you query it will only return the values of the latest commit."
   ]
  },
  {
   "cell_type": "code",
   "execution_count": 28,
   "metadata": {},
   "outputs": [
    {
     "name": "stdout",
     "output_type": "stream",
     "text": [
      "+----+---+---------+----------+-----+--------+------+---------+\n",
      "|year| id|   salary|commission|  car|  hvalue|hyears|     loan|\n",
      "+----+---+---------+----------+-----+--------+------+---------+\n",
      "|2020|  1|120499.73|       0.0|car17|205000.0|    30| 564724.2|\n",
      "|2020|  2|160893.77|       0.0|car10|179000.0|     2|455015.34|\n",
      "|2020|  3|119159.65|       0.0| car1|145000.0|    22|122025.08|\n",
      "|2020|  4|  20000.0|  52593.63| car9|185000.0|    30| 99629.62|\n",
      "|2020|  5| 93956.32|       0.0|car15|135000.0|     1| 458679.8|\n",
      "|2020|  6| 41365.43|  52809.15| car7|135000.0|    19| 216839.7|\n",
      "|2020|  7| 94805.61|       0.0|car17|135000.0|    23|233216.06|\n",
      "+----+---+---------+----------+-----+--------+------+---------+"
     ]
    }
   ],
   "source": [
    "economy_fg.read().show()"
   ]
  },
  {
   "cell_type": "code",
   "execution_count": 29,
   "metadata": {},
   "outputs": [
    {
     "name": "stdout",
     "output_type": "stream",
     "text": [
      "+--------+---+---+------+\n",
      "| zipcode| id|age|elevel|\n",
      "+--------+---+---+------+\n",
      "|zipcode2|  4| 56|level0|\n",
      "|zipcode2|  5| 59|level1|\n",
      "|zipcode2|  7| 32|level1|\n",
      "|zipcode3|  6| 71|level2|\n",
      "|zipcode8|  2| 44|level1|\n",
      "|zipcode4|  3| 49|level2|\n",
      "|zipcode5|  1| 54|level3|\n",
      "+--------+---+---+------+"
     ]
    }
   ],
   "source": [
    "demography_fg.read().show()"
   ]
  },
  {
   "cell_type": "code",
   "execution_count": 30,
   "metadata": {},
   "outputs": [
    {
     "name": "stdout",
     "output_type": "stream",
     "text": [
      "+---+------+----+\n",
      "| id| class|year|\n",
      "+---+------+----+\n",
      "|  1|groupA|2020|\n",
      "|  2|groupB|2020|\n",
      "|  3|groupB|2020|\n",
      "|  4|groupB|2020|\n",
      "|  5|groupA|2020|\n",
      "|  6|groupA|2020|\n",
      "|  7|groupA|2020|\n",
      "+---+------+----+"
     ]
    }
   ],
   "source": [
    "class_fg.read().show()"
   ]
  },
  {
   "cell_type": "markdown",
   "metadata": {},
   "source": [
    "#### Inspect the updated commit timeline of `economyFg`"
   ]
  },
  {
   "cell_type": "code",
   "execution_count": 31,
   "metadata": {},
   "outputs": [
    {
     "name": "stdout",
     "output_type": "stream",
     "text": [
      "(1633683767000, {'committedOn': '20211008090247', 'rowsUpdated': 2, 'rowsInserted': 3, 'rowsDeleted': 0})\n",
      "(1633683625000, {'committedOn': '20211008090025', 'rowsUpdated': 0, 'rowsInserted': 4, 'rowsDeleted': 0})"
     ]
    }
   ],
   "source": [
    "for item in economy_fg.commit_details().items():\n",
    "    print(item)"
   ]
  },
  {
   "cell_type": "code",
   "execution_count": 32,
   "metadata": {},
   "outputs": [
    {
     "name": "stdout",
     "output_type": "stream",
     "text": [
      "(1633683788000, {'committedOn': '20211008090308', 'rowsUpdated': 1, 'rowsInserted': 3, 'rowsDeleted': 0})\n",
      "(1633683691000, {'committedOn': '20211008090131', 'rowsUpdated': 0, 'rowsInserted': 4, 'rowsDeleted': 0})"
     ]
    }
   ],
   "source": [
    "for item in demography_fg.commit_details().items():\n",
    "    print(item)"
   ]
  },
  {
   "cell_type": "code",
   "execution_count": 33,
   "metadata": {},
   "outputs": [
    {
     "name": "stdout",
     "output_type": "stream",
     "text": [
      "(1633683814000, {'committedOn': '20211008090334', 'rowsUpdated': 1, 'rowsInserted': 3, 'rowsDeleted': 0})\n",
      "(1633683717000, {'committedOn': '20211008090157', 'rowsUpdated': 0, 'rowsInserted': 4, 'rowsDeleted': 0})"
     ]
    }
   ],
   "source": [
    "for item in class_fg.commit_details().items():\n",
    "    print(item)"
   ]
  },
  {
   "cell_type": "markdown",
   "metadata": {},
   "source": [
    "### Lets make one more commit to better demostrate time travel capabilities of Hopsworks Feature Store"
   ]
  },
  {
   "cell_type": "code",
   "execution_count": 34,
   "metadata": {},
   "outputs": [
    {
     "name": "stdout",
     "output_type": "stream",
     "text": [
      "+---+---------+----------+-----+--------+------+---------+----+\n",
      "| id|   salary|commission|  car|  hvalue|hyears|     loan|year|\n",
      "+---+---------+----------+-----+--------+------+---------+----+\n",
      "|  8| 64410.62|  39884.39|car20|125000.0|     6|350707.38|2020|\n",
      "|  9|128298.82|       0.0|car19|135000.0|    12| 20768.06|2020|\n",
      "| 10|100806.92|       0.0| car8|135000.0|     6|293106.66|2020|\n",
      "+---+---------+----------+-----+--------+------+---------+----+"
     ]
    }
   ],
   "source": [
    "economy_upsert_data = [\n",
    "    Row(8, 64410.62, 39884.39, \"car20\",  125000.0, 6, 350707.38, 2020), #insert\n",
    "    Row(9, 128298.82, 0.0, \"car19\",  135000.0, 12, 20768.06, 2020),     #insert\n",
    "    Row(10,100806.92, 0.0, \"car8\", 135000.0, 6, 293106.65, 2020)        #insert       \n",
    "]\n",
    "\n",
    "economy_upsert_df = spark.createDataFrame(economy_upsert_data, economy_fg_schema)\n",
    "\n",
    "economy_upsert_df.show(5)"
   ]
  },
  {
   "cell_type": "code",
   "execution_count": 35,
   "metadata": {},
   "outputs": [
    {
     "name": "stdout",
     "output_type": "stream",
     "text": [
      "+---+---+------+--------+\n",
      "| id|age|elevel| zipcode|\n",
      "+---+---+------+--------+\n",
      "|  8| 33|level2|zipcode1|\n",
      "|  9| 32|level1|zipcode3|\n",
      "| 10| 58|level2|zipcode5|\n",
      "+---+---+------+--------+"
     ]
    }
   ],
   "source": [
    "demographic_upsert_data = [\n",
    "    Row(8, 33, \"level2\", \"zipcode1\"),     #insert\n",
    "    Row(9, 32, \"level1\", \"zipcode3\"),     #insert\n",
    "    Row(10, 58, \"level2\", \"zipcode5\")     #insert        \n",
    "]\n",
    "\n",
    "demographic_upsert_df = spark.createDataFrame(demographic_upsert_data, demographic_fg_schema)\n",
    "\n",
    "demographic_upsert_df.show(5)"
   ]
  },
  {
   "cell_type": "code",
   "execution_count": 36,
   "metadata": {},
   "outputs": [
    {
     "name": "stdout",
     "output_type": "stream",
     "text": [
      "+---+------+----+\n",
      "| id| class|year|\n",
      "+---+------+----+\n",
      "|  8|groupA|2020|\n",
      "|  9|groupA|2020|\n",
      "| 10|groupB|2020|\n",
      "+---+------+----+"
     ]
    }
   ],
   "source": [
    "class_upsert_data = [\n",
    "    Row(8, \"groupA\", 2020), #insert\n",
    "    Row(9, \"groupA\", 2020), #insert\n",
    "    Row(10, \"groupB\", 2020) #insert        \n",
    "]\n",
    "\n",
    "class_upsert_df = spark.createDataFrame(class_upsert_data, class_fg_schema)\n",
    "\n",
    "class_upsert_df.show(5)"
   ]
  },
  {
   "cell_type": "code",
   "execution_count": 37,
   "metadata": {},
   "outputs": [],
   "source": [
    "economy_fg.insert(economy_upsert_df,write_options=extra_hudi_options)"
   ]
  },
  {
   "cell_type": "code",
   "execution_count": 38,
   "metadata": {},
   "outputs": [],
   "source": [
    "demography_fg.insert(demographic_upsert_df,write_options=extra_hudi_options)"
   ]
  },
  {
   "cell_type": "code",
   "execution_count": 39,
   "metadata": {},
   "outputs": [],
   "source": [
    "class_fg.insert(class_upsert_df,write_options=extra_hudi_options)"
   ]
  },
  {
   "cell_type": "markdown",
   "metadata": {},
   "source": [
    "### Time Travel Queries\n",
    "When `read` method is issued on `FeatureGroup` object, whithout any aparameters, most recent view of the Feature group will be returned. "
   ]
  },
  {
   "cell_type": "code",
   "execution_count": 40,
   "metadata": {},
   "outputs": [
    {
     "name": "stdout",
     "output_type": "stream",
     "text": [
      "+----+---+---------+----------+-----+--------+------+---------+\n",
      "|year| id|   salary|commission|  car|  hvalue|hyears|     loan|\n",
      "+----+---+---------+----------+-----+--------+------+---------+\n",
      "|2020|  1|120499.73|       0.0|car17|205000.0|    30| 564724.2|\n",
      "|2020|  2|160893.77|       0.0|car10|179000.0|     2|455015.34|\n",
      "|2020|  3|119159.65|       0.0| car1|145000.0|    22|122025.08|\n",
      "|2020|  4|  20000.0|  52593.63| car9|185000.0|    30| 99629.62|\n",
      "|2020|  5| 93956.32|       0.0|car15|135000.0|     1| 458679.8|\n",
      "|2020|  6| 41365.43|  52809.15| car7|135000.0|    19| 216839.7|\n",
      "|2020|  7| 94805.61|       0.0|car17|135000.0|    23|233216.06|\n",
      "|2020|  8| 64410.62|  39884.39|car20|125000.0|     6|350707.38|\n",
      "|2020|  9|128298.82|       0.0|car19|135000.0|    12| 20768.06|\n",
      "|2020| 10|100806.92|       0.0| car8|135000.0|     6|293106.66|\n",
      "+----+---+---------+----------+-----+--------+------+---------+"
     ]
    }
   ],
   "source": [
    "economy_fg.read().show()"
   ]
  },
  {
   "cell_type": "markdown",
   "metadata": {},
   "source": [
    "Using the timeline metadata we can inspect the value of a table at a specific point in time, as well as pull changes incrementally."
   ]
  },
  {
   "cell_type": "code",
   "execution_count": 41,
   "metadata": {},
   "outputs": [
    {
     "name": "stdout",
     "output_type": "stream",
     "text": [
      "(1633683839000, {'committedOn': '20211008090359', 'rowsUpdated': 0, 'rowsInserted': 3, 'rowsDeleted': 0})\n",
      "(1633683767000, {'committedOn': '20211008090247', 'rowsUpdated': 2, 'rowsInserted': 3, 'rowsDeleted': 0})\n",
      "(1633683625000, {'committedOn': '20211008090025', 'rowsUpdated': 0, 'rowsInserted': 4, 'rowsDeleted': 0})"
     ]
    }
   ],
   "source": [
    "for item in economy_fg.commit_details().items():\n",
    "    print(item)\n",
    "\n",
    "commit_timestamps = [economy_fg.commit_details()[c]['committedOn'] for c in sorted(economy_fg.commit_details().keys())]"
   ]
  },
  {
   "cell_type": "code",
   "execution_count": 42,
   "metadata": {},
   "outputs": [
    {
     "name": "stdout",
     "output_type": "stream",
     "text": [
      "+----+---+---------+----------+-----+--------+------+---------+\n",
      "|year| id|   salary|commission|  car|  hvalue|hyears|     loan|\n",
      "+----+---+---------+----------+-----+--------+------+---------+\n",
      "|2020|  1|110499.73|       0.0|car15|235000.0|    30| 354724.2|\n",
      "|2020|  2|140893.77|       0.0|car20|135000.0|     2|395015.34|\n",
      "|2020|  3|119159.65|       0.0| car1|145000.0|    22|122025.08|\n",
      "|2020|  4|  20000.0|  52593.63| car9|185000.0|    30| 99629.62|\n",
      "+----+---+---------+----------+-----+--------+------+---------+"
     ]
    }
   ],
   "source": [
    "#pull 1st commit\n",
    "economy_fg.read(commit_timestamps[0]).show()"
   ]
  },
  {
   "cell_type": "code",
   "execution_count": 43,
   "metadata": {},
   "outputs": [
    {
     "name": "stdout",
     "output_type": "stream",
     "text": [
      "+----+---+---------+----------+-----+--------+------+---------+\n",
      "|year| id|   salary|commission|  car|  hvalue|hyears|     loan|\n",
      "+----+---+---------+----------+-----+--------+------+---------+\n",
      "|2020|  1|120499.73|       0.0|car17|205000.0|    30| 564724.2|\n",
      "|2020|  2|160893.77|       0.0|car10|179000.0|     2|455015.34|\n",
      "|2020|  3|119159.65|       0.0| car1|145000.0|    22|122025.08|\n",
      "|2020|  4|  20000.0|  52593.63| car9|185000.0|    30| 99629.62|\n",
      "|2020|  5| 93956.32|       0.0|car15|135000.0|     1| 458679.8|\n",
      "|2020|  6| 41365.43|  52809.15| car7|135000.0|    19| 216839.7|\n",
      "|2020|  7| 94805.61|       0.0|car17|135000.0|    23|233216.06|\n",
      "+----+---+---------+----------+-----+--------+------+---------+"
     ]
    }
   ],
   "source": [
    "#pull 2nd commit\n",
    "economy_fg.read(commit_timestamps[1]).show()"
   ]
  },
  {
   "cell_type": "code",
   "execution_count": 44,
   "metadata": {},
   "outputs": [
    {
     "name": "stdout",
     "output_type": "stream",
     "text": [
      "+----+---+---------+----------+-----+--------+------+---------+\n",
      "|year| id|   salary|commission|  car|  hvalue|hyears|     loan|\n",
      "+----+---+---------+----------+-----+--------+------+---------+\n",
      "|2020|  1|120499.73|       0.0|car17|205000.0|    30| 564724.2|\n",
      "|2020|  2|160893.77|       0.0|car10|179000.0|     2|455015.34|\n",
      "|2020|  3|119159.65|       0.0| car1|145000.0|    22|122025.08|\n",
      "|2020|  4|  20000.0|  52593.63| car9|185000.0|    30| 99629.62|\n",
      "|2020|  5| 93956.32|       0.0|car15|135000.0|     1| 458679.8|\n",
      "|2020|  6| 41365.43|  52809.15| car7|135000.0|    19| 216839.7|\n",
      "|2020|  7| 94805.61|       0.0|car17|135000.0|    23|233216.06|\n",
      "|2020|  8| 64410.62|  39884.39|car20|125000.0|     6|350707.38|\n",
      "|2020|  9|128298.82|       0.0|car19|135000.0|    12| 20768.06|\n",
      "|2020| 10|100806.92|       0.0| car8|135000.0|     6|293106.66|\n",
      "+----+---+---------+----------+-----+--------+------+---------+"
     ]
    }
   ],
   "source": [
    "#pull 3rd commit\n",
    "economy_fg.read(commit_timestamps[2]).show()"
   ]
  },
  {
   "cell_type": "markdown",
   "metadata": {},
   "source": [
    "### Hopsworks Feature Store also provides a method for incremental reads:"
   ]
  },
  {
   "cell_type": "code",
   "execution_count": 45,
   "metadata": {},
   "outputs": [
    {
     "name": "stdout",
     "output_type": "stream",
     "text": [
      "+----+---+---------+----------+-----+--------+------+---------+\n",
      "|year| id|   salary|commission|  car|  hvalue|hyears|     loan|\n",
      "+----+---+---------+----------+-----+--------+------+---------+\n",
      "|2020|  1|120499.73|       0.0|car17|205000.0|    30| 564724.2|\n",
      "|2020|  2|160893.77|       0.0|car10|179000.0|     2|455015.34|\n",
      "|2020|  5| 93956.32|       0.0|car15|135000.0|     1| 458679.8|\n",
      "|2020|  6| 41365.43|  52809.15| car7|135000.0|    19| 216839.7|\n",
      "|2020|  7| 94805.61|       0.0|car17|135000.0|    23|233216.06|\n",
      "+----+---+---------+----------+-----+--------+------+---------+"
     ]
    }
   ],
   "source": [
    "#Pull changes that happened between the first and second commits\n",
    "economy_fg.read_changes(commit_timestamps[0], commit_timestamps[1]).show()"
   ]
  },
  {
   "cell_type": "code",
   "execution_count": 46,
   "metadata": {},
   "outputs": [
    {
     "name": "stdout",
     "output_type": "stream",
     "text": [
      "+----+---+---------+----------+-----+--------+------+---------+\n",
      "|year| id|   salary|commission|  car|  hvalue|hyears|     loan|\n",
      "+----+---+---------+----------+-----+--------+------+---------+\n",
      "|2020|  8| 64410.62|  39884.39|car20|125000.0|     6|350707.38|\n",
      "|2020|  9|128298.82|       0.0|car19|135000.0|    12| 20768.06|\n",
      "|2020| 10|100806.92|       0.0| car8|135000.0|     6|293106.66|\n",
      "+----+---+---------+----------+-----+--------+------+---------+"
     ]
    }
   ],
   "source": [
    "#Pull changes that happened between the second and third commits \n",
    "economy_fg.read_changes(commit_timestamps[1], commit_timestamps[2]).show()"
   ]
  },
  {
   "cell_type": "markdown",
   "metadata": {},
   "source": [
    "### Join Feature groups that correspond to specific point in time\n",
    "If we are interetsted to join Feature groups all of them correspong to one specific point in time then we can issue `as_of` method on join `Query` object.  "
   ]
  },
  {
   "cell_type": "code",
   "execution_count": 47,
   "metadata": {},
   "outputs": [],
   "source": [
    "joined_features = ((economy_fg.select_all())\n",
    "                   .join(demography_fg.select_all(), [\"id\"], \"INNER\")\n",
    "                   .join(class_fg.select_all(), [\"id\"], \"INNER\")\n",
    "                   .as_of(commit_timestamps[2]))  "
   ]
  },
  {
   "cell_type": "code",
   "execution_count": 48,
   "metadata": {},
   "outputs": [
    {
     "name": "stdout",
     "output_type": "stream",
     "text": [
      "+----+---+---------+----------+-----+--------+------+---------+--------+---+------+------+----+\n",
      "|year| id|   salary|commission|  car|  hvalue|hyears|     loan| zipcode|age|elevel| class|year|\n",
      "+----+---+---------+----------+-----+--------+------+---------+--------+---+------+------+----+\n",
      "|2020|  1|120499.73|       0.0|car17|205000.0|    30| 564724.2|zipcode5| 54|level3|groupA|2020|\n",
      "|2020|  6| 41365.43|  52809.15| car7|135000.0|    19| 216839.7|zipcode3| 71|level2|groupA|2020|\n",
      "|2020|  3|119159.65|       0.0| car1|145000.0|    22|122025.08|zipcode4| 49|level2|groupB|2020|\n",
      "|2020|  5| 93956.32|       0.0|car15|135000.0|     1| 458679.8|zipcode2| 59|level1|groupA|2020|\n",
      "|2020|  4|  20000.0|  52593.63| car9|185000.0|    30| 99629.62|zipcode2| 56|level0|groupB|2020|\n",
      "|2020|  7| 94805.61|       0.0|car17|135000.0|    23|233216.06|zipcode2| 32|level1|groupA|2020|\n",
      "|2020|  2|160893.77|       0.0|car10|179000.0|     2|455015.34|zipcode8| 44|level1|groupB|2020|\n",
      "+----+---+---------+----------+-----+--------+------+---------+--------+---+------+------+----+"
     ]
    }
   ],
   "source": [
    "joined_features.read().show()"
   ]
  },
  {
   "cell_type": "markdown",
   "metadata": {},
   "source": [
    "### Join Feature groups that correspond to different points in time\n",
    "Hopswork Feature store also provides functionality to join Feature groups that correspond to different points in time. "
   ]
  },
  {
   "cell_type": "code",
   "execution_count": 49,
   "metadata": {},
   "outputs": [],
   "source": [
    "economy_fg_query = economy_fg.select_all().as_of(commit_timestamps[2])\n",
    "\n",
    "second_demography_commit = demography_fg.commit_details()[sorted(demography_fg.commit_details().keys())[1]]['committedOn']\n",
    "demography_fg_query = demography_fg.select_all().as_of(second_demography_commit)\n",
    "\n",
    "first_class_commit = class_fg.commit_details()[sorted(class_fg.commit_details().keys())[0]]['committedOn']\n",
    "class_fg_query =  class_fg.select_all().as_of(first_class_commit)"
   ]
  },
  {
   "cell_type": "code",
   "execution_count": 50,
   "metadata": {},
   "outputs": [],
   "source": [
    "joined_features = economy_fg_query.join(demography_fg_query, [\"id\"], \"INNER\").join(class_fg_query, [\"id\"], \"INNER\")"
   ]
  },
  {
   "cell_type": "code",
   "execution_count": 51,
   "metadata": {},
   "outputs": [
    {
     "name": "stdout",
     "output_type": "stream",
     "text": [
      "+----+---+---------+----------+-----+--------+------+---------+--------+---+------+------+----+\n",
      "|year| id|   salary|commission|  car|  hvalue|hyears|     loan| zipcode|age|elevel| class|year|\n",
      "+----+---+---------+----------+-----+--------+------+---------+--------+---+------+------+----+\n",
      "|2020|  1|120499.73|       0.0|car17|205000.0|    30| 564724.2|zipcode5| 54|level3|groupB|2020|\n",
      "|2020|  3|119159.65|       0.0| car1|145000.0|    22|122025.08|zipcode4| 49|level2|groupB|2020|\n",
      "|2020|  4|  20000.0|  52593.63| car9|185000.0|    30| 99629.62|zipcode2| 56|level0|groupB|2020|\n",
      "|2020|  2|160893.77|       0.0|car10|179000.0|     2|455015.34|zipcode8| 44|level1|groupB|2020|\n",
      "+----+---+---------+----------+-----+--------+------+---------+--------+---+------+------+----+"
     ]
    }
   ],
   "source": [
    "joined_features.read().show()"
   ]
  },
  {
   "cell_type": "code",
   "execution_count": null,
   "metadata": {},
   "outputs": [],
   "source": []
  }
 ],
 "metadata": {
  "kernelspec": {
   "display_name": "PySpark",
   "language": "python",
   "name": "pysparkkernel"
  },
  "language_info": {
   "codemirror_mode": {
    "name": "python",
    "version": 3
   },
   "mimetype": "text/x-python",
   "name": "pyspark",
   "pygments_lexer": "python3"
  }
 },
 "nbformat": 4,
 "nbformat_minor": 4
}