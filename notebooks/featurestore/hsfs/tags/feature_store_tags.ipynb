{
 "cells": [
  {
   "cell_type": "raw",
   "id": "1b8b7b71",
   "metadata": {},
   "source": [
    "---\n",
    "title: \"Feature Store Tags\"\n",
    "date: 2021-04-15\n",
    "type: technical_note\n",
    "draft: false\n",
    "---"
   ]
  },
  {
   "cell_type": "markdown",
   "id": "7c4d8131",
   "metadata": {},
   "source": [
    "# Tags\n",
    "\n",
    "The feature store enables users to attach tags to artifacts, such as feature groups or training datasets. Tags are aditional metadata attached to your artifacts and thus they can be used for an enhanced full text search. Adding tags to an artifact provides users with a more dynamic metadata content that can be used for both storage as well as enhancing artifact discoverability. \n",
    "\n",
    "<b>Note</b>: By default Hopsworks makes all metadata searchable, users can opt out for particular featurestores if they want to keep them private.\n",
    "\n",
    "A tag is a {<b>key</b>: <b>value</b>} association, providing additional information about the data, such as for example geographic origin. This is useful in an organization as it adds more context to your data making it easier to share and discover data and artifacts. \n",
    "\n",
    "<b>Note</b>: Tagging is only available in the enterprise version.\n",
    "\n",
    "## Tag Schemas\n",
    "The first step is to define the schemas of tags that can later be attached to artifacts. These schemas follow the https://json-schema.org as reference and can be seen as types for jsons. The schemas define legal jsons and these can be primitives, objects or arrays. The schemas themselves are also defined as jsons. \n",
    "\n",
    "Allowed primitive types are:\n",
    "\n",
    "- string\n",
    "- boolean\n",
    "- integer\n",
    "- number (float)\n",
    "    \n",
    "A tag of primitive type - string would look like:\n",
    "```\n",
    "{ \"type\" : \"string\" }\n",
    "```\n",
    "and this would allow a json value of:\n",
    "```\n",
    "string tag value\n",
    "```\n",
    "\n",
    "We can also define arbitrarily complex json schemas, such as:\n",
    "```\n",
    "{\n",
    "  \"type\" : \"object\", \n",
    "  \"properties\" : \n",
    "  {\n",
    "    \"first_name\" : { \"type\" : \"string\" },\n",
    "    \"last_name\" : { \"type\" : \"string\" },\n",
    "    \"age\" : { \"type\" : \"integer\" },\n",
    "    \"hobbies\" : { \n",
    "        \"type\" : \"array\",\n",
    "        \"items\" : { \"type\" : \"string\" }\n",
    "    }\n",
    "  },\n",
    "  \"required\" : [\"first_name\", \"last_name\", \"age\"],\n",
    "  \"additionalProperties\": false\n",
    "}\n",
    "``` \n",
    "and a value that follows this schema would be:\n",
    "```\n",
    "{ \n",
    "  \"first_name\" : \"John\",\n",
    "  \"last_name\" : \"Doe\",\n",
    "  \"age\" : 27,\n",
    "  \"hobbies\" : [\"tennis\", \"reading\"]\n",
    "}\n",
    "```\n",
    "\n",
    "<b>Properties</b> section of a tag is a dictionary that defines field names and types.\n",
    "\n",
    "Json schema are pretty lenient, all that the properties section tells us, is that if a field appears, it should be of the appropriate type. If the json object contains the field `first_name`, this field cannot be of type `boolean`, it has to be of type `string`. What we emphasize here, is that the properties section does not impose that fields declared are mandatory, or that the json object cannot contain other fields that were not defined in the schemas.\n",
    "\n",
    "<b>Required</b> section enforces the mandatory fields. In our case above `first_name`, `last_name`, `age` are declared as mandatory, while `hobbies` is left as an optional field. \n",
    "\n",
    "<b>Additional Properties</b> section enforces the strictness of the schema. If we set this to `false` the json objects of this schema can only use fields that are declared (mandatoriy or optional) by the schema. No undeclared fields will be allowed.\n",
    "\n",
    "Type object is the default type for schemas, so you can ommit it if you want to keep the schema short.\n",
    "\n",
    "### Advanced tag usage\n",
    "We can use additional properties of schemas as defined by https://json-schema.org to enhance our previous person schema:\n",
    "\n",
    "- Add a `$schema` section to allow us to use more advanced features of the json schemas defined in later drafts. The default schema draft is 4 and we will use 7 here (latest).\n",
    "- Add an `id` field that is of type string but has to follow a particular regex pattern. We will also make this field mandatory.\n",
    "- Set some rules on `age`, for example age should be an Integer between 0 and 150. \n",
    "- Add an `address` field that is itself an object.\n",
    "\n",
    "\n",
    "```\n",
    "{\n",
    "  \"$schema\": \"http://json-schema.org/draft-07/schema#\",\n",
    "  \"type\" : \"object\", \n",
    "  \"properties\" : \n",
    "  {\n",
    "    \"id\" : {\n",
    "      \"type\" : \"string\",\n",
    "      \"pattern\" : \"^[A-Z]{2}[0-9]{4}$\"\n",
    "    },\n",
    "    \"first_name\" : { \"type\" : \"string\" },\n",
    "    \"last_name\" : { \"type\" : \"string\" },\n",
    "    \"age\" : { \n",
    "      \"type\" : \"integer\",\n",
    "      \"minimum\" : 0,\n",
    "      \"maximum\" : 150\n",
    "    },\n",
    "    \"hobbies\" : { \n",
    "        \"type\" : \"array\",\n",
    "        \"items\" : { \"type\" : \"string\" }\n",
    "    },\n",
    "    \"address\" : {\n",
    "      \"street\" : { \"type\" : \"string\" },\n",
    "      \"city\" : { \"type\" : \"string\" }\n",
    "    }\n",
    "  },\n",
    "  \"required\" : [\"id\", \"first_name\", \"last_name\", \"age\"],\n",
    "  \"additionalProperties\": false\n",
    "}\n",
    "``` \n",
    "and a valid value for this new schema would be:\n",
    "```\n",
    "{\n",
    "  \"id\" : \"AB1234\",\n",
    "  \"first_name\" : \"John\",\n",
    "  \"last_name\" : \"Doe\",\n",
    "  \"age\" : 27,\n",
    "  \"hobbies\" : [\"tennis\", \"reading\"],\n",
    "  \"address\" : {\n",
    "    \"street\" : \"Vasagatan nr. 12\",\n",
    "    \"city\" : \"Stockholm\"\n",
    "  }\n",
    "}\n",
    "```\n",
    "\n",
    "### Notebook required schema setup\n",
    "\n",
    "In order for this notebook to work properly you need an user with admin rights to define the following schemas.\n",
    "\n",
    "- Primitive string\n",
    "    - name: <b>location</b> \n",
    "    - value: \n",
    "```\n",
    "{\"type\":\"string\"}\n",
    "```\n",
    "- Complex object\n",
    "    - name: <b>person</b>\n",
    "    - value:\n",
    "```\n",
    "{\"$schema\":\"http://json-schema.org/draft-07/schema#\", \"type\":\"object\",\"properties\":{\"id\":{\"type\":\"string\",\"pattern\":\"^[A-Z]{2}[0-9]{4}$\"},\"first_name\":{\"type\":\"string\"},\"last_name\":{\"type\":\"string\"},\"age\":{\"type\":\"integer\",\"minimum\":0,\"maximum\":150},\"hobbies\":{\"type\":\"array\",\"items\":{\"type\":\"string\"}},\"address\":{\"street\":{\"type\":\"string\"},\"city\":{\"type\":\"string\"}}},\"required\":[\"id\",\"first_name\",\"last_name\",\"age\"],\"additionalProperties\":false}\n",
    "```\n",
    "\n",
    "### UI operations\n",
    "Creating schemas is currently only possible from the UI by a user with admin role, since the schemas are defined cluster wide. \n",
    "\n",
    "From the Hopsworks UI you can also attach and view tags, as well as search for artifacts by the tags contents. For more details on UI operations visit our documentation page: https://docs.hopsworks.ai/feature-store-api/latest/generated/tags\n",
    "\n",
    "### References\n",
    "For more references on the schemas check:\n",
    "* Our documentation on https://docs.hopsworks.ai/feature-store-api/latest/generated/tags\n",
    "* The reference https://json-schema.org in order to figure out the full capabilities of json schemas"
   ]
  },
  {
   "cell_type": "markdown",
   "id": "8a3d7ace",
   "metadata": {},
   "source": [
    "## Notebook tour \n",
    "### Featurestore name\n",
    "Change the name of the featurestore according to the project you are running from. The example was written within the project names: <b>demo_fs_meb10000</b>, which is the feature store demo tour."
   ]
  },
  {
   "cell_type": "code",
   "execution_count": 48,
   "id": "8207b9f8",
   "metadata": {},
   "outputs": [
    {
     "name": "stdout",
     "output_type": "stream",
     "text": [
      "Connected. Call `.close()` to terminate connection gracefully."
     ]
    }
   ],
   "source": [
    "import hsfs\n",
    "connection = hsfs.connection()\n",
    "fs = connection.get_feature_store(name=\"demo_fs_meb10000_featurestore\")"
   ]
  },
  {
   "cell_type": "markdown",
   "id": "de39fdd7",
   "metadata": {},
   "source": [
    "### Creating a feature group and a training dataset\n",
    "The sections used to create the feature group and the training dataset might fail if the artifacts already exist, created by a previous run of this notebook."
   ]
  },
  {
   "cell_type": "code",
   "execution_count": 27,
   "id": "2eb4f908",
   "metadata": {},
   "outputs": [],
   "source": [
    "fg_name = 'tag_fg'\n",
    "td_name = 'tag_td'"
   ]
  },
  {
   "cell_type": "markdown",
   "id": "ad7efe68",
   "metadata": {},
   "source": [
    "Create the feature group used in this notebook to attach tags to."
   ]
  },
  {
   "cell_type": "code",
   "execution_count": 28,
   "id": "3d97fc61",
   "metadata": {},
   "outputs": [
    {
     "name": "stdout",
     "output_type": "stream",
     "text": [
      "<hsfs.feature_group.FeatureGroup object at 0x7f5f34df3a50>"
     ]
    }
   ],
   "source": [
    "fg_data = []\n",
    "fg_data.append((1, 1, 1))\n",
    "fg_spark_df = spark.createDataFrame(fg_data, ['id', 'fg1_col1', 'fg1_col2'])\n",
    "fg_write = fs.create_feature_group(name=fg_name, version=1, description=\"tags notebook feature group\", primary_key=['id'], time_travel_format=None, statistics_config=False)\n",
    "fg_write.save(fg_spark_df)"
   ]
  },
  {
   "cell_type": "code",
   "execution_count": 29,
   "id": "441e759e",
   "metadata": {},
   "outputs": [
    {
     "name": "stdout",
     "output_type": "stream",
     "text": [
      "VersionWarning: No version provided for getting feature group `tag_fg`, defaulting to `1`."
     ]
    }
   ],
   "source": [
    "fg_read = fs.get_feature_group(fg_name)"
   ]
  },
  {
   "cell_type": "markdown",
   "id": "7f81ea7c",
   "metadata": {},
   "source": [
    "Create the training dataset used in this notebook to attach tags to."
   ]
  },
  {
   "cell_type": "code",
   "execution_count": 30,
   "id": "9d95a5b4",
   "metadata": {},
   "outputs": [
    {
     "name": "stdout",
     "output_type": "stream",
     "text": [
      "<hsfs.training_dataset.TrainingDataset object at 0x7f5f34e35850>"
     ]
    }
   ],
   "source": [
    "td_query = fg_read.select_all()\n",
    "td = fs.create_training_dataset(name=td_name, description=\"tags notebook training dataset\", data_format=\"csv\", version=1)\n",
    "td.save(td_query)"
   ]
  },
  {
   "cell_type": "code",
   "execution_count": 31,
   "id": "7eb37be5",
   "metadata": {},
   "outputs": [],
   "source": [
    "td_read = fs.get_training_dataset(td_name, 1)"
   ]
  },
  {
   "cell_type": "markdown",
   "id": "4aba3b8f",
   "metadata": {},
   "source": [
    "### Working with tags on featuregroups"
   ]
  },
  {
   "cell_type": "markdown",
   "id": "19cd413e",
   "metadata": {},
   "source": [
    "#### Attaching tags"
   ]
  },
  {
   "cell_type": "markdown",
   "id": "6e71b918",
   "metadata": {},
   "source": [
    "Attaching a simple key-value(string) tag to your featuregroup.\n",
    "\n",
    "<b>Note</b>: You can only attach one tag value for a tag name, so by calling the add operation on the same tag multiple times, you perform an update operation.\n",
    "If you require attaching multiple values to a tag, like maybe a sequence, consider changing the tag type to an array of the type you just defined."
   ]
  },
  {
   "cell_type": "code",
   "execution_count": 32,
   "id": "94143fdb",
   "metadata": {},
   "outputs": [],
   "source": [
    "tag1_name=\"location\"\n",
    "tag1_value=\"Sweden\""
   ]
  },
  {
   "cell_type": "code",
   "execution_count": 33,
   "id": "8cf5824f",
   "metadata": {},
   "outputs": [],
   "source": [
    "fg_read.add_tag(tag1_name, tag1_value)"
   ]
  },
  {
   "cell_type": "markdown",
   "id": "316ceff5",
   "metadata": {},
   "source": [
    "#### Listing tags\n",
    "Reading a tag value use the tag key."
   ]
  },
  {
   "cell_type": "code",
   "execution_count": 34,
   "id": "8f98c55b",
   "metadata": {},
   "outputs": [
    {
     "name": "stdout",
     "output_type": "stream",
     "text": [
      "'Sweden'"
     ]
    }
   ],
   "source": [
    "fg_read.get_tag(tag1_name)"
   ]
  },
  {
   "cell_type": "markdown",
   "id": "c78d1b95",
   "metadata": {},
   "source": [
    "Reading all the tags attached to a feature group."
   ]
  },
  {
   "cell_type": "code",
   "execution_count": 35,
   "id": "e3c624ff",
   "metadata": {},
   "outputs": [
    {
     "name": "stdout",
     "output_type": "stream",
     "text": [
      "{'location': 'Sweden'}"
     ]
    }
   ],
   "source": [
    "fg_read.get_tags()"
   ]
  },
  {
   "cell_type": "markdown",
   "id": "30ad312b",
   "metadata": {},
   "source": [
    "#### Deleting tags"
   ]
  },
  {
   "cell_type": "code",
   "execution_count": 36,
   "id": "d13ca663",
   "metadata": {},
   "outputs": [],
   "source": [
    "fg_read.delete_tag(tag1_name)"
   ]
  },
  {
   "cell_type": "markdown",
   "id": "b87b1fb4",
   "metadata": {},
   "source": [
    "Tag is no longer in the list of attached tags, but can be re-attached at a later time."
   ]
  },
  {
   "cell_type": "code",
   "execution_count": 37,
   "id": "4e6ca626",
   "metadata": {},
   "outputs": [
    {
     "name": "stdout",
     "output_type": "stream",
     "text": [
      "{}"
     ]
    }
   ],
   "source": [
    "fg_read.get_tags()"
   ]
  },
  {
   "cell_type": "markdown",
   "id": "78292279",
   "metadata": {},
   "source": [
    "#### Using tags with more complex values\n",
    "Attaching a simple json object tag."
   ]
  },
  {
   "cell_type": "code",
   "execution_count": 38,
   "id": "e5eabbf9",
   "metadata": {},
   "outputs": [],
   "source": [
    "tag2_name=\"person\""
   ]
  },
  {
   "cell_type": "code",
   "execution_count": 39,
   "id": "dc48408d",
   "metadata": {},
   "outputs": [],
   "source": [
    "tag2_value={\n",
    "  \"id\" : \"AB1234\",\n",
    "  \"first_name\" : \"John\",\n",
    "  \"last_name\" : \"Doe\",\n",
    "  \"age\" : 27,\n",
    "  \"hobbies\" : [\"tennis\", \"reading\"],\n",
    "  \"address\" : {\n",
    "    \"street\" : \"Vasagatan nr. 12\",\n",
    "    \"city\" : \"Stockholm\"\n",
    "  }\n",
    "}\n",
    "\n",
    "fg_read.add_tag(tag2_name, tag2_value)"
   ]
  },
  {
   "cell_type": "code",
   "execution_count": 40,
   "id": "e5c3d2a4",
   "metadata": {},
   "outputs": [
    {
     "name": "stdout",
     "output_type": "stream",
     "text": [
      "{'id': 'AB1234', 'first_name': 'John', 'last_name': 'Doe', 'age': 27, 'hobbies': ['tennis', 'reading'], 'address': {'street': 'Vasagatan nr. 12', 'city': 'Stockholm'}}"
     ]
    }
   ],
   "source": [
    "fg_read.get_tag(tag2_name)"
   ]
  },
  {
   "cell_type": "markdown",
   "id": "12dde7ef",
   "metadata": {},
   "source": [
    "### Working with tags on training datasets\n",
    "The API calls for attaching, reading and deleting tags are exactly the same on training datasets as they are on feature groups."
   ]
  },
  {
   "cell_type": "markdown",
   "id": "ae1baf43",
   "metadata": {},
   "source": [
    "#### Attaching tags"
   ]
  },
  {
   "cell_type": "code",
   "execution_count": 41,
   "id": "e69dd5ae",
   "metadata": {},
   "outputs": [],
   "source": [
    "td_read.add_tag(tag1_name, tag1_value)"
   ]
  },
  {
   "cell_type": "markdown",
   "id": "9df15f9e",
   "metadata": {},
   "source": [
    "#### Listing tags"
   ]
  },
  {
   "cell_type": "code",
   "execution_count": 42,
   "id": "a334f584",
   "metadata": {},
   "outputs": [
    {
     "name": "stdout",
     "output_type": "stream",
     "text": [
      "{'location': 'Sweden'}"
     ]
    }
   ],
   "source": [
    "td_read.get_tags()"
   ]
  },
  {
   "cell_type": "code",
   "execution_count": 43,
   "id": "128ad25b",
   "metadata": {},
   "outputs": [
    {
     "name": "stdout",
     "output_type": "stream",
     "text": [
      "'Sweden'"
     ]
    }
   ],
   "source": [
    "td_read.get_tag(tag1_name)"
   ]
  },
  {
   "cell_type": "markdown",
   "id": "81a67fb7",
   "metadata": {},
   "source": [
    "#### Deleting tags"
   ]
  },
  {
   "cell_type": "code",
   "execution_count": 44,
   "id": "a6707d71",
   "metadata": {},
   "outputs": [],
   "source": [
    "td_read.delete_tag(tag1_name)"
   ]
  },
  {
   "cell_type": "code",
   "execution_count": 45,
   "id": "be38215e",
   "metadata": {},
   "outputs": [
    {
     "name": "stdout",
     "output_type": "stream",
     "text": [
      "{}"
     ]
    }
   ],
   "source": [
    "td_read.get_tags()"
   ]
  },
  {
   "cell_type": "markdown",
   "id": "6b9b9e8b",
   "metadata": {},
   "source": [
    "### Cleaning up"
   ]
  },
  {
   "cell_type": "markdown",
   "id": "09cf895f",
   "metadata": {},
   "source": [
    "If you want to be able to rerun the notebook with no failed paragraphs you will need to delete the feature group <b>tag_fg</b> and the training dataset <b>tag_td</b>."
   ]
  },
  {
   "cell_type": "code",
   "execution_count": 49,
   "id": "74ca8b6f",
   "metadata": {},
   "outputs": [
    {
     "name": "stdout",
     "output_type": "stream",
     "text": [
      "Connection closed."
     ]
    }
   ],
   "source": [
    "connection.close()"
   ]
  },
  {
   "cell_type": "code",
   "execution_count": null,
   "id": "1cc5a63d",
   "metadata": {},
   "outputs": [],
   "source": []
  }
 ],
 "metadata": {
  "kernelspec": {
   "display_name": "PySpark",
   "language": "python",
   "name": "pysparkkernel"
  },
  "language_info": {
   "codemirror_mode": {
    "name": "python",
    "version": 3
   },
   "mimetype": "text/x-python",
   "name": "pyspark",
   "pygments_lexer": "python3"
  }
 },
 "nbformat": 4,
 "nbformat_minor": 5
}