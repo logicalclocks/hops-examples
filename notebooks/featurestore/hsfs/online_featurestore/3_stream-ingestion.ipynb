{
 "cells": [
  {
   "cell_type": "markdown",
   "id": "1acd21ac",
   "metadata": {},
   "source": [
    "---\n",
    "title: \"3. Windowed aggregations using spark streaming and ingestion to the online feature store\"\n",
    "date: 2021-04-25\n",
    "type: technical_note\n",
    "draft: false\n",
    "---"
   ]
  },
  {
   "cell_type": "markdown",
   "id": "bec1abdb",
   "metadata": {},
   "source": [
    "## Import necessary libraries"
   ]
  },
  {
   "cell_type": "code",
   "execution_count": 1,
   "id": "c48ea89f",
   "metadata": {},
   "outputs": [
    {
     "name": "stdout",
     "output_type": "stream",
     "text": [
      "Starting Spark application\n"
     ]
    },
    {
     "data": {
      "text/html": [
       "<table>\n",
       "<tr><th>ID</th><th>Application ID</th><th>Kind</th><th>State</th><th>Spark UI</th><th>Driver log</th></tr><tr><td>2</td><td>application_1643892948709_0007</td><td>pyspark</td><td>idle</td><td><a target=\"_blank\" href=\"/hopsworks-api/yarnui/https://hopsworks0.logicalclocks.com:8089/proxy/application_1643892948709_0007/\">Link</a></td><td><a target=\"_blank\" href=\"/hopsworks-api/yarnui/https://hopsworks0.logicalclocks.com:8044/node/containerlogs/container_1643892948709_0007_01_000001/delta_test__meb10000\">Link</a></td></tr></table>"
      ],
      "text/plain": [
       "<IPython.core.display.HTML object>"
      ]
     },
     "metadata": {},
     "output_type": "display_data"
    },
    {
     "name": "stdout",
     "output_type": "stream",
     "text": [
      "SparkSession available as 'spark'.\n"
     ]
    }
   ],
   "source": [
    "import json\n",
    "\n",
    "from pyspark.sql.functions import from_json, window, avg,count, stddev, explode, date_format,col\n",
    "from pyspark.sql.types import StructField, StructType, StringType, DoubleType, TimestampType, LongType, IntegerType\n",
    "\n",
    "from hops import kafka, tls, hdfs"
   ]
  },
  {
   "cell_type": "code",
   "execution_count": 2,
   "id": "81cc17fc",
   "metadata": {},
   "outputs": [],
   "source": [
    "# name of the kafka topic to read card transactions from\n",
    "KAFKA_TOPIC_NAME = \"credit_card_transactions\""
   ]
  },
  {
   "cell_type": "markdown",
   "id": "833dfbac",
   "metadata": {},
   "source": [
    "## Create a stream from the kafka topic\n"
   ]
  },
  {
   "cell_type": "code",
   "execution_count": 3,
   "id": "c55e1c42",
   "metadata": {},
   "outputs": [],
   "source": [
    "df_read = spark \\\n",
    "  .readStream \\\n",
    "  .format(\"kafka\") \\\n",
    "  .option(\"kafka.bootstrap.servers\", kafka.get_broker_endpoints()) \\\n",
    "  .option(\"kafka.security.protocol\",kafka.get_security_protocol()) \\\n",
    "  .option(\"kafka.ssl.truststore.location\", tls.get_trust_store()) \\\n",
    "  .option(\"kafka.ssl.truststore.password\", tls.get_key_store_pwd()) \\\n",
    "  .option(\"kafka.ssl.keystore.location\", tls.get_key_store()) \\\n",
    "  .option(\"kafka.ssl.keystore.password\", tls.get_key_store_pwd()) \\\n",
    "  .option(\"kafka.ssl.key.password\", tls.get_trust_store_pwd()) \\\n",
    "  .option(\"kafka.ssl.endpoint.identification.algorithm\", \"\") \\\n",
    "  .option(\"startingOffsets\", \"earliest\")\\\n",
    "  .option(\"subscribe\", KAFKA_TOPIC_NAME) \\\n",
    "  .load()"
   ]
  },
  {
   "cell_type": "code",
   "execution_count": 4,
   "id": "092bd3d8",
   "metadata": {},
   "outputs": [],
   "source": [
    "# Define schema to read from kafka topic \n",
    "parse_schema = StructType([StructField('tid', StringType(), True),\n",
    "                           StructField('datetime', StringType(), True),\n",
    "                           StructField('cc_num', StringType(), True),\n",
    "                           StructField('amount', StringType(), True)])"
   ]
  },
  {
   "cell_type": "code",
   "execution_count": 5,
   "id": "68ac357a",
   "metadata": {},
   "outputs": [],
   "source": [
    "# Deserialise data from and create streaming query\n",
    "df_deser = df_read.selectExpr(\"CAST(value AS STRING)\")\\\n",
    "                   .select(from_json(\"value\", parse_schema).alias(\"value\"))\\\n",
    "                   .select(\"value.tid\", \"value.datetime\", \"value.cc_num\", \"value.amount\")\\\n",
    "                   .selectExpr(\"CAST(tid as string)\", \"CAST(datetime as string)\", \"CAST(cc_num as long)\", \"CAST(amount as double)\")"
   ]
  },
  {
   "cell_type": "code",
   "execution_count": 6,
   "id": "e6e4dfec",
   "metadata": {},
   "outputs": [
    {
     "name": "stdout",
     "output_type": "stream",
     "text": [
      "True"
     ]
    }
   ],
   "source": [
    "df_deser.isStreaming"
   ]
  },
  {
   "cell_type": "code",
   "execution_count": 7,
   "id": "03d3512b",
   "metadata": {},
   "outputs": [
    {
     "name": "stdout",
     "output_type": "stream",
     "text": [
      "root\n",
      " |-- tid: string (nullable = true)\n",
      " |-- datetime: string (nullable = true)\n",
      " |-- cc_num: long (nullable = true)\n",
      " |-- amount: double (nullable = true)"
     ]
    }
   ],
   "source": [
    "df_deser.printSchema()"
   ]
  },
  {
   "cell_type": "markdown",
   "id": "8ead0c28",
   "metadata": {},
   "source": [
    "## Create windowing aggregations over different time windows using spark streaming."
   ]
  },
  {
   "cell_type": "code",
   "execution_count": 8,
   "id": "34c1e150",
   "metadata": {},
   "outputs": [],
   "source": [
    "# 10 minute window\n",
    "windowed10mSignalDF =df_deser \\\n",
    "    .selectExpr(\"CAST(tid as string)\", \"CAST(datetime as timestamp)\", \"CAST(cc_num as long)\", \"CAST(amount as double)\")\\\n",
    "    .withWatermark(\"datetime\", \"60 minutes\") \\\n",
    "    .groupBy(window(\"datetime\", \"10 minutes\"), \"cc_num\") \\\n",
    "    .agg(avg(\"amount\").alias(\"avg_amt_per_10m\"), stddev(\"amount\").alias(\"stdev_amt_per_10m\"), count(\"cc_num\").alias(\"num_trans_per_10m\"))\\\n",
    "    .select(\"cc_num\", \"num_trans_per_10m\", \"avg_amt_per_10m\", \"stdev_amt_per_10m\")"
   ]
  },
  {
   "cell_type": "code",
   "execution_count": 9,
   "id": "eae818df",
   "metadata": {},
   "outputs": [
    {
     "name": "stdout",
     "output_type": "stream",
     "text": [
      "True"
     ]
    }
   ],
   "source": [
    "windowed10mSignalDF.isStreaming"
   ]
  },
  {
   "cell_type": "code",
   "execution_count": 10,
   "id": "3b802565",
   "metadata": {},
   "outputs": [
    {
     "name": "stdout",
     "output_type": "stream",
     "text": [
      "root\n",
      " |-- cc_num: long (nullable = true)\n",
      " |-- num_trans_per_10m: long (nullable = false)\n",
      " |-- avg_amt_per_10m: double (nullable = true)\n",
      " |-- stdev_amt_per_10m: double (nullable = true)"
     ]
    }
   ],
   "source": [
    "windowed10mSignalDF.printSchema()"
   ]
  },
  {
   "cell_type": "code",
   "execution_count": 11,
   "id": "a166b3f9",
   "metadata": {},
   "outputs": [],
   "source": [
    "# 1 hour window\n",
    "windowed1hSignalDF = \\\n",
    "  df_deser \\\n",
    "    .selectExpr(\"CAST(tid as string)\", \"CAST(datetime as timestamp)\", \"CAST(cc_num as long)\", \"CAST(amount as double)\")\\\n",
    "    .withWatermark(\"datetime\", \"60 minutes\") \\\n",
    "    .groupBy(window(\"datetime\", \"60 minutes\"), \"cc_num\") \\\n",
    "    .agg(avg(\"amount\").alias(\"avg_amt_per_1h\"), stddev(\"amount\").alias(\"stdev_amt_per_1h\"), count(\"cc_num\").alias(\"num_trans_per_1h\"))\\\n",
    "    .select(\"cc_num\", \"num_trans_per_1h\", \"avg_amt_per_1h\", \"stdev_amt_per_1h\")"
   ]
  },
  {
   "cell_type": "code",
   "execution_count": 12,
   "id": "44fe99df",
   "metadata": {},
   "outputs": [
    {
     "name": "stdout",
     "output_type": "stream",
     "text": [
      "True"
     ]
    }
   ],
   "source": [
    "windowed1hSignalDF.isStreaming"
   ]
  },
  {
   "cell_type": "code",
   "execution_count": 13,
   "id": "30c837c6",
   "metadata": {},
   "outputs": [
    {
     "name": "stdout",
     "output_type": "stream",
     "text": [
      "root\n",
      " |-- cc_num: long (nullable = true)\n",
      " |-- num_trans_per_1h: long (nullable = false)\n",
      " |-- avg_amt_per_1h: double (nullable = true)\n",
      " |-- stdev_amt_per_1h: double (nullable = true)"
     ]
    }
   ],
   "source": [
    "windowed1hSignalDF.printSchema()"
   ]
  },
  {
   "cell_type": "code",
   "execution_count": 14,
   "id": "4826974a",
   "metadata": {},
   "outputs": [],
   "source": [
    "# 12 hour window\n",
    "windowed12hSignalDF = \\\n",
    "  df_deser \\\n",
    "    .selectExpr(\"CAST(tid as string)\", \"CAST(datetime as timestamp)\", \"CAST(cc_num as long)\", \"CAST(amount as double)\")\\\n",
    "    .withWatermark(\"datetime\", \"60 minutes\") \\\n",
    "    .groupBy(window(\"datetime\", \"12 hours\"), \"cc_num\") \\\n",
    "    .agg(avg(\"amount\").alias(\"avg_amt_per_12h\"), stddev(\"amount\").alias(\"stdev_amt_per_12h\"), count(\"cc_num\").alias(\"num_trans_per_12h\"))\\\n",
    "    .select(\"cc_num\", \"num_trans_per_12h\", \"avg_amt_per_12h\", \"stdev_amt_per_12h\")"
   ]
  },
  {
   "cell_type": "code",
   "execution_count": 15,
   "id": "8594c20a",
   "metadata": {},
   "outputs": [
    {
     "name": "stdout",
     "output_type": "stream",
     "text": [
      "True"
     ]
    }
   ],
   "source": [
    "windowed12hSignalDF.isStreaming"
   ]
  },
  {
   "cell_type": "code",
   "execution_count": 16,
   "id": "c02e90dc",
   "metadata": {},
   "outputs": [
    {
     "name": "stdout",
     "output_type": "stream",
     "text": [
      "root\n",
      " |-- cc_num: long (nullable = true)\n",
      " |-- num_trans_per_12h: long (nullable = false)\n",
      " |-- avg_amt_per_12h: double (nullable = true)\n",
      " |-- stdev_amt_per_12h: double (nullable = true)"
     ]
    }
   ],
   "source": [
    "windowed12hSignalDF.printSchema()"
   ]
  },
  {
   "cell_type": "markdown",
   "id": "093f1f98",
   "metadata": {},
   "source": [
    "### Establish a connection with your Hopsworks feature store."
   ]
  },
  {
   "cell_type": "code",
   "execution_count": 17,
   "id": "81aab19c",
   "metadata": {},
   "outputs": [
    {
     "name": "stdout",
     "output_type": "stream",
     "text": [
      "Connected. Call `.close()` to terminate connection gracefully."
     ]
    }
   ],
   "source": [
    "import hsfs\n",
    "connection = hsfs.connection()\n",
    "# get a reference to the feature store, you can access also shared feature stores by providing the feature store name\n",
    "fs = connection.get_feature_store()"
   ]
  },
  {
   "cell_type": "markdown",
   "id": "852cdf1a",
   "metadata": {},
   "source": [
    "## Get feature groups from hopsworks feature store."
   ]
  },
  {
   "cell_type": "code",
   "execution_count": 18,
   "id": "06b55a32",
   "metadata": {},
   "outputs": [],
   "source": [
    "card_transactions = fs.get_stream_feature_group(\"card_transactions\", version = 1)\n",
    "card_transactions_10m_agg = fs.get_stream_feature_group(\"card_transactions_10m_agg\", version = 1)\n",
    "card_transactions_1h_agg = fs.get_stream_feature_group(\"card_transactions_1h_agg\", version = 1)\n",
    "card_transactions_12h_agg = fs.get_stream_feature_group(\"card_transactions_12h_agg\", version = 1)"
   ]
  },
  {
   "cell_type": "markdown",
   "id": "542f93a8",
   "metadata": {},
   "source": [
    "## Insert streaming dataframes to the online feature group\n",
    "\n",
    "Now we are ready to write this streaming dataframe as a long living application to the online storage of the other feature group."
   ]
  },
  {
   "cell_type": "code",
   "execution_count": 19,
   "id": "f231529e",
   "metadata": {},
   "outputs": [
    {
     "name": "stdout",
     "output_type": "stream",
     "text": [
      "StatisticsWarning: Stream ingestion for feature group `card_transactions_10m_agg`, with version `1` will not compute statistics."
     ]
    }
   ],
   "source": [
    "query_10m = card_transactions_10m_agg.insert_stream(windowed10mSignalDF)"
   ]
  },
  {
   "cell_type": "code",
   "execution_count": 20,
   "id": "b8383818",
   "metadata": {},
   "outputs": [
    {
     "name": "stdout",
     "output_type": "stream",
     "text": [
      "StatisticsWarning: Stream ingestion for feature group `card_transactions_1h_agg`, with version `1` will not compute statistics."
     ]
    }
   ],
   "source": [
    "query_1h = card_transactions_1h_agg.insert_stream(windowed1hSignalDF)"
   ]
  },
  {
   "cell_type": "code",
   "execution_count": 21,
   "id": "cc845bf8",
   "metadata": {},
   "outputs": [
    {
     "name": "stdout",
     "output_type": "stream",
     "text": [
      "StatisticsWarning: Stream ingestion for feature group `card_transactions_12h_agg`, with version `1` will not compute statistics."
     ]
    }
   ],
   "source": [
    "query_12h = card_transactions_12h_agg.insert_stream(windowed12hSignalDF)"
   ]
  },
  {
   "cell_type": "markdown",
   "id": "a4b38a1d",
   "metadata": {},
   "source": [
    "### Check if spark streaming query is active"
   ]
  },
  {
   "cell_type": "code",
   "execution_count": 29,
   "id": "24701f43",
   "metadata": {},
   "outputs": [
    {
     "name": "stdout",
     "output_type": "stream",
     "text": [
      "True"
     ]
    }
   ],
   "source": [
    "query_10m.isActive"
   ]
  },
  {
   "cell_type": "code",
   "execution_count": 30,
   "id": "e29ceabd",
   "metadata": {},
   "outputs": [
    {
     "name": "stdout",
     "output_type": "stream",
     "text": [
      "True"
     ]
    }
   ],
   "source": [
    "query_1h.isActive"
   ]
  },
  {
   "cell_type": "code",
   "execution_count": 31,
   "id": "3f8a6eca",
   "metadata": {},
   "outputs": [
    {
     "name": "stdout",
     "output_type": "stream",
     "text": [
      "True"
     ]
    }
   ],
   "source": [
    "query_12h.isActive"
   ]
  },
  {
   "cell_type": "markdown",
   "id": "c57bc36c",
   "metadata": {},
   "source": [
    "#### We can also check status of a query and if there are any exceptions trown."
   ]
  },
  {
   "cell_type": "code",
   "execution_count": 32,
   "id": "f5ace08c",
   "metadata": {},
   "outputs": [
    {
     "name": "stdout",
     "output_type": "stream",
     "text": [
      "{'message': 'Waiting for data to arrive', 'isDataAvailable': False, 'isTriggerActive': False}"
     ]
    }
   ],
   "source": [
    "query_10m.status"
   ]
  },
  {
   "cell_type": "code",
   "execution_count": 33,
   "id": "f141744f",
   "metadata": {},
   "outputs": [],
   "source": [
    "query_10m.exception()"
   ]
  },
  {
   "cell_type": "markdown",
   "id": "df8af341",
   "metadata": {},
   "source": [
    "### Lets check if data was ingested in to the online feature store"
   ]
  },
  {
   "cell_type": "code",
   "execution_count": 34,
   "id": "6c168509",
   "metadata": {},
   "outputs": [
    {
     "name": "stdout",
     "output_type": "stream",
     "text": [
      "+----------------+-----------------+---------------+-----------------+\n",
      "|cc_num          |num_trans_per_10m|avg_amt_per_10m|stdev_amt_per_10m|\n",
      "+----------------+-----------------+---------------+-----------------+\n",
      "|4532606684286514|1                |286.41         |null             |\n",
      "|4032763187099525|1                |36.26          |null             |\n",
      "|4572259224622748|1                |23.83          |null             |\n",
      "|4436298663019939|1                |565.97         |null             |\n",
      "|4259753809723533|1                |829.05         |null             |\n",
      "|4789490563144262|1                |660.42         |null             |\n",
      "|4985024436370614|1                |446.1          |null             |\n",
      "|4488260402352127|1                |11.11          |null             |\n",
      "|4880931623427294|1                |8324.17        |null             |\n",
      "|4148950609641791|1                |11.66          |null             |\n",
      "|4416410688550228|1                |167.71         |null             |\n",
      "|4231082502226286|1                |698.01         |null             |\n",
      "|4090612125343330|1                |32.21          |null             |\n",
      "|4834237757774643|1                |3.68           |null             |\n",
      "|4794233751173765|1                |6.26           |null             |\n",
      "|4815447301191763|1                |23.08          |null             |\n",
      "|4609072304828342|2                |66.795         |44.45580333319825|\n",
      "|4615861341152316|1                |879.52         |null             |\n",
      "|4526611032294580|1                |37.21          |null             |\n",
      "|4872287670027309|1                |10.32          |null             |\n",
      "+----------------+-----------------+---------------+-----------------+\n",
      "only showing top 20 rows"
     ]
    }
   ],
   "source": [
    "fs.sql(\"SELECT * FROM card_transactions_10m_agg_1\",online=True).show(20,False)"
   ]
  },
  {
   "cell_type": "code",
   "execution_count": 35,
   "id": "8498be6f",
   "metadata": {},
   "outputs": [
    {
     "name": "stdout",
     "output_type": "stream",
     "text": [
      "100"
     ]
    }
   ],
   "source": [
    "fs.sql(\"SELECT * FROM card_transactions_12h_agg_1\",online=True).count()"
   ]
  },
  {
   "cell_type": "markdown",
   "id": "7361c386",
   "metadata": {},
   "source": [
    "### Stop queries\n",
    "If you are running this from a notebook, you can kill the Spark Structured Streaming Query by stopping the Kernel or by calling its `.stop()` method."
   ]
  },
  {
   "cell_type": "code",
   "execution_count": 43,
   "id": "1f4db4b8",
   "metadata": {},
   "outputs": [],
   "source": [
    "query_10m.stop()\n",
    "query_1h.stop()\n",
    "query_12h.stop()"
   ]
  }
 ],
 "metadata": {
  "kernelspec": {
   "display_name": "PySpark",
   "language": "python",
   "name": "pysparkkernel"
  },
  "language_info": {
   "codemirror_mode": {
    "name": "python",
    "version": 3
   },
   "mimetype": "text/x-python",
   "name": "pyspark",
   "pygments_lexer": "python3"
  }
 },
 "nbformat": 4,
 "nbformat_minor": 5
}