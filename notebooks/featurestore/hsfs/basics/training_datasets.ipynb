{
 "cells": [
  {
   "cell_type": "markdown",
   "id": "91dca9f0",
   "metadata": {},
   "source": [
    "# <span style=\"font-width:bold; font-size: 3rem; color:#1EB182;\"><img src=\"images/icon102.png\" width=\"38px\"></img> **Hopsworks Feature Store** </span><span style=\"font-width:bold; font-size: 3rem; color:#333;\">- Part 03: Training Data & Feature views</span>\n",
    "\n",
    "<span style=\"font-width:bold; font-size: 1.4rem;\">This is the third part of the quick start series of tutorials about Hopsworks Feature Store. This notebook explains how to read from a feature group and create training dataset within the feature store</span>\n",
    "\n",
    "## **🗒️ In this notebook we will see how to create a training dataset from the feature groups:** \n",
    "1. **Select the features** we want to train our model on,\n",
    "2. **How the features should be preprocessed,**\n",
    "3. **Create a Feature View**.\n",
    "3. **Create a dataset split** for training and validation data.\n",
    "\n",
    "![tutorial-flow](images/02_training-dataset.png) "
   ]
  },
  {
   "cell_type": "markdown",
   "id": "848a01a1",
   "metadata": {},
   "source": [
    "---\n",
    "## <span style=\"color:#ff5f27;\">🧑🏻‍🏫 HSFS Feature Views and Training Datasets </span>\n",
    "\n",
    "`Feature Views` is the third building block of the Hopsworks Feature Store. Feature Views store metadata of our dataset.\n",
    "\n",
    "`Training datasets` is the fourth building block of the Hopsworks Feature Store. \n",
    "\n",
    "Training datasets can be saved in a ML framework friendly format (eg. TfRecords, CSV, Numpy) and then be fed to a machine learning model for training.\n",
    "\n",
    "Training datasets can also be stored on external storage systems like Amazon S3 or GCS to be read by external model training platforms.\n",
    "\n",
    "As with the previous notebooks, the first step is to establish a connection with the Hopsworks feature store and get the feature store handle"
   ]
  },
  {
   "cell_type": "code",
   "execution_count": 1,
   "id": "d4030175",
   "metadata": {},
   "outputs": [
    {
     "name": "stdout",
     "output_type": "stream",
     "text": [
      "Connected. Call `.close()` to terminate connection gracefully.\n"
     ]
    }
   ],
   "source": [
    "import hsfs\n",
    "\n",
    "# Create a connection\n",
    "connection = hsfs.connection()\n",
    "\n",
    "# Get the feature store handle for the project's feature store\n",
    "fs = connection.get_feature_store()"
   ]
  },
  {
   "cell_type": "markdown",
   "id": "22dc6068",
   "metadata": {},
   "source": [
    "---"
   ]
  },
  {
   "cell_type": "markdown",
   "id": "b900203a",
   "metadata": {},
   "source": [
    "## <span style=\"color:#ff5f27;\">⚙️ Feature View Creation</span>\n",
    "\n",
    "In the previous notebook ([feature_exploration](./feature_exploration.ipynb)) we walked through how to explore and query the Hopsworks feature store using HSFS. We can use the queries produced in the previous notebook to create a `Feature Views`."
   ]
  },
  {
   "cell_type": "code",
   "execution_count": 2,
   "id": "9763c7a9",
   "metadata": {},
   "outputs": [],
   "source": [
    "sales_fg = fs.get_or_create_feature_group(\n",
    "    name = 'sales_fg',\n",
    "    version = 1\n",
    ")\n",
    "\n",
    "exogenous_fg = fs.get_or_create_feature_group(\n",
    "    name = 'exogenous_fg',\n",
    "    version = 1\n",
    ")\n",
    "\n",
    "query = sales_fg.select_all()\\\n",
    "        .join(exogenous_fg.select(['fuel_price', 'unemployment', 'cpi']))"
   ]
  },
  {
   "cell_type": "markdown",
   "id": "5c0d46f8",
   "metadata": {},
   "source": [
    "In order to create Feature View we can use `FeatureStore.create_feature_view()` method."
   ]
  },
  {
   "cell_type": "code",
   "execution_count": 3,
   "id": "e26c2c71",
   "metadata": {},
   "outputs": [
    {
     "name": "stdout",
     "output_type": "stream",
     "text": [
      "Feature view created successfully, explore it at https://e457b610-ee84-11ec-826a-b9f03258546b.cloud.hopsworks.ai/p/1147/fs/1095/fv/exodenous_sale/version/1\n"
     ]
    }
   ],
   "source": [
    "feature_view = fs.create_feature_view(\n",
    "    name = 'exodenous_sale',\n",
    "    version = 1,\n",
    "    labels = ['weekly_sales'],\n",
    "    query = query\n",
    ")"
   ]
  },
  {
   "cell_type": "code",
   "execution_count": 4,
   "id": "25ba736f",
   "metadata": {},
   "outputs": [
    {
     "data": {
      "text/plain": [
       "<hsfs.feature_view.FeatureView at 0x7fa053b52250>"
      ]
     },
     "execution_count": 4,
     "metadata": {},
     "output_type": "execute_result"
    }
   ],
   "source": [
    "feature_view"
   ]
  },
  {
   "cell_type": "markdown",
   "id": "4cd92529",
   "metadata": {},
   "source": [
    "For now `Feature View` is saved in Hopsworks and we can retrieve it using `FeatureStore.get_feature_view()`"
   ]
  },
  {
   "cell_type": "code",
   "execution_count": 3,
   "id": "604b3c1b",
   "metadata": {},
   "outputs": [],
   "source": [
    "feature_view = fs.get_feature_view(\n",
    "    name = 'exodenous_sale',\n",
    "    version = 1\n",
    ")"
   ]
  },
  {
   "cell_type": "code",
   "execution_count": 4,
   "id": "078d119a",
   "metadata": {},
   "outputs": [
    {
     "data": {
      "text/plain": [
       "1"
      ]
     },
     "execution_count": 4,
     "metadata": {},
     "output_type": "execute_result"
    }
   ],
   "source": [
    "feature_view.version"
   ]
  },
  {
   "cell_type": "markdown",
   "id": "213473a1",
   "metadata": {},
   "source": [
    "> `FeatureView.preview_feature_vector()` returns a sample of assembled serving vector from online feature store"
   ]
  },
  {
   "cell_type": "code",
   "execution_count": 1,
   "id": "d2011a02",
   "metadata": {},
   "outputs": [],
   "source": [
    "#feature_view.get_feature_vector(entry = {'store':7,'dept':67,'date':1335484800000})"
   ]
  },
  {
   "cell_type": "markdown",
   "id": "6bf35851",
   "metadata": {},
   "source": [
    "> To get subset of data use `FeatureView.get_batch_data()` "
   ]
  },
  {
   "cell_type": "code",
   "execution_count": 2,
   "id": "c41ca588",
   "metadata": {},
   "outputs": [],
   "source": [
    "#df_batch = feature_view.get_batch_data()"
   ]
  },
  {
   "cell_type": "code",
   "execution_count": 9,
   "id": "209c95e6",
   "metadata": {},
   "outputs": [],
   "source": [
    "#type(df_batch)"
   ]
  },
  {
   "cell_type": "code",
   "execution_count": 10,
   "id": "fab3815f",
   "metadata": {},
   "outputs": [],
   "source": [
    "#df_batch.head()"
   ]
  },
  {
   "cell_type": "markdown",
   "id": "8344538e",
   "metadata": {},
   "source": [
    "---\n",
    "\n",
    "## <span style=\"color:#ff5f27;\"> 🏋️ Training Dataset Creation</span>\n",
    "\n",
    "In Hopsworks training data is a query where the projection (set of features) is determined by the parent FeatureView with an optional snapshot on disk of the data returned by the query.\n",
    "\n",
    "**Training Dataset  may contain splits such as:** \n",
    "* Training set - the subset of training data used to train a model.\n",
    "* Validation set - the subset of training data used to evaluate hparams when training a model\n",
    "* Test set - the holdout subset of training data used to evaluate a mode\n",
    "\n",
    "To create training dataset we use `FeatureView.create_training_data()` method.\n",
    "\n",
    "Here are some importand things:\n",
    "\n",
    "- It will inherit the name of FeatureView.\n",
    "\n",
    "- The feature store currently supports the following data formats for\n",
    "training datasets: **tfrecord, csv, tsv, parquet, avro, orc**.\n",
    "\n",
    "- We can choose necessary format using **data_format** parameter.\n",
    "\n",
    "- **start_time** and **end_time** in order to filter dataset in specific time range."
   ]
  },
  {
   "cell_type": "code",
   "execution_count": 11,
   "id": "e0dbf1fe",
   "metadata": {},
   "outputs": [
    {
     "name": "stdout",
     "output_type": "stream",
     "text": [
      "Training dataset job started successfully, you can follow the progress at https://e457b610-ee84-11ec-826a-b9f03258546b.cloud.hopsworks.ai/p/1147/jobs/named/exodenous_sale_1_1_create_fv_td_20062022143924/executions\n"
     ]
    },
    {
     "name": "stderr",
     "output_type": "stream",
     "text": [
      "VersionWarning: Incremented version to `1`.\n"
     ]
    },
    {
     "data": {
      "text/plain": [
       "(1, <hsfs.core.job.Job at 0x7fa053a4cd30>)"
      ]
     },
     "execution_count": 11,
     "metadata": {},
     "output_type": "execute_result"
    }
   ],
   "source": [
    "feature_view.create_training_data(\n",
    "    description = 'training_dataset',\n",
    "    data_format = 'csv'\n",
    ")"
   ]
  },
  {
   "cell_type": "markdown",
   "id": "e2ef5b60",
   "metadata": {},
   "source": [
    "### <span style=\"color:#ff5f27;\">🧑🏻‍🔬 Dataset with splits</span>\n",
    "\n",
    "Also we can create dataset with **train and test** splits and even with **train, validation and test** splits!\n",
    "\n",
    "You can use `feature_view.create_train_test_split()` and `feature_view.create_train_validation_test_splits()` and simply specify `test_size` and `val_size`."
   ]
  },
  {
   "cell_type": "code",
   "execution_count": 12,
   "id": "40de622c",
   "metadata": {},
   "outputs": [
    {
     "name": "stdout",
     "output_type": "stream",
     "text": [
      "Training dataset job started successfully, you can follow the progress at https://e457b610-ee84-11ec-826a-b9f03258546b.cloud.hopsworks.ai/p/1147/jobs/named/exodenous_sale_1_2_create_fv_td_20062022144029/executions\n"
     ]
    },
    {
     "name": "stderr",
     "output_type": "stream",
     "text": [
      "VersionWarning: Incremented version to `2`.\n"
     ]
    },
    {
     "data": {
      "text/plain": [
       "(2, <hsfs.core.job.Job at 0x7fa0539d8220>)"
      ]
     },
     "execution_count": 12,
     "metadata": {},
     "output_type": "execute_result"
    }
   ],
   "source": [
    "feature_view.create_train_test_split(\n",
    "    test_size = 0.2\n",
    ")"
   ]
  },
  {
   "cell_type": "code",
   "execution_count": 13,
   "id": "8f4d1f5d",
   "metadata": {},
   "outputs": [
    {
     "name": "stdout",
     "output_type": "stream",
     "text": [
      "Training dataset job started successfully, you can follow the progress at https://e457b610-ee84-11ec-826a-b9f03258546b.cloud.hopsworks.ai/p/1147/jobs/named/exodenous_sale_1_3_create_fv_td_20062022144139/executions\n"
     ]
    },
    {
     "name": "stderr",
     "output_type": "stream",
     "text": [
      "VersionWarning: Incremented version to `3`.\n"
     ]
    },
    {
     "data": {
      "text/plain": [
       "(3, <hsfs.core.job.Job at 0x7fa0539e0d30>)"
      ]
     },
     "execution_count": 13,
     "metadata": {},
     "output_type": "execute_result"
    }
   ],
   "source": [
    "feature_view.create_train_validation_test_splits(\n",
    "    val_size = 0.2,\n",
    "    test_size = 0.1\n",
    ")"
   ]
  },
  {
   "cell_type": "markdown",
   "id": "49998b39",
   "metadata": {},
   "source": [
    "---\n",
    "\n",
    "## <span style=\"color:#ff5f27;\"> 🪝 Training Dataset retreival </span>"
   ]
  },
  {
   "cell_type": "code",
   "execution_count": 14,
   "id": "d3e99460",
   "metadata": {},
   "outputs": [
    {
     "name": "stderr",
     "output_type": "stream",
     "text": [
      "FutureWarning: pyarrow.hdfs.HadoopFileSystem is deprecated as of 2.0.0, please use pyarrow.fs.HadoopFileSystem instead.\n"
     ]
    }
   ],
   "source": [
    "X_train, y_train, X_test, y_test = feature_view.get_train_test_split(\n",
    "    training_dataset_version = 2\n",
    ")"
   ]
  },
  {
   "cell_type": "code",
   "execution_count": 15,
   "id": "6b895284",
   "metadata": {},
   "outputs": [
    {
     "data": {
      "text/html": [
       "<div>\n",
       "<style scoped>\n",
       "    .dataframe tbody tr th:only-of-type {\n",
       "        vertical-align: middle;\n",
       "    }\n",
       "\n",
       "    .dataframe tbody tr th {\n",
       "        vertical-align: top;\n",
       "    }\n",
       "\n",
       "    .dataframe thead th {\n",
       "        text-align: right;\n",
       "    }\n",
       "</style>\n",
       "<table border=\"1\" class=\"dataframe\">\n",
       "  <thead>\n",
       "    <tr style=\"text-align: right;\">\n",
       "      <th></th>\n",
       "      <th>store</th>\n",
       "      <th>dept</th>\n",
       "      <th>date</th>\n",
       "      <th>is_holiday</th>\n",
       "      <th>sales_last_30_days_store_dep</th>\n",
       "      <th>sales_last_30_days_store</th>\n",
       "      <th>sales_last_90_days_store_dep</th>\n",
       "      <th>sales_last_90_days_store</th>\n",
       "      <th>sales_last_180_days_store_dep</th>\n",
       "      <th>sales_last_180_days_store</th>\n",
       "      <th>sales_last_365_days_store_dep</th>\n",
       "      <th>sales_last_365_days_store</th>\n",
       "      <th>fuel_price</th>\n",
       "      <th>unemployment</th>\n",
       "      <th>cpi</th>\n",
       "    </tr>\n",
       "  </thead>\n",
       "  <tbody>\n",
       "    <tr>\n",
       "      <th>0</th>\n",
       "      <td>1</td>\n",
       "      <td>1</td>\n",
       "      <td>1265932800000</td>\n",
       "      <td>1</td>\n",
       "      <td>0.0</td>\n",
       "      <td>0.0</td>\n",
       "      <td>0.0</td>\n",
       "      <td>0.0</td>\n",
       "      <td>0.0</td>\n",
       "      <td>0.0</td>\n",
       "      <td>0.0</td>\n",
       "      <td>0.0</td>\n",
       "      <td>2.548</td>\n",
       "      <td>8.106</td>\n",
       "      <td>211.242170</td>\n",
       "    </tr>\n",
       "    <tr>\n",
       "      <th>1</th>\n",
       "      <td>1</td>\n",
       "      <td>1</td>\n",
       "      <td>1266537600000</td>\n",
       "      <td>0</td>\n",
       "      <td>0.0</td>\n",
       "      <td>0.0</td>\n",
       "      <td>0.0</td>\n",
       "      <td>0.0</td>\n",
       "      <td>0.0</td>\n",
       "      <td>0.0</td>\n",
       "      <td>0.0</td>\n",
       "      <td>0.0</td>\n",
       "      <td>2.514</td>\n",
       "      <td>8.106</td>\n",
       "      <td>211.289143</td>\n",
       "    </tr>\n",
       "    <tr>\n",
       "      <th>2</th>\n",
       "      <td>1</td>\n",
       "      <td>1</td>\n",
       "      <td>1267142400000</td>\n",
       "      <td>0</td>\n",
       "      <td>0.0</td>\n",
       "      <td>0.0</td>\n",
       "      <td>0.0</td>\n",
       "      <td>0.0</td>\n",
       "      <td>0.0</td>\n",
       "      <td>0.0</td>\n",
       "      <td>0.0</td>\n",
       "      <td>0.0</td>\n",
       "      <td>2.561</td>\n",
       "      <td>8.106</td>\n",
       "      <td>211.319643</td>\n",
       "    </tr>\n",
       "    <tr>\n",
       "      <th>3</th>\n",
       "      <td>1</td>\n",
       "      <td>1</td>\n",
       "      <td>1268352000000</td>\n",
       "      <td>0</td>\n",
       "      <td>0.0</td>\n",
       "      <td>0.0</td>\n",
       "      <td>0.0</td>\n",
       "      <td>0.0</td>\n",
       "      <td>0.0</td>\n",
       "      <td>0.0</td>\n",
       "      <td>0.0</td>\n",
       "      <td>0.0</td>\n",
       "      <td>2.667</td>\n",
       "      <td>8.106</td>\n",
       "      <td>211.380643</td>\n",
       "    </tr>\n",
       "    <tr>\n",
       "      <th>4</th>\n",
       "      <td>1</td>\n",
       "      <td>1</td>\n",
       "      <td>1274400000000</td>\n",
       "      <td>0</td>\n",
       "      <td>0.0</td>\n",
       "      <td>0.0</td>\n",
       "      <td>0.0</td>\n",
       "      <td>0.0</td>\n",
       "      <td>0.0</td>\n",
       "      <td>0.0</td>\n",
       "      <td>0.0</td>\n",
       "      <td>0.0</td>\n",
       "      <td>2.826</td>\n",
       "      <td>7.808</td>\n",
       "      <td>210.617093</td>\n",
       "    </tr>\n",
       "  </tbody>\n",
       "</table>\n",
       "</div>"
      ],
      "text/plain": [
       "   store  dept           date  is_holiday  sales_last_30_days_store_dep  \\\n",
       "0      1     1  1265932800000           1                           0.0   \n",
       "1      1     1  1266537600000           0                           0.0   \n",
       "2      1     1  1267142400000           0                           0.0   \n",
       "3      1     1  1268352000000           0                           0.0   \n",
       "4      1     1  1274400000000           0                           0.0   \n",
       "\n",
       "   sales_last_30_days_store  sales_last_90_days_store_dep  \\\n",
       "0                       0.0                           0.0   \n",
       "1                       0.0                           0.0   \n",
       "2                       0.0                           0.0   \n",
       "3                       0.0                           0.0   \n",
       "4                       0.0                           0.0   \n",
       "\n",
       "   sales_last_90_days_store  sales_last_180_days_store_dep  \\\n",
       "0                       0.0                            0.0   \n",
       "1                       0.0                            0.0   \n",
       "2                       0.0                            0.0   \n",
       "3                       0.0                            0.0   \n",
       "4                       0.0                            0.0   \n",
       "\n",
       "   sales_last_180_days_store  sales_last_365_days_store_dep  \\\n",
       "0                        0.0                            0.0   \n",
       "1                        0.0                            0.0   \n",
       "2                        0.0                            0.0   \n",
       "3                        0.0                            0.0   \n",
       "4                        0.0                            0.0   \n",
       "\n",
       "   sales_last_365_days_store  fuel_price  unemployment         cpi  \n",
       "0                        0.0       2.548         8.106  211.242170  \n",
       "1                        0.0       2.514         8.106  211.289143  \n",
       "2                        0.0       2.561         8.106  211.319643  \n",
       "3                        0.0       2.667         8.106  211.380643  \n",
       "4                        0.0       2.826         7.808  210.617093  "
      ]
     },
     "execution_count": 15,
     "metadata": {},
     "output_type": "execute_result"
    }
   ],
   "source": [
    "X_train.head()"
   ]
  },
  {
   "cell_type": "code",
   "execution_count": 16,
   "id": "27f9dd7c",
   "metadata": {},
   "outputs": [
    {
     "data": {
      "text/html": [
       "<div>\n",
       "<style scoped>\n",
       "    .dataframe tbody tr th:only-of-type {\n",
       "        vertical-align: middle;\n",
       "    }\n",
       "\n",
       "    .dataframe tbody tr th {\n",
       "        vertical-align: top;\n",
       "    }\n",
       "\n",
       "    .dataframe thead th {\n",
       "        text-align: right;\n",
       "    }\n",
       "</style>\n",
       "<table border=\"1\" class=\"dataframe\">\n",
       "  <thead>\n",
       "    <tr style=\"text-align: right;\">\n",
       "      <th></th>\n",
       "      <th>weekly_sales</th>\n",
       "    </tr>\n",
       "  </thead>\n",
       "  <tbody>\n",
       "    <tr>\n",
       "      <th>0</th>\n",
       "      <td>46039.49</td>\n",
       "    </tr>\n",
       "    <tr>\n",
       "      <th>1</th>\n",
       "      <td>41595.55</td>\n",
       "    </tr>\n",
       "    <tr>\n",
       "      <th>2</th>\n",
       "      <td>19403.54</td>\n",
       "    </tr>\n",
       "    <tr>\n",
       "      <th>3</th>\n",
       "      <td>21043.39</td>\n",
       "    </tr>\n",
       "    <tr>\n",
       "      <th>4</th>\n",
       "      <td>14773.04</td>\n",
       "    </tr>\n",
       "  </tbody>\n",
       "</table>\n",
       "</div>"
      ],
      "text/plain": [
       "   weekly_sales\n",
       "0      46039.49\n",
       "1      41595.55\n",
       "2      19403.54\n",
       "3      21043.39\n",
       "4      14773.04"
      ]
     },
     "execution_count": 16,
     "metadata": {},
     "output_type": "execute_result"
    }
   ],
   "source": [
    "y_train.head()"
   ]
  },
  {
   "cell_type": "markdown",
   "id": "461367c1",
   "metadata": {},
   "source": [
    "---\n",
    "\n",
    "## <span style=\"color:#ff5f27;\">🔮 Creating Training Datasets with Event Time filter </span>\n",
    "\n",
    "First of all lets import **datetime** from datetime library and set up a time format.\n",
    "\n",
    "Then we can define start_time point and end_time point.\n",
    "\n",
    "Finally we can create training dataset with data in specific time bourders. "
   ]
  },
  {
   "cell_type": "code",
   "execution_count": 17,
   "id": "9b67f3a8",
   "metadata": {},
   "outputs": [],
   "source": [
    "from datetime import datetime\n",
    "\n",
    "def timestamp_2_time(x):\n",
    "    dt_obj = datetime.strptime(x, '%Y-%m-%d')\n",
    "    dt_obj = dt_obj.timestamp() * 1000\n",
    "    return int(dt_obj)"
   ]
  },
  {
   "cell_type": "code",
   "execution_count": 18,
   "id": "909ab7b6",
   "metadata": {},
   "outputs": [],
   "source": [
    "start_time = timestamp_2_time('2008-01-01')\n",
    "end_time = timestamp_2_time('2012-01-01')"
   ]
  },
  {
   "cell_type": "code",
   "execution_count": 19,
   "id": "f58cb177",
   "metadata": {},
   "outputs": [],
   "source": [
    "exogenous_fg = fs.get_or_create_feature_group(\n",
    "    name = 'exogenous_fg',\n",
    "    version = 1\n",
    ")\n",
    "\n",
    "query = exogenous_fg.select(['date','temperature','fuel_price'])"
   ]
  },
  {
   "cell_type": "code",
   "execution_count": 20,
   "id": "a6eb1bc9",
   "metadata": {},
   "outputs": [
    {
     "name": "stdout",
     "output_type": "stream",
     "text": [
      "2022-06-20 14:43:04,776 INFO: USE `basics_featurestore`\n",
      "2022-06-20 14:43:05,677 INFO: SELECT `fg0`.`date` `date`, `fg0`.`temperature` `temperature`, `fg0`.`fuel_price` `fuel_price`\n",
      "FROM `basics_featurestore`.`exogenous_fg_1` `fg0`\n"
     ]
    },
    {
     "data": {
      "text/html": [
       "<div>\n",
       "<style scoped>\n",
       "    .dataframe tbody tr th:only-of-type {\n",
       "        vertical-align: middle;\n",
       "    }\n",
       "\n",
       "    .dataframe tbody tr th {\n",
       "        vertical-align: top;\n",
       "    }\n",
       "\n",
       "    .dataframe thead th {\n",
       "        text-align: right;\n",
       "    }\n",
       "</style>\n",
       "<table border=\"1\" class=\"dataframe\">\n",
       "  <thead>\n",
       "    <tr style=\"text-align: right;\">\n",
       "      <th></th>\n",
       "      <th>date</th>\n",
       "      <th>temperature</th>\n",
       "      <th>fuel_price</th>\n",
       "    </tr>\n",
       "  </thead>\n",
       "  <tbody>\n",
       "    <tr>\n",
       "      <th>0</th>\n",
       "      <td>1326412800000</td>\n",
       "      <td>48.07</td>\n",
       "      <td>3.657</td>\n",
       "    </tr>\n",
       "    <tr>\n",
       "      <th>1</th>\n",
       "      <td>1296777600000</td>\n",
       "      <td>36.33</td>\n",
       "      <td>2.989</td>\n",
       "    </tr>\n",
       "    <tr>\n",
       "      <th>2</th>\n",
       "      <td>1312502400000</td>\n",
       "      <td>86.09</td>\n",
       "      <td>3.662</td>\n",
       "    </tr>\n",
       "    <tr>\n",
       "      <th>3</th>\n",
       "      <td>1310688000000</td>\n",
       "      <td>91.05</td>\n",
       "      <td>3.575</td>\n",
       "    </tr>\n",
       "    <tr>\n",
       "      <th>4</th>\n",
       "      <td>1330646400000</td>\n",
       "      <td>52.27</td>\n",
       "      <td>4.178</td>\n",
       "    </tr>\n",
       "  </tbody>\n",
       "</table>\n",
       "</div>"
      ],
      "text/plain": [
       "            date  temperature  fuel_price\n",
       "0  1326412800000        48.07       3.657\n",
       "1  1296777600000        36.33       2.989\n",
       "2  1312502400000        86.09       3.662\n",
       "3  1310688000000        91.05       3.575\n",
       "4  1330646400000        52.27       4.178"
      ]
     },
     "execution_count": 20,
     "metadata": {},
     "output_type": "execute_result"
    }
   ],
   "source": [
    "query.show(5)"
   ]
  },
  {
   "cell_type": "code",
   "execution_count": 21,
   "id": "ea02ec5b",
   "metadata": {},
   "outputs": [
    {
     "name": "stdout",
     "output_type": "stream",
     "text": [
      "Feature view created successfully, explore it at https://e457b610-ee84-11ec-826a-b9f03258546b.cloud.hopsworks.ai/p/1147/fs/1095/fv/exogenous_fg_2008_2012/version/1\n"
     ]
    }
   ],
   "source": [
    "exogenous_fv = fs.create_feature_view(\n",
    "    name = 'exogenous_fg_2008_2012',\n",
    "    version = 1,\n",
    "    labels = ['fuel_price'],\n",
    "    query = query\n",
    ")"
   ]
  },
  {
   "cell_type": "code",
   "execution_count": 22,
   "id": "68bc21d0",
   "metadata": {},
   "outputs": [
    {
     "name": "stdout",
     "output_type": "stream",
     "text": [
      "Training dataset job started successfully, you can follow the progress at https://e457b610-ee84-11ec-826a-b9f03258546b.cloud.hopsworks.ai/p/1147/jobs/named/exogenous_fg_2008_2012_1_1_create_fv_td_20062022144309/executions\n"
     ]
    },
    {
     "name": "stderr",
     "output_type": "stream",
     "text": [
      "VersionWarning: Incremented version to `1`.\n"
     ]
    },
    {
     "data": {
      "text/plain": [
       "(1, <hsfs.core.job.Job at 0x7fa0357d56d0>)"
      ]
     },
     "execution_count": 22,
     "metadata": {},
     "output_type": "execute_result"
    }
   ],
   "source": [
    "exogenous_fv.create_training_data(\n",
    "    data_format = 'csv',\n",
    "    start_time = start_time,\n",
    "    end_time = end_time\n",
    ")"
   ]
  },
  {
   "cell_type": "markdown",
   "id": "a8cd5cac",
   "metadata": {},
   "source": [
    "---\n",
    "## <span style=\"color:#ff5f27;\"> 🪝 Training Dataset retreival </span>\n",
    "\n",
    "To retrieve training dataset from Feature Store we can use `get_training_dataset_splits()` or `get_training_dataset()` methods. \n",
    "\n",
    "If version is not provided - new one will be created.\n",
    "If version is provided and version exists - retrieves trainining dataset and returns as dataframe."
   ]
  },
  {
   "cell_type": "code",
   "execution_count": 26,
   "id": "3d177224",
   "metadata": {},
   "outputs": [],
   "source": [
    "X_train_lim, y_train_lim = exogenous_fv.get_training_data(\n",
    "    training_dataset_version = 1\n",
    ")"
   ]
  },
  {
   "cell_type": "code",
   "execution_count": 27,
   "id": "404cfd27",
   "metadata": {},
   "outputs": [
    {
     "data": {
      "text/html": [
       "<div>\n",
       "<style scoped>\n",
       "    .dataframe tbody tr th:only-of-type {\n",
       "        vertical-align: middle;\n",
       "    }\n",
       "\n",
       "    .dataframe tbody tr th {\n",
       "        vertical-align: top;\n",
       "    }\n",
       "\n",
       "    .dataframe thead th {\n",
       "        text-align: right;\n",
       "    }\n",
       "</style>\n",
       "<table border=\"1\" class=\"dataframe\">\n",
       "  <thead>\n",
       "    <tr style=\"text-align: right;\">\n",
       "      <th></th>\n",
       "      <th>date</th>\n",
       "      <th>temperature</th>\n",
       "    </tr>\n",
       "  </thead>\n",
       "  <tbody>\n",
       "    <tr>\n",
       "      <th>0</th>\n",
       "      <td>1296777600000</td>\n",
       "      <td>36.33</td>\n",
       "    </tr>\n",
       "    <tr>\n",
       "      <th>1</th>\n",
       "      <td>1312502400000</td>\n",
       "      <td>86.09</td>\n",
       "    </tr>\n",
       "    <tr>\n",
       "      <th>2</th>\n",
       "      <td>1310688000000</td>\n",
       "      <td>91.05</td>\n",
       "    </tr>\n",
       "    <tr>\n",
       "      <th>3</th>\n",
       "      <td>1306454400000</td>\n",
       "      <td>77.72</td>\n",
       "    </tr>\n",
       "    <tr>\n",
       "      <th>4</th>\n",
       "      <td>1287100800000</td>\n",
       "      <td>71.57</td>\n",
       "    </tr>\n",
       "  </tbody>\n",
       "</table>\n",
       "</div>"
      ],
      "text/plain": [
       "            date  temperature\n",
       "0  1296777600000        36.33\n",
       "1  1312502400000        86.09\n",
       "2  1310688000000        91.05\n",
       "3  1306454400000        77.72\n",
       "4  1287100800000        71.57"
      ]
     },
     "execution_count": 27,
     "metadata": {},
     "output_type": "execute_result"
    }
   ],
   "source": [
    "X_train_lim.head()"
   ]
  },
  {
   "cell_type": "code",
   "execution_count": 28,
   "id": "57a5e4bb",
   "metadata": {},
   "outputs": [
    {
     "data": {
      "text/html": [
       "<div>\n",
       "<style scoped>\n",
       "    .dataframe tbody tr th:only-of-type {\n",
       "        vertical-align: middle;\n",
       "    }\n",
       "\n",
       "    .dataframe tbody tr th {\n",
       "        vertical-align: top;\n",
       "    }\n",
       "\n",
       "    .dataframe thead th {\n",
       "        text-align: right;\n",
       "    }\n",
       "</style>\n",
       "<table border=\"1\" class=\"dataframe\">\n",
       "  <thead>\n",
       "    <tr style=\"text-align: right;\">\n",
       "      <th></th>\n",
       "      <th>fuel_price</th>\n",
       "    </tr>\n",
       "  </thead>\n",
       "  <tbody>\n",
       "    <tr>\n",
       "      <th>0</th>\n",
       "      <td>2.989</td>\n",
       "    </tr>\n",
       "    <tr>\n",
       "      <th>1</th>\n",
       "      <td>3.662</td>\n",
       "    </tr>\n",
       "    <tr>\n",
       "      <th>2</th>\n",
       "      <td>3.575</td>\n",
       "    </tr>\n",
       "    <tr>\n",
       "      <th>3</th>\n",
       "      <td>3.786</td>\n",
       "    </tr>\n",
       "    <tr>\n",
       "      <th>4</th>\n",
       "      <td>2.720</td>\n",
       "    </tr>\n",
       "  </tbody>\n",
       "</table>\n",
       "</div>"
      ],
      "text/plain": [
       "   fuel_price\n",
       "0       2.989\n",
       "1       3.662\n",
       "2       3.575\n",
       "3       3.786\n",
       "4       2.720"
      ]
     },
     "execution_count": 28,
     "metadata": {},
     "output_type": "execute_result"
    }
   ],
   "source": [
    "y_train_lim.head()"
   ]
  },
  {
   "cell_type": "markdown",
   "id": "82330f5b",
   "metadata": {},
   "source": [
    "---"
   ]
  }
 ],
 "metadata": {
  "kernelspec": {
   "display_name": "Python",
   "language": "python",
   "name": "python3"
  },
  "language_info": {
   "codemirror_mode": {
    "name": "ipython",
    "version": 3
   },
   "file_extension": ".py",
   "mimetype": "text/x-python",
   "name": "python",
   "nbconvert_exporter": "python",
   "pygments_lexer": "ipython3",
   "version": "3.8.11"
  }
 },
 "nbformat": 4,
 "nbformat_minor": 5
}