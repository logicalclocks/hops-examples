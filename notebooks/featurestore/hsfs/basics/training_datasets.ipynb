{
 "cells": [
  {
   "cell_type": "markdown",
   "id": "e9d75d62",
   "metadata": {},
   "source": [
    "# <span style=\"font-width:bold; font-size: 3rem; color:#1EB182;\"><img src=\"images/icon102.png\" width=\"38px\"></img> **Hopsworks Feature Store** </span><span style=\"font-width:bold; font-size: 3rem; color:#333;\">- Part 03: Training Data & Feature views</span>\n",
    "\n",
    "<span style=\"font-width:bold; font-size: 1.4rem;\">This is the third part of the quick start series of tutorials about Hopsworks Feature Store. This notebook explains how to read from a feature group and create training dataset within the feature store</span>\n",
    "\n",
    "## **🗒️ In this notebook we will see how to create a training dataset from the feature groups:** \n",
    "1. **Select the features** we want to train our model on,\n",
    "2. **How the features should be preprocessed,**\n",
    "3. **Create a Feature View**.\n",
    "3. **Create a dataset split** for training and validation data.\n",
    "\n",
    "![tutorial-flow](images/02_training-dataset.png) "
   ]
  },
  {
   "cell_type": "markdown",
   "id": "9d0872a4",
   "metadata": {},
   "source": [
    "---\n",
    "\n",
    "## 🧑🏻‍🏫 HSFS `Feature Views` and `Training Datasets`\n",
    "\n",
    "`Feature Views` is the third building block of the Hopsworks Feature Store. Feature Views store metadata of our dataset.\n",
    "\n",
    "`Training datasets` is the fourth building block of the Hopsworks Feature Store. \n",
    "\n",
    "Training datasets can be saved in a ML framework friendly format (eg. TfRecords, CSV, Numpy) and then be fed to a machine learning model for training.\n",
    "\n",
    "Training datasets can also be stored on external storage systems like Amazon S3 or GCS to be read by external model training platforms.\n",
    "\n",
    "As with the previous notebooks, the first step is to establish a connection with the Hopsworks feature store and get the feature store handle"
   ]
  },
  {
   "cell_type": "code",
   "execution_count": 1,
   "id": "62881e3d",
   "metadata": {},
   "outputs": [
    {
     "name": "stdout",
     "output_type": "stream",
     "text": [
      "Connected. Call `.close()` to terminate connection gracefully.\n"
     ]
    }
   ],
   "source": [
    "import hsfs\n",
    "\n",
    "# Create a connection\n",
    "connection = hsfs.connection()\n",
    "\n",
    "# Get the feature store handle for the project's feature store\n",
    "fs = connection.get_feature_store()"
   ]
  },
  {
   "cell_type": "markdown",
   "id": "e6805d6f",
   "metadata": {},
   "source": [
    "---"
   ]
  },
  {
   "cell_type": "markdown",
   "id": "c6963f49",
   "metadata": {},
   "source": [
    "## <span style=\"color:#ff5f27;\">⚙️ Feature View Creation</span>\n",
    "\n",
    "In the previous notebook ([feature_exploration](./feature_exploration.ipynb)) we walked through how to explore and query the Hopsworks feature store using HSFS. We can use the queries produced in the previous notebook to create a `Feature Views`."
   ]
  },
  {
   "cell_type": "code",
   "execution_count": 2,
   "id": "111e39cd",
   "metadata": {},
   "outputs": [],
   "source": [
    "sales_fg = fs.get_feature_group(\n",
    "    name = 'sales_fg',\n",
    "    version = 1\n",
    ")\n",
    "\n",
    "exogenous_fg = fs.get_feature_group(\n",
    "    name = 'exogenous_fg',\n",
    "    version = 1\n",
    ")\n",
    "\n",
    "query = sales_fg.select_all()\\\n",
    "        .join(exogenous_fg.select(['fuel_price', 'unemployment', 'cpi']))"
   ]
  },
  {
   "cell_type": "markdown",
   "id": "a53ab9be",
   "metadata": {},
   "source": [
    "In order to create Feature View we can use `FeatureStore.create_feature_view()` method."
   ]
  },
  {
   "cell_type": "code",
   "execution_count": 3,
   "id": "d6a2e7db",
   "metadata": {},
   "outputs": [
    {
     "name": "stdout",
     "output_type": "stream",
     "text": [
      "Feature view created successfully, explore it at https://1e87e1e0-e1b3-11ec-8067-e932b2b957b4.cloud.hopsworks.ai/p/122/fs/70/fv/exodenous_sale/version/1\n"
     ]
    }
   ],
   "source": [
    "feature_view = fs.create_feature_view(\n",
    "    name = 'exodenous_sale',\n",
    "    version = 1,\n",
    "    query = query\n",
    ")"
   ]
  },
  {
   "cell_type": "code",
   "execution_count": 4,
   "id": "b3c7109c",
   "metadata": {},
   "outputs": [
    {
     "data": {
      "text/plain": [
       "<hsfs.feature_view.FeatureView at 0x7f3214dbaa00>"
      ]
     },
     "execution_count": 4,
     "metadata": {},
     "output_type": "execute_result"
    }
   ],
   "source": [
    "feature_view"
   ]
  },
  {
   "cell_type": "markdown",
   "id": "56014c38",
   "metadata": {},
   "source": [
    "For now `Feature View` is saved in Hopsworks and we can retrieve it using `FeatureStore.get_feature_view()`"
   ]
  },
  {
   "cell_type": "code",
   "execution_count": 5,
   "id": "99728c79",
   "metadata": {},
   "outputs": [],
   "source": [
    "feature_view = fs.get_feature_view(\n",
    "    name = 'exodenous_sale',\n",
    "    version = 1\n",
    ")"
   ]
  },
  {
   "cell_type": "code",
   "execution_count": 6,
   "id": "5730a851",
   "metadata": {},
   "outputs": [
    {
     "data": {
      "text/plain": [
       "1"
      ]
     },
     "execution_count": 6,
     "metadata": {},
     "output_type": "execute_result"
    }
   ],
   "source": [
    "feature_view.version"
   ]
  },
  {
   "cell_type": "markdown",
   "id": "da2a37cf",
   "metadata": {},
   "source": [
    "> `FeatureView.preview_feature_vector()` returns a sample of assembled serving vector from online feature store"
   ]
  },
  {
   "cell_type": "code",
   "execution_count": 7,
   "id": "15d31ab1",
   "metadata": {},
   "outputs": [
    {
     "data": {
      "text/plain": [
       "[1,\n",
       " 1,\n",
       " 1296777600000,\n",
       " 21665.76,\n",
       " 0,\n",
       " 675987.35,\n",
       " 675987.35,\n",
       " 0.0,\n",
       " 0.0,\n",
       " 0.0,\n",
       " 0.0,\n",
       " 0.0,\n",
       " 0.0,\n",
       " 3.523,\n",
       " 7.962,\n",
       " 215.7332258]"
      ]
     },
     "execution_count": 7,
     "metadata": {},
     "output_type": "execute_result"
    }
   ],
   "source": [
    "feature_view.preview_feature_vector()"
   ]
  },
  {
   "cell_type": "markdown",
   "id": "5f0bcc0e",
   "metadata": {},
   "source": [
    "> To get subset of data use `FeatureView.get_batch_data()` "
   ]
  },
  {
   "cell_type": "code",
   "execution_count": 8,
   "id": "560f0f24",
   "metadata": {},
   "outputs": [
    {
     "name": "stdout",
     "output_type": "stream",
     "text": [
      "2022-06-02 16:49:58,482 INFO: USE `basics_featurestore`\n",
      "2022-06-02 16:49:59,171 INFO: SELECT `fg1`.`store` `store`, `fg1`.`dept` `dept`, `fg1`.`date` `date`, `fg1`.`weekly_sales` `weekly_sales`, `fg1`.`is_holiday` `is_holiday`, `fg1`.`sales_last_30_days_store_dep` `sales_last_30_days_store_dep`, `fg1`.`sales_last_30_days_store` `sales_last_30_days_store`, `fg1`.`sales_last_90_days_store_dep` `sales_last_90_days_store_dep`, `fg1`.`sales_last_90_days_store` `sales_last_90_days_store`, `fg1`.`sales_last_180_days_store_dep` `sales_last_180_days_store_dep`, `fg1`.`sales_last_180_days_store` `sales_last_180_days_store`, `fg1`.`sales_last_365_days_store_dep` `sales_last_365_days_store_dep`, `fg1`.`sales_last_365_days_store` `sales_last_365_days_store`, `fg0`.`fuel_price` `fuel_price`, `fg0`.`unemployment` `unemployment`, `fg0`.`cpi` `cpi`\n",
      "FROM `basics_featurestore`.`sales_fg_1` `fg1`\n",
      "INNER JOIN `basics_featurestore`.`exogenous_fg_1` `fg0` ON `fg1`.`store` = `fg0`.`store` AND `fg1`.`date` = `fg0`.`date`\n"
     ]
    }
   ],
   "source": [
    "df_batch = feature_view.get_batch_data()"
   ]
  },
  {
   "cell_type": "code",
   "execution_count": 9,
   "id": "6742fc72",
   "metadata": {},
   "outputs": [
    {
     "data": {
      "text/plain": [
       "pandas.core.frame.DataFrame"
      ]
     },
     "execution_count": 9,
     "metadata": {},
     "output_type": "execute_result"
    }
   ],
   "source": [
    "type(df_batch)"
   ]
  },
  {
   "cell_type": "code",
   "execution_count": 10,
   "id": "fbf5efa6",
   "metadata": {},
   "outputs": [
    {
     "data": {
      "text/html": [
       "<div>\n",
       "<style scoped>\n",
       "    .dataframe tbody tr th:only-of-type {\n",
       "        vertical-align: middle;\n",
       "    }\n",
       "\n",
       "    .dataframe tbody tr th {\n",
       "        vertical-align: top;\n",
       "    }\n",
       "\n",
       "    .dataframe thead th {\n",
       "        text-align: right;\n",
       "    }\n",
       "</style>\n",
       "<table border=\"1\" class=\"dataframe\">\n",
       "  <thead>\n",
       "    <tr style=\"text-align: right;\">\n",
       "      <th></th>\n",
       "      <th>store</th>\n",
       "      <th>dept</th>\n",
       "      <th>date</th>\n",
       "      <th>weekly_sales</th>\n",
       "      <th>is_holiday</th>\n",
       "      <th>sales_last_30_days_store_dep</th>\n",
       "      <th>sales_last_30_days_store</th>\n",
       "      <th>sales_last_90_days_store_dep</th>\n",
       "      <th>sales_last_90_days_store</th>\n",
       "      <th>sales_last_180_days_store_dep</th>\n",
       "      <th>sales_last_180_days_store</th>\n",
       "      <th>sales_last_365_days_store_dep</th>\n",
       "      <th>sales_last_365_days_store</th>\n",
       "      <th>fuel_price</th>\n",
       "      <th>unemployment</th>\n",
       "      <th>cpi</th>\n",
       "    </tr>\n",
       "  </thead>\n",
       "  <tbody>\n",
       "    <tr>\n",
       "      <th>0</th>\n",
       "      <td>6</td>\n",
       "      <td>49</td>\n",
       "      <td>1320364800000</td>\n",
       "      <td>8857.16</td>\n",
       "      <td>0</td>\n",
       "      <td>384336.97</td>\n",
       "      <td>384336.97</td>\n",
       "      <td>1149035.71</td>\n",
       "      <td>1149035.71</td>\n",
       "      <td>1366310.60</td>\n",
       "      <td>1366310.60</td>\n",
       "      <td>4503096.85</td>\n",
       "      <td>4503096.85</td>\n",
       "      <td>3.332</td>\n",
       "      <td>6.551</td>\n",
       "      <td>219.400081</td>\n",
       "    </tr>\n",
       "    <tr>\n",
       "      <th>1</th>\n",
       "      <td>26</td>\n",
       "      <td>20</td>\n",
       "      <td>1306454400000</td>\n",
       "      <td>3070.85</td>\n",
       "      <td>0</td>\n",
       "      <td>91724.78</td>\n",
       "      <td>91724.78</td>\n",
       "      <td>264616.07</td>\n",
       "      <td>264616.07</td>\n",
       "      <td>381574.26</td>\n",
       "      <td>381574.26</td>\n",
       "      <td>1100799.04</td>\n",
       "      <td>1100799.04</td>\n",
       "      <td>4.034</td>\n",
       "      <td>7.818</td>\n",
       "      <td>134.767774</td>\n",
       "    </tr>\n",
       "    <tr>\n",
       "      <th>2</th>\n",
       "      <td>44</td>\n",
       "      <td>42</td>\n",
       "      <td>1284681600000</td>\n",
       "      <td>80.14</td>\n",
       "      <td>0</td>\n",
       "      <td>1788.90</td>\n",
       "      <td>1788.90</td>\n",
       "      <td>917793.10</td>\n",
       "      <td>917793.10</td>\n",
       "      <td>2369840.59</td>\n",
       "      <td>2369840.59</td>\n",
       "      <td>8715466.49</td>\n",
       "      <td>8715466.49</td>\n",
       "      <td>2.875</td>\n",
       "      <td>7.804</td>\n",
       "      <td>126.145467</td>\n",
       "    </tr>\n",
       "    <tr>\n",
       "      <th>3</th>\n",
       "      <td>9</td>\n",
       "      <td>19</td>\n",
       "      <td>1305244800000</td>\n",
       "      <td>1685.34</td>\n",
       "      <td>0</td>\n",
       "      <td>50128.75</td>\n",
       "      <td>50128.75</td>\n",
       "      <td>145747.07</td>\n",
       "      <td>145747.07</td>\n",
       "      <td>568325.39</td>\n",
       "      <td>568325.39</td>\n",
       "      <td>1843007.60</td>\n",
       "      <td>1843007.60</td>\n",
       "      <td>3.899</td>\n",
       "      <td>6.380</td>\n",
       "      <td>219.604183</td>\n",
       "    </tr>\n",
       "    <tr>\n",
       "      <th>4</th>\n",
       "      <td>39</td>\n",
       "      <td>14</td>\n",
       "      <td>1291939200000</td>\n",
       "      <td>32003.82</td>\n",
       "      <td>0</td>\n",
       "      <td>592425.01</td>\n",
       "      <td>592425.01</td>\n",
       "      <td>3523397.38</td>\n",
       "      <td>3523397.38</td>\n",
       "      <td>8334755.73</td>\n",
       "      <td>8334755.73</td>\n",
       "      <td>10159948.60</td>\n",
       "      <td>10159948.60</td>\n",
       "      <td>2.843</td>\n",
       "      <td>8.476</td>\n",
       "      <td>210.237249</td>\n",
       "    </tr>\n",
       "  </tbody>\n",
       "</table>\n",
       "</div>"
      ],
      "text/plain": [
       "   store  dept           date  weekly_sales  is_holiday  \\\n",
       "0      6    49  1320364800000       8857.16           0   \n",
       "1     26    20  1306454400000       3070.85           0   \n",
       "2     44    42  1284681600000         80.14           0   \n",
       "3      9    19  1305244800000       1685.34           0   \n",
       "4     39    14  1291939200000      32003.82           0   \n",
       "\n",
       "   sales_last_30_days_store_dep  sales_last_30_days_store  \\\n",
       "0                     384336.97                 384336.97   \n",
       "1                      91724.78                  91724.78   \n",
       "2                       1788.90                   1788.90   \n",
       "3                      50128.75                  50128.75   \n",
       "4                     592425.01                 592425.01   \n",
       "\n",
       "   sales_last_90_days_store_dep  sales_last_90_days_store  \\\n",
       "0                    1149035.71                1149035.71   \n",
       "1                     264616.07                 264616.07   \n",
       "2                     917793.10                 917793.10   \n",
       "3                     145747.07                 145747.07   \n",
       "4                    3523397.38                3523397.38   \n",
       "\n",
       "   sales_last_180_days_store_dep  sales_last_180_days_store  \\\n",
       "0                     1366310.60                 1366310.60   \n",
       "1                      381574.26                  381574.26   \n",
       "2                     2369840.59                 2369840.59   \n",
       "3                      568325.39                  568325.39   \n",
       "4                     8334755.73                 8334755.73   \n",
       "\n",
       "   sales_last_365_days_store_dep  sales_last_365_days_store  fuel_price  \\\n",
       "0                     4503096.85                 4503096.85       3.332   \n",
       "1                     1100799.04                 1100799.04       4.034   \n",
       "2                     8715466.49                 8715466.49       2.875   \n",
       "3                     1843007.60                 1843007.60       3.899   \n",
       "4                    10159948.60                10159948.60       2.843   \n",
       "\n",
       "   unemployment         cpi  \n",
       "0         6.551  219.400081  \n",
       "1         7.818  134.767774  \n",
       "2         7.804  126.145467  \n",
       "3         6.380  219.604183  \n",
       "4         8.476  210.237249  "
      ]
     },
     "execution_count": 10,
     "metadata": {},
     "output_type": "execute_result"
    }
   ],
   "source": [
    "df_batch.head()"
   ]
  },
  {
   "cell_type": "markdown",
   "id": "d2c5b63f",
   "metadata": {},
   "source": [
    "---\n",
    "\n",
    "## <span style=\"color:#ff5f27;\">🏋️‍♀️ Training Dataset Creation</span>\n",
    "\n",
    "In Hopsworks training data is a query where the projection (set of features) is determined by the parent FeatureView with an optional snapshot on disk of the data returned by the query.\n",
    "\n",
    "**Training Dataset  may contain splits such as:** \n",
    "* Training set - the subset of training data used to train a model.\n",
    "* Validation set - the subset of training data used to evaluate hparams when training a model\n",
    "* Test set - the holdout subset of training data used to evaluate a mode\n",
    "\n",
    "To create training dataset we use `FeatureView.create_training_dataset()` method.\n",
    "\n",
    "⚠️ **Some important things**:\n",
    "- It will inherit the name of FeatureView.\n",
    "\n",
    "- The feature store currently supports the following data formats for\n",
    "training datasets: **tfrecord, csv, tsv, parquet, avro, orc**.\n",
    "\n",
    "- We can choose necessary format using **data_format** parameter.\n",
    "\n",
    "- Also we can specify split ratio using **splits** parameter.\n",
    "\n",
    "- **train_split** - specify which split will be used for training."
   ]
  },
  {
   "cell_type": "code",
   "execution_count": 11,
   "id": "d4f783c4",
   "metadata": {},
   "outputs": [
    {
     "name": "stdout",
     "output_type": "stream",
     "text": [
      "Training dataset job started successfully, you can follow the progress at https://1e87e1e0-e1b3-11ec-8067-e932b2b957b4.cloud.hopsworks.ai/p/122/jobs/named/exodenous_sale_1_1_create_fv_td_02062022165038/executions\n"
     ]
    }
   ],
   "source": [
    "train_df = feature_view.create_training_dataset(\n",
    "    version = 1,\n",
    "    description = 'trial_dataset',\n",
    "    data_format = 'csv',\n",
    "    splits = {'train': 80, 'validation': 20},\n",
    "    train_split = \"train\",\n",
    "    write_options = {'wait_for_job': False}\n",
    ")"
   ]
  },
  {
   "cell_type": "code",
   "execution_count": 12,
   "id": "84422291",
   "metadata": {},
   "outputs": [
    {
     "data": {
      "text/plain": [
       "(1, <hsfs.core.job.Job at 0x7f32010f2940>)"
      ]
     },
     "execution_count": 12,
     "metadata": {},
     "output_type": "execute_result"
    }
   ],
   "source": [
    "train_df"
   ]
  },
  {
   "cell_type": "markdown",
   "id": "b3f3b861",
   "metadata": {},
   "source": [
    "If we want to load dataset from Hopsworks we can use `FeatureView.get_training_dataset_splits()` method.\n",
    "\n",
    "By specifying **splits** parameter we can choose what split of training dataset to retrieve."
   ]
  },
  {
   "cell_type": "code",
   "execution_count": 13,
   "id": "4b704f54",
   "metadata": {},
   "outputs": [
    {
     "name": "stdout",
     "output_type": "stream",
     "text": [
      "2022-06-02 16:50:40,935 INFO: USE `basics_featurestore`\n",
      "2022-06-02 16:50:41,605 INFO: SELECT `fg1`.`store` `store`, `fg1`.`dept` `dept`, `fg1`.`date` `date`, `fg1`.`weekly_sales` `weekly_sales`, `fg1`.`is_holiday` `is_holiday`, `fg1`.`sales_last_30_days_store_dep` `sales_last_30_days_store_dep`, `fg1`.`sales_last_30_days_store` `sales_last_30_days_store`, `fg1`.`sales_last_90_days_store_dep` `sales_last_90_days_store_dep`, `fg1`.`sales_last_90_days_store` `sales_last_90_days_store`, `fg1`.`sales_last_180_days_store_dep` `sales_last_180_days_store_dep`, `fg1`.`sales_last_180_days_store` `sales_last_180_days_store`, `fg1`.`sales_last_365_days_store_dep` `sales_last_365_days_store_dep`, `fg1`.`sales_last_365_days_store` `sales_last_365_days_store`, `fg0`.`fuel_price` `fuel_price`, `fg0`.`unemployment` `unemployment`, `fg0`.`cpi` `cpi`\n",
      "FROM `basics_featurestore`.`sales_fg_1` `fg1`\n",
      "INNER JOIN `basics_featurestore`.`exogenous_fg_1` `fg0` ON `fg1`.`store` = `fg0`.`store` AND `fg1`.`date` = `fg0`.`date`\n"
     ]
    },
    {
     "data": {
      "text/html": [
       "<div>\n",
       "<style scoped>\n",
       "    .dataframe tbody tr th:only-of-type {\n",
       "        vertical-align: middle;\n",
       "    }\n",
       "\n",
       "    .dataframe tbody tr th {\n",
       "        vertical-align: top;\n",
       "    }\n",
       "\n",
       "    .dataframe thead th {\n",
       "        text-align: right;\n",
       "    }\n",
       "</style>\n",
       "<table border=\"1\" class=\"dataframe\">\n",
       "  <thead>\n",
       "    <tr style=\"text-align: right;\">\n",
       "      <th></th>\n",
       "      <th>store</th>\n",
       "      <th>dept</th>\n",
       "      <th>date</th>\n",
       "      <th>weekly_sales</th>\n",
       "      <th>is_holiday</th>\n",
       "      <th>sales_last_30_days_store_dep</th>\n",
       "      <th>sales_last_30_days_store</th>\n",
       "      <th>sales_last_90_days_store_dep</th>\n",
       "      <th>sales_last_90_days_store</th>\n",
       "      <th>sales_last_180_days_store_dep</th>\n",
       "      <th>sales_last_180_days_store</th>\n",
       "      <th>sales_last_365_days_store_dep</th>\n",
       "      <th>sales_last_365_days_store</th>\n",
       "      <th>fuel_price</th>\n",
       "      <th>unemployment</th>\n",
       "      <th>cpi</th>\n",
       "    </tr>\n",
       "  </thead>\n",
       "  <tbody>\n",
       "    <tr>\n",
       "      <th>0</th>\n",
       "      <td>6</td>\n",
       "      <td>49</td>\n",
       "      <td>1320364800000</td>\n",
       "      <td>8857.16</td>\n",
       "      <td>0</td>\n",
       "      <td>384336.97</td>\n",
       "      <td>384336.97</td>\n",
       "      <td>1149035.71</td>\n",
       "      <td>1149035.71</td>\n",
       "      <td>1366310.60</td>\n",
       "      <td>1366310.60</td>\n",
       "      <td>4503096.85</td>\n",
       "      <td>4503096.85</td>\n",
       "      <td>3.332</td>\n",
       "      <td>6.551</td>\n",
       "      <td>219.400081</td>\n",
       "    </tr>\n",
       "    <tr>\n",
       "      <th>1</th>\n",
       "      <td>26</td>\n",
       "      <td>20</td>\n",
       "      <td>1306454400000</td>\n",
       "      <td>3070.85</td>\n",
       "      <td>0</td>\n",
       "      <td>91724.78</td>\n",
       "      <td>91724.78</td>\n",
       "      <td>264616.07</td>\n",
       "      <td>264616.07</td>\n",
       "      <td>381574.26</td>\n",
       "      <td>381574.26</td>\n",
       "      <td>1100799.04</td>\n",
       "      <td>1100799.04</td>\n",
       "      <td>4.034</td>\n",
       "      <td>7.818</td>\n",
       "      <td>134.767774</td>\n",
       "    </tr>\n",
       "    <tr>\n",
       "      <th>2</th>\n",
       "      <td>44</td>\n",
       "      <td>42</td>\n",
       "      <td>1284681600000</td>\n",
       "      <td>80.14</td>\n",
       "      <td>0</td>\n",
       "      <td>1788.90</td>\n",
       "      <td>1788.90</td>\n",
       "      <td>917793.10</td>\n",
       "      <td>917793.10</td>\n",
       "      <td>2369840.59</td>\n",
       "      <td>2369840.59</td>\n",
       "      <td>8715466.49</td>\n",
       "      <td>8715466.49</td>\n",
       "      <td>2.875</td>\n",
       "      <td>7.804</td>\n",
       "      <td>126.145467</td>\n",
       "    </tr>\n",
       "    <tr>\n",
       "      <th>3</th>\n",
       "      <td>9</td>\n",
       "      <td>19</td>\n",
       "      <td>1305244800000</td>\n",
       "      <td>1685.34</td>\n",
       "      <td>0</td>\n",
       "      <td>50128.75</td>\n",
       "      <td>50128.75</td>\n",
       "      <td>145747.07</td>\n",
       "      <td>145747.07</td>\n",
       "      <td>568325.39</td>\n",
       "      <td>568325.39</td>\n",
       "      <td>1843007.60</td>\n",
       "      <td>1843007.60</td>\n",
       "      <td>3.899</td>\n",
       "      <td>6.380</td>\n",
       "      <td>219.604183</td>\n",
       "    </tr>\n",
       "    <tr>\n",
       "      <th>4</th>\n",
       "      <td>39</td>\n",
       "      <td>14</td>\n",
       "      <td>1291939200000</td>\n",
       "      <td>32003.82</td>\n",
       "      <td>0</td>\n",
       "      <td>592425.01</td>\n",
       "      <td>592425.01</td>\n",
       "      <td>3523397.38</td>\n",
       "      <td>3523397.38</td>\n",
       "      <td>8334755.73</td>\n",
       "      <td>8334755.73</td>\n",
       "      <td>10159948.60</td>\n",
       "      <td>10159948.60</td>\n",
       "      <td>2.843</td>\n",
       "      <td>8.476</td>\n",
       "      <td>210.237249</td>\n",
       "    </tr>\n",
       "  </tbody>\n",
       "</table>\n",
       "</div>"
      ],
      "text/plain": [
       "   store  dept           date  weekly_sales  is_holiday  \\\n",
       "0      6    49  1320364800000       8857.16           0   \n",
       "1     26    20  1306454400000       3070.85           0   \n",
       "2     44    42  1284681600000         80.14           0   \n",
       "3      9    19  1305244800000       1685.34           0   \n",
       "4     39    14  1291939200000      32003.82           0   \n",
       "\n",
       "   sales_last_30_days_store_dep  sales_last_30_days_store  \\\n",
       "0                     384336.97                 384336.97   \n",
       "1                      91724.78                  91724.78   \n",
       "2                       1788.90                   1788.90   \n",
       "3                      50128.75                  50128.75   \n",
       "4                     592425.01                 592425.01   \n",
       "\n",
       "   sales_last_90_days_store_dep  sales_last_90_days_store  \\\n",
       "0                    1149035.71                1149035.71   \n",
       "1                     264616.07                 264616.07   \n",
       "2                     917793.10                 917793.10   \n",
       "3                     145747.07                 145747.07   \n",
       "4                    3523397.38                3523397.38   \n",
       "\n",
       "   sales_last_180_days_store_dep  sales_last_180_days_store  \\\n",
       "0                     1366310.60                 1366310.60   \n",
       "1                      381574.26                  381574.26   \n",
       "2                     2369840.59                 2369840.59   \n",
       "3                      568325.39                  568325.39   \n",
       "4                     8334755.73                 8334755.73   \n",
       "\n",
       "   sales_last_365_days_store_dep  sales_last_365_days_store  fuel_price  \\\n",
       "0                     4503096.85                 4503096.85       3.332   \n",
       "1                     1100799.04                 1100799.04       4.034   \n",
       "2                     8715466.49                 8715466.49       2.875   \n",
       "3                     1843007.60                 1843007.60       3.899   \n",
       "4                    10159948.60                10159948.60       2.843   \n",
       "\n",
       "   unemployment         cpi  \n",
       "0         6.551  219.400081  \n",
       "1         7.818  134.767774  \n",
       "2         7.804  126.145467  \n",
       "3         6.380  219.604183  \n",
       "4         8.476  210.237249  "
      ]
     },
     "execution_count": 13,
     "metadata": {},
     "output_type": "execute_result"
    }
   ],
   "source": [
    "td_version, df = feature_view.get_training_dataset_splits(\n",
    "    splits = {},\n",
    "    start_time = None,\n",
    "    end_time = None,\n",
    "    version = 2\n",
    ")\n",
    "\n",
    "df.head()"
   ]
  },
  {
   "cell_type": "markdown",
   "id": "69c6e008",
   "metadata": {},
   "source": [
    "---\n",
    "\n",
    "## <span style=\"color:#ff5f27;\">🔮 Creating Training Datasets with Event Time filter </span>\n",
    "\n",
    "First of all lets import **datetime** from datetime library and set up a time format.\n",
    "\n",
    "Then we can define start_time point and end_time point.\n",
    "\n",
    "Finally we can create training dataset with data in specific time bourders. "
   ]
  },
  {
   "cell_type": "code",
   "execution_count": 14,
   "id": "f1fad30f",
   "metadata": {},
   "outputs": [],
   "source": [
    "from datetime import datetime\n",
    "\n",
    "def timestamp_2_time(x):\n",
    "    dt_obj = datetime.strptime(x, '%Y-%m-%d')\n",
    "    dt_obj = dt_obj.timestamp() * 1000\n",
    "    return int(dt_obj)"
   ]
  },
  {
   "cell_type": "code",
   "execution_count": 15,
   "id": "a3c9b07f",
   "metadata": {},
   "outputs": [],
   "source": [
    "start_time = timestamp_2_time('2008-01-01')\n",
    "end_time = timestamp_2_time('2012-01-01')"
   ]
  },
  {
   "cell_type": "code",
   "execution_count": 16,
   "id": "86038e21",
   "metadata": {},
   "outputs": [],
   "source": [
    "exogenous_fg = fs.get_feature_group(\n",
    "    name = 'exogenous_fg',\n",
    "    version = 1\n",
    ")\n",
    "\n",
    "query = exogenous_fg.select_all()"
   ]
  },
  {
   "cell_type": "code",
   "execution_count": 17,
   "id": "db9da079",
   "metadata": {},
   "outputs": [
    {
     "name": "stdout",
     "output_type": "stream",
     "text": [
      "Feature view created successfully, explore it at https://1e87e1e0-e1b3-11ec-8067-e932b2b957b4.cloud.hopsworks.ai/p/122/fs/70/fv/exogenous_fg_2008_2012/version/1\n"
     ]
    }
   ],
   "source": [
    "exogenous_fv = fs.create_feature_view(\n",
    "    name = 'exogenous_fg_2008_2012',\n",
    "    version = 1,\n",
    "    query = query\n",
    ")"
   ]
  },
  {
   "cell_type": "code",
   "execution_count": 18,
   "id": "e4e4ac58",
   "metadata": {},
   "outputs": [
    {
     "name": "stdout",
     "output_type": "stream",
     "text": [
      "Training dataset job started successfully, you can follow the progress at https://1e87e1e0-e1b3-11ec-8067-e932b2b957b4.cloud.hopsworks.ai/p/122/jobs/named/exogenous_fg_2008_2012_1_1_create_fv_td_02062022165122/executions\n"
     ]
    }
   ],
   "source": [
    "td_version, td_job = exogenous_fv.create_training_dataset(\n",
    "    description = 'exogenous_fg_filtered',\n",
    "    version = 1,\n",
    "    data_format = 'csv',\n",
    "    write_options = {'wait_for_job': True},\n",
    "    start_time = start_time,\n",
    "    end_time = end_time,\n",
    "    statistics_config={\"enabled\": False, \"histograms\": False, \"correlations\": False, \"exact_uniqueness\": False}\n",
    ")"
   ]
  },
  {
   "cell_type": "markdown",
   "id": "973a8c3b",
   "metadata": {},
   "source": [
    "---\n",
    "## <span style=\"color:#ff5f27;\"> 🪝 Training Dataset retreival </span>\n",
    "\n",
    "To retrieve training dataset from Feature Store we can use `get_training_dataset_splits()` or `get_training_dataset()` methods. \n",
    "\n",
    "If version is not provided - new one will be created.\n",
    "If version is provided and version exists - retrieves trainining dataset and returns as dataframe."
   ]
  },
  {
   "cell_type": "code",
   "execution_count": 19,
   "id": "02d706dc",
   "metadata": {},
   "outputs": [
    {
     "name": "stdout",
     "output_type": "stream",
     "text": [
      "2022-06-02 16:52:06,790 INFO: USE `basics_featurestore`\n",
      "2022-06-02 16:52:07,475 INFO: SELECT `fg0`.`store` `store`, `fg0`.`date` `date`, `fg0`.`temperature` `temperature`, `fg0`.`fuel_price` `fuel_price`, `fg0`.`markdown1` `markdown1`, `fg0`.`markdown2` `markdown2`, `fg0`.`markdown3` `markdown3`, `fg0`.`markdown4` `markdown4`, `fg0`.`markdown5` `markdown5`, `fg0`.`cpi` `cpi`, `fg0`.`unemployment` `unemployment`, `fg0`.`is_holiday` `is_holiday`, CASE WHEN `fg0`.`appended_feature` IS NULL THEN 10.0 ELSE `fg0`.`appended_feature` END `appended_feature`\n",
      "FROM `basics_featurestore`.`exogenous_fg_1` `fg0`\n",
      "WHERE `fg0`.`date` >= 1199145600000 AND `fg0`.`date` <= 1325376000000\n"
     ]
    },
    {
     "name": "stderr",
     "output_type": "stream",
     "text": [
      "VersionWarning: No version provided for creating training dataset, incremented version to `2`.\n"
     ]
    },
    {
     "data": {
      "text/html": [
       "<div>\n",
       "<style scoped>\n",
       "    .dataframe tbody tr th:only-of-type {\n",
       "        vertical-align: middle;\n",
       "    }\n",
       "\n",
       "    .dataframe tbody tr th {\n",
       "        vertical-align: top;\n",
       "    }\n",
       "\n",
       "    .dataframe thead th {\n",
       "        text-align: right;\n",
       "    }\n",
       "</style>\n",
       "<table border=\"1\" class=\"dataframe\">\n",
       "  <thead>\n",
       "    <tr style=\"text-align: right;\">\n",
       "      <th></th>\n",
       "      <th>store</th>\n",
       "      <th>date</th>\n",
       "      <th>temperature</th>\n",
       "      <th>fuel_price</th>\n",
       "      <th>markdown1</th>\n",
       "      <th>markdown2</th>\n",
       "      <th>markdown3</th>\n",
       "      <th>markdown4</th>\n",
       "      <th>markdown5</th>\n",
       "      <th>cpi</th>\n",
       "      <th>unemployment</th>\n",
       "      <th>is_holiday</th>\n",
       "      <th>appended_feature</th>\n",
       "    </tr>\n",
       "  </thead>\n",
       "  <tbody>\n",
       "    <tr>\n",
       "      <th>0</th>\n",
       "      <td>21</td>\n",
       "      <td>1296777600000</td>\n",
       "      <td>36.33</td>\n",
       "      <td>2.989</td>\n",
       "      <td>NaN</td>\n",
       "      <td>NaN</td>\n",
       "      <td>NaN</td>\n",
       "      <td>NaN</td>\n",
       "      <td>NaN</td>\n",
       "      <td>212.224065</td>\n",
       "      <td>8.028</td>\n",
       "      <td>0</td>\n",
       "      <td>10.0</td>\n",
       "    </tr>\n",
       "    <tr>\n",
       "      <th>1</th>\n",
       "      <td>4</td>\n",
       "      <td>1312502400000</td>\n",
       "      <td>86.09</td>\n",
       "      <td>3.662</td>\n",
       "      <td>NaN</td>\n",
       "      <td>NaN</td>\n",
       "      <td>NaN</td>\n",
       "      <td>NaN</td>\n",
       "      <td>NaN</td>\n",
       "      <td>129.184645</td>\n",
       "      <td>5.644</td>\n",
       "      <td>0</td>\n",
       "      <td>10.0</td>\n",
       "    </tr>\n",
       "    <tr>\n",
       "      <th>2</th>\n",
       "      <td>30</td>\n",
       "      <td>1310688000000</td>\n",
       "      <td>91.05</td>\n",
       "      <td>3.575</td>\n",
       "      <td>NaN</td>\n",
       "      <td>NaN</td>\n",
       "      <td>NaN</td>\n",
       "      <td>NaN</td>\n",
       "      <td>NaN</td>\n",
       "      <td>215.013443</td>\n",
       "      <td>7.852</td>\n",
       "      <td>0</td>\n",
       "      <td>10.0</td>\n",
       "    </tr>\n",
       "    <tr>\n",
       "      <th>3</th>\n",
       "      <td>1</td>\n",
       "      <td>1306454400000</td>\n",
       "      <td>77.72</td>\n",
       "      <td>3.786</td>\n",
       "      <td>NaN</td>\n",
       "      <td>NaN</td>\n",
       "      <td>NaN</td>\n",
       "      <td>NaN</td>\n",
       "      <td>NaN</td>\n",
       "      <td>215.503788</td>\n",
       "      <td>7.682</td>\n",
       "      <td>0</td>\n",
       "      <td>10.0</td>\n",
       "    </tr>\n",
       "    <tr>\n",
       "      <th>4</th>\n",
       "      <td>37</td>\n",
       "      <td>1287100800000</td>\n",
       "      <td>71.57</td>\n",
       "      <td>2.720</td>\n",
       "      <td>NaN</td>\n",
       "      <td>NaN</td>\n",
       "      <td>NaN</td>\n",
       "      <td>NaN</td>\n",
       "      <td>NaN</td>\n",
       "      <td>210.580594</td>\n",
       "      <td>8.476</td>\n",
       "      <td>0</td>\n",
       "      <td>10.0</td>\n",
       "    </tr>\n",
       "  </tbody>\n",
       "</table>\n",
       "</div>"
      ],
      "text/plain": [
       "   store           date  temperature  fuel_price  markdown1  markdown2  \\\n",
       "0     21  1296777600000        36.33       2.989        NaN        NaN   \n",
       "1      4  1312502400000        86.09       3.662        NaN        NaN   \n",
       "2     30  1310688000000        91.05       3.575        NaN        NaN   \n",
       "3      1  1306454400000        77.72       3.786        NaN        NaN   \n",
       "4     37  1287100800000        71.57       2.720        NaN        NaN   \n",
       "\n",
       "   markdown3  markdown4  markdown5         cpi  unemployment  is_holiday  \\\n",
       "0        NaN        NaN        NaN  212.224065         8.028           0   \n",
       "1        NaN        NaN        NaN  129.184645         5.644           0   \n",
       "2        NaN        NaN        NaN  215.013443         7.852           0   \n",
       "3        NaN        NaN        NaN  215.503788         7.682           0   \n",
       "4        NaN        NaN        NaN  210.580594         8.476           0   \n",
       "\n",
       "   appended_feature  \n",
       "0              10.0  \n",
       "1              10.0  \n",
       "2              10.0  \n",
       "3              10.0  \n",
       "4              10.0  "
      ]
     },
     "execution_count": 19,
     "metadata": {},
     "output_type": "execute_result"
    }
   ],
   "source": [
    "td_version, df = exogenous_fv.get_training_dataset(\n",
    "    start_time = start_time,\n",
    "    end_time = end_time\n",
    ")\n",
    "\n",
    "df.head()"
   ]
  },
  {
   "cell_type": "markdown",
   "id": "18b0def4",
   "metadata": {},
   "source": [
    "---"
   ]
  }
 ],
 "metadata": {
  "kernelspec": {
   "display_name": "Python",
   "language": "python",
   "name": "python3"
  },
  "language_info": {
   "codemirror_mode": {
    "name": "ipython",
    "version": 3
   },
   "file_extension": ".py",
   "mimetype": "text/x-python",
   "name": "python",
   "nbconvert_exporter": "python",
   "pygments_lexer": "ipython3",
   "version": "3.8.11"
  }
 },
 "nbformat": 4,
 "nbformat_minor": 5
}