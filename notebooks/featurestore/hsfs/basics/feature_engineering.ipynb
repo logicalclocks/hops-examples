{
 "cells": [
  {
   "cell_type": "markdown",
   "id": "3b10e434",
   "metadata": {},
   "source": [
    "---\n",
    "title: \"Feature Engineering/Ingestion\"\n",
    "date: 2021-02-24\n",
    "type: technical_note\n",
    "draft: false\n",
    "---"
   ]
  },
  {
   "cell_type": "markdown",
   "id": "8231055e",
   "metadata": {},
   "source": [
    "# <span style=\"font-width:bold; font-size: 3rem; color:#1EB182;\"><img src=\"images/icon102.png\" width=\"38px\"></img> **Hopsworks Feature Store** </span><span style=\"font-width:bold; font-size: 3rem; color:#333;\">- Part 01: Load, Engineer & Connect</span>\n",
    "\n",
    "<span style=\"font-width:bold;\"> This is the first part of the quick start series of tutorials about Hopsworks Feature Store. As part of this first module, we will work with data related to credit card transactions. \n",
    "The objective of this tutorial is to demonstrate how to work with the **Hopworks Feature Store**</span>\n",
    "\n",
    "## **🗒️ This notebook is divided in 3 sections:** \n",
    "1. Connect to the Hopsworks feature store. \n",
    "2. Loading the data and feature engineeing.\n",
    "3. Create feature groups and upload them to the feature store.\n",
    "4. Append additional data and features to Feature Group\n",
    "5. Deleting Feature Group\n",
    "\n",
    "![tutorial-flow](images/01_featuregroups.png)\n",
    "\n",
    "## <span style=\"color:#ff5f27;\"> 🧑🏻‍🏫 Features and Feature Groups </span>\n",
    "\n",
    "The Hopsworks feature store is a centralized repository, within an organization, to manage machine learning features. A feature is a measurable property of a phenomenon. It could be a simple value such as the age of a customer, or it could be an aggregated value, such as the number of transactions made by a customer in the last 30 days.\n",
    "\n",
    "A feature is not restricted to a numeric value, it could be a string representing an address, or an image.\n",
    "\n",
    "![Feature Store Overview](../images/overview.svg \"Feature Store Overview\")\n",
    "\n",
    "A feature store is not a pure storage service, it goes hand-in-hand with feature computation. Feature engineering is the process of transforming raw data into a format that is compatible and understandable for predictive models.\n",
    "\n",
    "In this notebook we are going to focus on the left side of the picture above. In particular how data engeneers can create features and push them to the Hopsworks feature store so that they are available to the data scientists\n",
    "\n",
    "### <span style=\"color:#ff5f27;\">🧑🏻‍🏫 HSFS library</span>\n",
    "\n",
    "The Hopsworks feature feature store library is called `hsfs` (**H**opswork**s** **F**eature **S**tore). \n",
    "The library is Apache V2 licensed and available [here](https://github.com/logicalclocks/feature-store-api). The library is currently available for Python and JVM languages such as Scala and Java.\n",
    "In this notebook, we are going to cover Python part.\n",
    "\n",
    "You can find the complete documentation of the library here: \n",
    "\n",
    "The first step is to establish a connection with your Hopsworks feature store instance and retrieve the object that represents the feature store you'll be working with. \n",
    "\n",
    "By default `connection.get_feature_store()` returns the feature store of the project you are working with. However, it accepts also a project name as parameter to select a different feature store. "
   ]
  },
  {
   "cell_type": "code",
   "execution_count": 1,
   "id": "32a7d8ed",
   "metadata": {},
   "outputs": [
    {
     "name": "stdout",
     "output_type": "stream",
     "text": [
      "Connected. Call `.close()` to terminate connection gracefully.\n"
     ]
    }
   ],
   "source": [
    "import hsfs\n",
    "# Create a connection\n",
    "connection = hsfs.connection()\n",
    "# Get the feature store handle for the project's feature store\n",
    "fs = connection.get_feature_store()\n",
    "\n",
    "# Hadoop File System in order to access data.\n",
    "from hops import hdfs"
   ]
  },
  {
   "cell_type": "markdown",
   "id": "41bfcdea",
   "metadata": {},
   "source": [
    "> Using `hdfs` we can get **project name** using `hdfs.project_name()` method and **project path** using `hdfs.project_path()` method."
   ]
  },
  {
   "cell_type": "code",
   "execution_count": 2,
   "id": "08324fb6",
   "metadata": {},
   "outputs": [
    {
     "data": {
      "text/plain": [
       "'Basics'"
      ]
     },
     "execution_count": 2,
     "metadata": {},
     "output_type": "execute_result"
    }
   ],
   "source": [
    "project_name = hdfs.project_name()\n",
    "project_name"
   ]
  },
  {
   "cell_type": "code",
   "execution_count": 3,
   "id": "9692237b",
   "metadata": {},
   "outputs": [
    {
     "data": {
      "text/plain": [
       "'hdfs://rpc.namenode.service.consul:8020/Projects/Basics/'"
      ]
     },
     "execution_count": 3,
     "metadata": {},
     "output_type": "execute_result"
    }
   ],
   "source": [
    "project_path = hdfs.project_path()\n",
    "project_path"
   ]
  },
  {
   "cell_type": "markdown",
   "id": "f741d265",
   "metadata": {},
   "source": [
    "---\n",
    "\n",
    "# <span style=\"color:#ff5f27;\">🔬 🧬 Working with Data</span>\n",
    "\n",
    "We are going to use a dataset containing information related to a chain of deparment stores. The dataset is taken from [Kaggle](https://www.kaggle.com/manjeetsingh/retaildataset?select=Features+data+set.csv).\n",
    "\n",
    "We are going to create 3 feature groups:\n",
    "- `stores_fg`: it's going to contain features related to the store itself. Mainly the category, the number of deparmetns and the size.\n",
    "- `sales_fg`: it's going to contain sales features for each store/deparment over the weeks. \n",
    "- `exogenous_fg`: it's going to contain features which are not related to the stores themselves, but they have an effect on sales. These features are, for instance, the gas price, the unemployment rate, temperature in the area and so on."
   ]
  },
  {
   "cell_type": "markdown",
   "id": "2e7df2d0",
   "metadata": {},
   "source": [
    "## <span style=\"color:#ff5f27;\"> 💽 Loading Data </span>"
   ]
  },
  {
   "cell_type": "code",
   "execution_count": 4,
   "id": "2e946afb",
   "metadata": {},
   "outputs": [],
   "source": [
    "import pandas as pd"
   ]
  },
  {
   "cell_type": "code",
   "execution_count": 5,
   "id": "8229b7c5",
   "metadata": {},
   "outputs": [
    {
     "name": "stderr",
     "output_type": "stream",
     "text": [
      "FutureWarning: pyarrow.hdfs.HadoopFileSystem is deprecated as of 2.0.0, please use pyarrow.fs.HadoopFileSystem instead.\n"
     ]
    },
    {
     "data": {
      "text/html": [
       "<div>\n",
       "<style scoped>\n",
       "    .dataframe tbody tr th:only-of-type {\n",
       "        vertical-align: middle;\n",
       "    }\n",
       "\n",
       "    .dataframe tbody tr th {\n",
       "        vertical-align: top;\n",
       "    }\n",
       "\n",
       "    .dataframe thead th {\n",
       "        text-align: right;\n",
       "    }\n",
       "</style>\n",
       "<table border=\"1\" class=\"dataframe\">\n",
       "  <thead>\n",
       "    <tr style=\"text-align: right;\">\n",
       "      <th></th>\n",
       "      <th>store</th>\n",
       "      <th>type</th>\n",
       "      <th>size</th>\n",
       "    </tr>\n",
       "  </thead>\n",
       "  <tbody>\n",
       "    <tr>\n",
       "      <th>0</th>\n",
       "      <td>1</td>\n",
       "      <td>A</td>\n",
       "      <td>151315</td>\n",
       "    </tr>\n",
       "    <tr>\n",
       "      <th>1</th>\n",
       "      <td>2</td>\n",
       "      <td>A</td>\n",
       "      <td>202307</td>\n",
       "    </tr>\n",
       "    <tr>\n",
       "      <th>2</th>\n",
       "      <td>3</td>\n",
       "      <td>B</td>\n",
       "      <td>37392</td>\n",
       "    </tr>\n",
       "    <tr>\n",
       "      <th>3</th>\n",
       "      <td>4</td>\n",
       "      <td>A</td>\n",
       "      <td>205863</td>\n",
       "    </tr>\n",
       "    <tr>\n",
       "      <th>4</th>\n",
       "      <td>5</td>\n",
       "      <td>B</td>\n",
       "      <td>34875</td>\n",
       "    </tr>\n",
       "  </tbody>\n",
       "</table>\n",
       "</div>"
      ],
      "text/plain": [
       "   store type    size\n",
       "0      1    A  151315\n",
       "1      2    A  202307\n",
       "2      3    B   37392\n",
       "3      4    A  205863\n",
       "4      5    B   34875"
      ]
     },
     "execution_count": 5,
     "metadata": {},
     "output_type": "execute_result"
    }
   ],
   "source": [
    "stores_csv = pd.read_csv(project_path + 'Jupyter/archive/stores data-set.csv')\n",
    "stores_csv.head()"
   ]
  },
  {
   "cell_type": "code",
   "execution_count": 6,
   "id": "21816009",
   "metadata": {},
   "outputs": [
    {
     "data": {
      "text/html": [
       "<div>\n",
       "<style scoped>\n",
       "    .dataframe tbody tr th:only-of-type {\n",
       "        vertical-align: middle;\n",
       "    }\n",
       "\n",
       "    .dataframe tbody tr th {\n",
       "        vertical-align: top;\n",
       "    }\n",
       "\n",
       "    .dataframe thead th {\n",
       "        text-align: right;\n",
       "    }\n",
       "</style>\n",
       "<table border=\"1\" class=\"dataframe\">\n",
       "  <thead>\n",
       "    <tr style=\"text-align: right;\">\n",
       "      <th></th>\n",
       "      <th>store</th>\n",
       "      <th>date</th>\n",
       "      <th>temperature</th>\n",
       "      <th>fuel_price</th>\n",
       "      <th>markdown1</th>\n",
       "      <th>markdown2</th>\n",
       "      <th>markdown3</th>\n",
       "      <th>markdown4</th>\n",
       "      <th>markdown5</th>\n",
       "      <th>cpi</th>\n",
       "      <th>unemployment</th>\n",
       "      <th>is_holiday</th>\n",
       "    </tr>\n",
       "  </thead>\n",
       "  <tbody>\n",
       "    <tr>\n",
       "      <th>0</th>\n",
       "      <td>1</td>\n",
       "      <td>05/02/2010</td>\n",
       "      <td>42.31</td>\n",
       "      <td>2.572</td>\n",
       "      <td>NaN</td>\n",
       "      <td>NaN</td>\n",
       "      <td>NaN</td>\n",
       "      <td>NaN</td>\n",
       "      <td>NaN</td>\n",
       "      <td>211.096358</td>\n",
       "      <td>8.106</td>\n",
       "      <td>False</td>\n",
       "    </tr>\n",
       "    <tr>\n",
       "      <th>1</th>\n",
       "      <td>1</td>\n",
       "      <td>12/02/2010</td>\n",
       "      <td>38.51</td>\n",
       "      <td>2.548</td>\n",
       "      <td>NaN</td>\n",
       "      <td>NaN</td>\n",
       "      <td>NaN</td>\n",
       "      <td>NaN</td>\n",
       "      <td>NaN</td>\n",
       "      <td>211.242170</td>\n",
       "      <td>8.106</td>\n",
       "      <td>True</td>\n",
       "    </tr>\n",
       "    <tr>\n",
       "      <th>2</th>\n",
       "      <td>1</td>\n",
       "      <td>19/02/2010</td>\n",
       "      <td>39.93</td>\n",
       "      <td>2.514</td>\n",
       "      <td>NaN</td>\n",
       "      <td>NaN</td>\n",
       "      <td>NaN</td>\n",
       "      <td>NaN</td>\n",
       "      <td>NaN</td>\n",
       "      <td>211.289143</td>\n",
       "      <td>8.106</td>\n",
       "      <td>False</td>\n",
       "    </tr>\n",
       "    <tr>\n",
       "      <th>3</th>\n",
       "      <td>1</td>\n",
       "      <td>26/02/2010</td>\n",
       "      <td>46.63</td>\n",
       "      <td>2.561</td>\n",
       "      <td>NaN</td>\n",
       "      <td>NaN</td>\n",
       "      <td>NaN</td>\n",
       "      <td>NaN</td>\n",
       "      <td>NaN</td>\n",
       "      <td>211.319643</td>\n",
       "      <td>8.106</td>\n",
       "      <td>False</td>\n",
       "    </tr>\n",
       "    <tr>\n",
       "      <th>4</th>\n",
       "      <td>1</td>\n",
       "      <td>05/03/2010</td>\n",
       "      <td>46.50</td>\n",
       "      <td>2.625</td>\n",
       "      <td>NaN</td>\n",
       "      <td>NaN</td>\n",
       "      <td>NaN</td>\n",
       "      <td>NaN</td>\n",
       "      <td>NaN</td>\n",
       "      <td>211.350143</td>\n",
       "      <td>8.106</td>\n",
       "      <td>False</td>\n",
       "    </tr>\n",
       "  </tbody>\n",
       "</table>\n",
       "</div>"
      ],
      "text/plain": [
       "   store        date  temperature  fuel_price  markdown1  markdown2  \\\n",
       "0      1  05/02/2010        42.31       2.572        NaN        NaN   \n",
       "1      1  12/02/2010        38.51       2.548        NaN        NaN   \n",
       "2      1  19/02/2010        39.93       2.514        NaN        NaN   \n",
       "3      1  26/02/2010        46.63       2.561        NaN        NaN   \n",
       "4      1  05/03/2010        46.50       2.625        NaN        NaN   \n",
       "\n",
       "   markdown3  markdown4  markdown5         cpi  unemployment  is_holiday  \n",
       "0        NaN        NaN        NaN  211.096358         8.106       False  \n",
       "1        NaN        NaN        NaN  211.242170         8.106        True  \n",
       "2        NaN        NaN        NaN  211.289143         8.106       False  \n",
       "3        NaN        NaN        NaN  211.319643         8.106       False  \n",
       "4        NaN        NaN        NaN  211.350143         8.106       False  "
      ]
     },
     "execution_count": 6,
     "metadata": {},
     "output_type": "execute_result"
    }
   ],
   "source": [
    "exogenous_csv = pd.read_csv(project_path + 'Jupyter/archive/Features data set.csv')\n",
    "exogenous_csv.head()"
   ]
  },
  {
   "cell_type": "code",
   "execution_count": 7,
   "id": "1ab9a103",
   "metadata": {},
   "outputs": [
    {
     "data": {
      "text/html": [
       "<div>\n",
       "<style scoped>\n",
       "    .dataframe tbody tr th:only-of-type {\n",
       "        vertical-align: middle;\n",
       "    }\n",
       "\n",
       "    .dataframe tbody tr th {\n",
       "        vertical-align: top;\n",
       "    }\n",
       "\n",
       "    .dataframe thead th {\n",
       "        text-align: right;\n",
       "    }\n",
       "</style>\n",
       "<table border=\"1\" class=\"dataframe\">\n",
       "  <thead>\n",
       "    <tr style=\"text-align: right;\">\n",
       "      <th></th>\n",
       "      <th>store</th>\n",
       "      <th>dept</th>\n",
       "      <th>date</th>\n",
       "      <th>weekly_sales</th>\n",
       "      <th>is_holiday</th>\n",
       "    </tr>\n",
       "  </thead>\n",
       "  <tbody>\n",
       "    <tr>\n",
       "      <th>0</th>\n",
       "      <td>1</td>\n",
       "      <td>1</td>\n",
       "      <td>05/02/2010</td>\n",
       "      <td>24924.50</td>\n",
       "      <td>False</td>\n",
       "    </tr>\n",
       "    <tr>\n",
       "      <th>1</th>\n",
       "      <td>1</td>\n",
       "      <td>1</td>\n",
       "      <td>12/02/2010</td>\n",
       "      <td>46039.49</td>\n",
       "      <td>True</td>\n",
       "    </tr>\n",
       "    <tr>\n",
       "      <th>2</th>\n",
       "      <td>1</td>\n",
       "      <td>1</td>\n",
       "      <td>19/02/2010</td>\n",
       "      <td>41595.55</td>\n",
       "      <td>False</td>\n",
       "    </tr>\n",
       "    <tr>\n",
       "      <th>3</th>\n",
       "      <td>1</td>\n",
       "      <td>1</td>\n",
       "      <td>26/02/2010</td>\n",
       "      <td>19403.54</td>\n",
       "      <td>False</td>\n",
       "    </tr>\n",
       "    <tr>\n",
       "      <th>4</th>\n",
       "      <td>1</td>\n",
       "      <td>1</td>\n",
       "      <td>05/03/2010</td>\n",
       "      <td>21827.90</td>\n",
       "      <td>False</td>\n",
       "    </tr>\n",
       "  </tbody>\n",
       "</table>\n",
       "</div>"
      ],
      "text/plain": [
       "   store  dept        date  weekly_sales  is_holiday\n",
       "0      1     1  05/02/2010      24924.50       False\n",
       "1      1     1  12/02/2010      46039.49        True\n",
       "2      1     1  19/02/2010      41595.55       False\n",
       "3      1     1  26/02/2010      19403.54       False\n",
       "4      1     1  05/03/2010      21827.90       False"
      ]
     },
     "execution_count": 7,
     "metadata": {},
     "output_type": "execute_result"
    }
   ],
   "source": [
    "sales_csv = pd.read_csv(project_path + 'Jupyter/archive/sales data-set.csv')\n",
    "sales_csv.head()"
   ]
  },
  {
   "cell_type": "markdown",
   "id": "36615e5b",
   "metadata": {},
   "source": [
    "---\n",
    "## <span style=\"color:#ff5f27;\"> 🛠 🪄 Feature Engineering and Feature Group Creation </span>"
   ]
  },
  {
   "cell_type": "code",
   "execution_count": 8,
   "id": "799aa405",
   "metadata": {},
   "outputs": [
    {
     "data": {
      "text/html": [
       "<div>\n",
       "<style scoped>\n",
       "    .dataframe tbody tr th:only-of-type {\n",
       "        vertical-align: middle;\n",
       "    }\n",
       "\n",
       "    .dataframe tbody tr th {\n",
       "        vertical-align: top;\n",
       "    }\n",
       "\n",
       "    .dataframe thead th {\n",
       "        text-align: right;\n",
       "    }\n",
       "</style>\n",
       "<table border=\"1\" class=\"dataframe\">\n",
       "  <thead>\n",
       "    <tr style=\"text-align: right;\">\n",
       "      <th></th>\n",
       "      <th>store</th>\n",
       "      <th>dept</th>\n",
       "    </tr>\n",
       "  </thead>\n",
       "  <tbody>\n",
       "    <tr>\n",
       "      <th>0</th>\n",
       "      <td>1</td>\n",
       "      <td>77</td>\n",
       "    </tr>\n",
       "    <tr>\n",
       "      <th>1</th>\n",
       "      <td>2</td>\n",
       "      <td>78</td>\n",
       "    </tr>\n",
       "    <tr>\n",
       "      <th>2</th>\n",
       "      <td>3</td>\n",
       "      <td>72</td>\n",
       "    </tr>\n",
       "    <tr>\n",
       "      <th>3</th>\n",
       "      <td>4</td>\n",
       "      <td>78</td>\n",
       "    </tr>\n",
       "    <tr>\n",
       "      <th>4</th>\n",
       "      <td>5</td>\n",
       "      <td>72</td>\n",
       "    </tr>\n",
       "  </tbody>\n",
       "</table>\n",
       "</div>"
      ],
      "text/plain": [
       "   store  dept\n",
       "0      1    77\n",
       "1      2    78\n",
       "2      3    72\n",
       "3      4    78\n",
       "4      5    72"
      ]
     },
     "execution_count": 8,
     "metadata": {},
     "output_type": "execute_result"
    }
   ],
   "source": [
    "stores_depts_count = pd.merge(stores_csv,sales_csv,on = 'store')\n",
    "stores_depts_count = stores_depts_count.groupby('store').nunique('dept')['dept'].reset_index()\n",
    "stores_depts_count.head()"
   ]
  },
  {
   "cell_type": "code",
   "execution_count": 9,
   "id": "d9633bf7",
   "metadata": {},
   "outputs": [
    {
     "data": {
      "text/html": [
       "<div>\n",
       "<style scoped>\n",
       "    .dataframe tbody tr th:only-of-type {\n",
       "        vertical-align: middle;\n",
       "    }\n",
       "\n",
       "    .dataframe tbody tr th {\n",
       "        vertical-align: top;\n",
       "    }\n",
       "\n",
       "    .dataframe thead th {\n",
       "        text-align: right;\n",
       "    }\n",
       "</style>\n",
       "<table border=\"1\" class=\"dataframe\">\n",
       "  <thead>\n",
       "    <tr style=\"text-align: right;\">\n",
       "      <th></th>\n",
       "      <th>store</th>\n",
       "      <th>type</th>\n",
       "      <th>size</th>\n",
       "      <th>dept</th>\n",
       "    </tr>\n",
       "  </thead>\n",
       "  <tbody>\n",
       "    <tr>\n",
       "      <th>0</th>\n",
       "      <td>1</td>\n",
       "      <td>A</td>\n",
       "      <td>151315</td>\n",
       "      <td>77</td>\n",
       "    </tr>\n",
       "    <tr>\n",
       "      <th>1</th>\n",
       "      <td>2</td>\n",
       "      <td>A</td>\n",
       "      <td>202307</td>\n",
       "      <td>78</td>\n",
       "    </tr>\n",
       "    <tr>\n",
       "      <th>2</th>\n",
       "      <td>3</td>\n",
       "      <td>B</td>\n",
       "      <td>37392</td>\n",
       "      <td>72</td>\n",
       "    </tr>\n",
       "    <tr>\n",
       "      <th>3</th>\n",
       "      <td>4</td>\n",
       "      <td>A</td>\n",
       "      <td>205863</td>\n",
       "      <td>78</td>\n",
       "    </tr>\n",
       "    <tr>\n",
       "      <th>4</th>\n",
       "      <td>5</td>\n",
       "      <td>B</td>\n",
       "      <td>34875</td>\n",
       "      <td>72</td>\n",
       "    </tr>\n",
       "  </tbody>\n",
       "</table>\n",
       "</div>"
      ],
      "text/plain": [
       "   store type    size  dept\n",
       "0      1    A  151315    77\n",
       "1      2    A  202307    78\n",
       "2      3    B   37392    72\n",
       "3      4    A  205863    78\n",
       "4      5    B   34875    72"
      ]
     },
     "execution_count": 9,
     "metadata": {},
     "output_type": "execute_result"
    }
   ],
   "source": [
    "stores_fg = pd.merge(stores_csv,stores_depts_count, on = 'store')\n",
    "stores_fg.head()"
   ]
  },
  {
   "cell_type": "code",
   "execution_count": 10,
   "id": "97a40fd9",
   "metadata": {},
   "outputs": [],
   "source": [
    "store_fg_meta = fs.get_or_create_feature_group(\n",
    "    name = \"store_fg\",\n",
    "    version = 1,\n",
    "    primary_key = ['store'],\n",
    "    description = \"Store related features\",\n",
    "    online_enabled = True\n",
    ")"
   ]
  },
  {
   "cell_type": "markdown",
   "id": "dbadc1b9",
   "metadata": {},
   "source": [
    "Up to this point we have just created the metadata object representing the feature group. However, we haven't saved the feature group in the feature store yet. To do so, we can call the method `insert` on the metadata object created in the cell above."
   ]
  },
  {
   "cell_type": "code",
   "execution_count": 11,
   "id": "08369103",
   "metadata": {},
   "outputs": [
    {
     "name": "stdout",
     "output_type": "stream",
     "text": [
      "Feature Group created successfully, explore it at https://e457b610-ee84-11ec-826a-b9f03258546b.cloud.hopsworks.ai/p/1147/fs/1095/fg/1073\n",
      "Launching offline feature group backfill job...\n",
      "Backfill Job started successfully, you can follow the progress at https://e457b610-ee84-11ec-826a-b9f03258546b.cloud.hopsworks.ai/p/1147/jobs/named/store_fg_1_offline_fg_backfill/executions\n"
     ]
    },
    {
     "data": {
      "text/plain": [
       "(<hsfs.core.job.Job at 0x7f3ba41c7a00>, None)"
      ]
     },
     "execution_count": 11,
     "metadata": {},
     "output_type": "execute_result"
    }
   ],
   "source": [
    "store_fg_meta.insert(stores_fg)"
   ]
  },
  {
   "cell_type": "markdown",
   "id": "6d593f62",
   "metadata": {},
   "source": [
    "#### <span style=\"color:#ff5f27;\">⛳️ Sales Dataset</span>\n",
    "\n",
    "Differently from the `store_fg`, for the `sales_fg` we are going to define a composite primary key. This means that each entry in the `sales_fg` is going to be uniquely identified by the store, the department and the week. In this case we are going to specify also a partition key. Partitioning is a tool available at your disposal to improve the performances of querying a feature group."
   ]
  },
  {
   "cell_type": "code",
   "execution_count": 12,
   "id": "64ac1ac4",
   "metadata": {},
   "outputs": [],
   "source": [
    "from datetime import datetime\n",
    "\n",
    "def timestamp_2_time(x):\n",
    "    dt_obj = datetime.strptime(x, '%d/%m/%Y')\n",
    "    dt_obj = dt_obj.timestamp() * 1000\n",
    "    return int(dt_obj)"
   ]
  },
  {
   "cell_type": "code",
   "execution_count": 13,
   "id": "77e0844f",
   "metadata": {},
   "outputs": [
    {
     "data": {
      "text/html": [
       "<div>\n",
       "<style scoped>\n",
       "    .dataframe tbody tr th:only-of-type {\n",
       "        vertical-align: middle;\n",
       "    }\n",
       "\n",
       "    .dataframe tbody tr th {\n",
       "        vertical-align: top;\n",
       "    }\n",
       "\n",
       "    .dataframe thead th {\n",
       "        text-align: right;\n",
       "    }\n",
       "</style>\n",
       "<table border=\"1\" class=\"dataframe\">\n",
       "  <thead>\n",
       "    <tr style=\"text-align: right;\">\n",
       "      <th></th>\n",
       "      <th>store</th>\n",
       "      <th>dept</th>\n",
       "      <th>date</th>\n",
       "      <th>weekly_sales</th>\n",
       "      <th>is_holiday</th>\n",
       "    </tr>\n",
       "  </thead>\n",
       "  <tbody>\n",
       "    <tr>\n",
       "      <th>0</th>\n",
       "      <td>1</td>\n",
       "      <td>1</td>\n",
       "      <td>1265328000000</td>\n",
       "      <td>24924.50</td>\n",
       "      <td>False</td>\n",
       "    </tr>\n",
       "    <tr>\n",
       "      <th>1</th>\n",
       "      <td>1</td>\n",
       "      <td>1</td>\n",
       "      <td>1265932800000</td>\n",
       "      <td>46039.49</td>\n",
       "      <td>True</td>\n",
       "    </tr>\n",
       "    <tr>\n",
       "      <th>2</th>\n",
       "      <td>1</td>\n",
       "      <td>1</td>\n",
       "      <td>1266537600000</td>\n",
       "      <td>41595.55</td>\n",
       "      <td>False</td>\n",
       "    </tr>\n",
       "    <tr>\n",
       "      <th>3</th>\n",
       "      <td>1</td>\n",
       "      <td>1</td>\n",
       "      <td>1267142400000</td>\n",
       "      <td>19403.54</td>\n",
       "      <td>False</td>\n",
       "    </tr>\n",
       "    <tr>\n",
       "      <th>4</th>\n",
       "      <td>1</td>\n",
       "      <td>1</td>\n",
       "      <td>1267747200000</td>\n",
       "      <td>21827.90</td>\n",
       "      <td>False</td>\n",
       "    </tr>\n",
       "  </tbody>\n",
       "</table>\n",
       "</div>"
      ],
      "text/plain": [
       "   store  dept           date  weekly_sales  is_holiday\n",
       "0      1     1  1265328000000      24924.50       False\n",
       "1      1     1  1265932800000      46039.49        True\n",
       "2      1     1  1266537600000      41595.55       False\n",
       "3      1     1  1267142400000      19403.54       False\n",
       "4      1     1  1267747200000      21827.90       False"
      ]
     },
     "execution_count": 13,
     "metadata": {},
     "output_type": "execute_result"
    }
   ],
   "source": [
    "sales_csv.date = sales_csv.date.apply(timestamp_2_time)\n",
    "sales_csv.head()"
   ]
  },
  {
   "cell_type": "code",
   "execution_count": 14,
   "id": "db42830b",
   "metadata": {},
   "outputs": [
    {
     "data": {
      "text/html": [
       "<div>\n",
       "<style scoped>\n",
       "    .dataframe tbody tr th:only-of-type {\n",
       "        vertical-align: middle;\n",
       "    }\n",
       "\n",
       "    .dataframe tbody tr th {\n",
       "        vertical-align: top;\n",
       "    }\n",
       "\n",
       "    .dataframe thead th {\n",
       "        text-align: right;\n",
       "    }\n",
       "</style>\n",
       "<table border=\"1\" class=\"dataframe\">\n",
       "  <thead>\n",
       "    <tr style=\"text-align: right;\">\n",
       "      <th></th>\n",
       "      <th>store</th>\n",
       "      <th>dept</th>\n",
       "      <th>date</th>\n",
       "      <th>weekly_sales</th>\n",
       "      <th>is_holiday</th>\n",
       "      <th>sales_last_30_days_store_dep</th>\n",
       "      <th>sales_last_30_days_store</th>\n",
       "      <th>sales_last_90_days_store_dep</th>\n",
       "      <th>sales_last_90_days_store</th>\n",
       "      <th>sales_last_180_days_store_dep</th>\n",
       "      <th>sales_last_180_days_store</th>\n",
       "      <th>sales_last_365_days_store_dep</th>\n",
       "      <th>sales_last_365_days_store</th>\n",
       "    </tr>\n",
       "  </thead>\n",
       "  <tbody>\n",
       "    <tr>\n",
       "      <th>0</th>\n",
       "      <td>1</td>\n",
       "      <td>1</td>\n",
       "      <td>1265328000000</td>\n",
       "      <td>24924.50</td>\n",
       "      <td>0</td>\n",
       "      <td>0.0</td>\n",
       "      <td>0.0</td>\n",
       "      <td>0.0</td>\n",
       "      <td>0.0</td>\n",
       "      <td>0.0</td>\n",
       "      <td>0.0</td>\n",
       "      <td>0.0</td>\n",
       "      <td>0.0</td>\n",
       "    </tr>\n",
       "    <tr>\n",
       "      <th>1</th>\n",
       "      <td>1</td>\n",
       "      <td>1</td>\n",
       "      <td>1265932800000</td>\n",
       "      <td>46039.49</td>\n",
       "      <td>1</td>\n",
       "      <td>0.0</td>\n",
       "      <td>0.0</td>\n",
       "      <td>0.0</td>\n",
       "      <td>0.0</td>\n",
       "      <td>0.0</td>\n",
       "      <td>0.0</td>\n",
       "      <td>0.0</td>\n",
       "      <td>0.0</td>\n",
       "    </tr>\n",
       "    <tr>\n",
       "      <th>2</th>\n",
       "      <td>1</td>\n",
       "      <td>1</td>\n",
       "      <td>1266537600000</td>\n",
       "      <td>41595.55</td>\n",
       "      <td>0</td>\n",
       "      <td>0.0</td>\n",
       "      <td>0.0</td>\n",
       "      <td>0.0</td>\n",
       "      <td>0.0</td>\n",
       "      <td>0.0</td>\n",
       "      <td>0.0</td>\n",
       "      <td>0.0</td>\n",
       "      <td>0.0</td>\n",
       "    </tr>\n",
       "    <tr>\n",
       "      <th>3</th>\n",
       "      <td>1</td>\n",
       "      <td>1</td>\n",
       "      <td>1267142400000</td>\n",
       "      <td>19403.54</td>\n",
       "      <td>0</td>\n",
       "      <td>0.0</td>\n",
       "      <td>0.0</td>\n",
       "      <td>0.0</td>\n",
       "      <td>0.0</td>\n",
       "      <td>0.0</td>\n",
       "      <td>0.0</td>\n",
       "      <td>0.0</td>\n",
       "      <td>0.0</td>\n",
       "    </tr>\n",
       "    <tr>\n",
       "      <th>4</th>\n",
       "      <td>1</td>\n",
       "      <td>1</td>\n",
       "      <td>1267747200000</td>\n",
       "      <td>21827.90</td>\n",
       "      <td>0</td>\n",
       "      <td>0.0</td>\n",
       "      <td>0.0</td>\n",
       "      <td>0.0</td>\n",
       "      <td>0.0</td>\n",
       "      <td>0.0</td>\n",
       "      <td>0.0</td>\n",
       "      <td>0.0</td>\n",
       "      <td>0.0</td>\n",
       "    </tr>\n",
       "  </tbody>\n",
       "</table>\n",
       "</div>"
      ],
      "text/plain": [
       "   store  dept           date  weekly_sales  is_holiday  \\\n",
       "0      1     1  1265328000000      24924.50           0   \n",
       "1      1     1  1265932800000      46039.49           1   \n",
       "2      1     1  1266537600000      41595.55           0   \n",
       "3      1     1  1267142400000      19403.54           0   \n",
       "4      1     1  1267747200000      21827.90           0   \n",
       "\n",
       "   sales_last_30_days_store_dep  sales_last_30_days_store  \\\n",
       "0                           0.0                       0.0   \n",
       "1                           0.0                       0.0   \n",
       "2                           0.0                       0.0   \n",
       "3                           0.0                       0.0   \n",
       "4                           0.0                       0.0   \n",
       "\n",
       "   sales_last_90_days_store_dep  sales_last_90_days_store  \\\n",
       "0                           0.0                       0.0   \n",
       "1                           0.0                       0.0   \n",
       "2                           0.0                       0.0   \n",
       "3                           0.0                       0.0   \n",
       "4                           0.0                       0.0   \n",
       "\n",
       "   sales_last_180_days_store_dep  sales_last_180_days_store  \\\n",
       "0                            0.0                        0.0   \n",
       "1                            0.0                        0.0   \n",
       "2                            0.0                        0.0   \n",
       "3                            0.0                        0.0   \n",
       "4                            0.0                        0.0   \n",
       "\n",
       "   sales_last_365_days_store_dep  sales_last_365_days_store  \n",
       "0                            0.0                        0.0  \n",
       "1                            0.0                        0.0  \n",
       "2                            0.0                        0.0  \n",
       "3                            0.0                        0.0  \n",
       "4                            0.0                        0.0  "
      ]
     },
     "execution_count": 14,
     "metadata": {},
     "output_type": "execute_result"
    }
   ],
   "source": [
    "windows = [30,90,180,365]\n",
    "\n",
    "for window in windows:\n",
    "    sales_csv[f'sales_last_{window}_days_store_dep'] = sales_csv.groupby('store').weekly_sales.rolling(window = window).sum().fillna(0).reset_index(drop = True)\n",
    "    sales_csv[f'sales_last_{window}_days_store'] = sales_csv.groupby('store').weekly_sales.rolling(window = window).sum().fillna(0).reset_index(drop = True)\n",
    "\n",
    "sales_csv.is_holiday = sales_csv.is_holiday.apply(int)\n",
    "sales_csv.head()"
   ]
  },
  {
   "cell_type": "code",
   "execution_count": 15,
   "id": "abed4847",
   "metadata": {},
   "outputs": [
    {
     "name": "stdout",
     "output_type": "stream",
     "text": [
      "Feature Group created successfully, explore it at https://e457b610-ee84-11ec-826a-b9f03258546b.cloud.hopsworks.ai/p/1147/fs/1095/fg/1074\n",
      "Launching offline feature group backfill job...\n",
      "Backfill Job started successfully, you can follow the progress at https://e457b610-ee84-11ec-826a-b9f03258546b.cloud.hopsworks.ai/p/1147/jobs/named/sales_fg_1_offline_fg_backfill/executions\n"
     ]
    },
    {
     "data": {
      "text/plain": [
       "(<hsfs.core.job.Job at 0x7f3b979b2f70>, None)"
      ]
     },
     "execution_count": 15,
     "metadata": {},
     "output_type": "execute_result"
    }
   ],
   "source": [
    "sales_fg_meta = fs.get_or_create_feature_group(\n",
    "    name = \"sales_fg\",\n",
    "    version = 1,\n",
    "    primary_key = ['store', 'dept', 'date'],\n",
    "    description = \"Sales related features\",\n",
    "    online_enabled = True\n",
    ")\n",
    "\n",
    "sales_fg_meta.insert(sales_csv)"
   ]
  },
  {
   "cell_type": "markdown",
   "id": "a711d716",
   "metadata": {},
   "source": [
    "When creating a feature group we can also specify a `partition key`. Partition keys help organize the feature data on the file system and improve performances when reading the feature group data. As for the `primary key`, also `partition key` can be a composite one."
   ]
  },
  {
   "cell_type": "code",
   "execution_count": 16,
   "id": "531814cb",
   "metadata": {},
   "outputs": [
    {
     "name": "stdout",
     "output_type": "stream",
     "text": [
      "Feature Group created successfully, explore it at https://e457b610-ee84-11ec-826a-b9f03258546b.cloud.hopsworks.ai/p/1147/fs/1095/fg/1075\n",
      "Launching offline feature group backfill job...\n",
      "Backfill Job started successfully, you can follow the progress at https://e457b610-ee84-11ec-826a-b9f03258546b.cloud.hopsworks.ai/p/1147/jobs/named/sales_fg_2_offline_fg_backfill/executions\n"
     ]
    },
    {
     "data": {
      "text/plain": [
       "(<hsfs.core.job.Job at 0x7f3b979da910>, None)"
      ]
     },
     "execution_count": 16,
     "metadata": {},
     "output_type": "execute_result"
    }
   ],
   "source": [
    "sales_part_fg_meta = fs.get_or_create_feature_group(\n",
    "    name = \"sales_fg\",\n",
    "    version = 2,\n",
    "    primary_key = ['store', 'dept', 'date'],\n",
    "    partition_key = ['store'],\n",
    "    description = \"Sales related features\",\n",
    "    time_travel_format = None,                                                                                          \n",
    "    statistics_config = False\n",
    ")\n",
    "\n",
    "sales_part_fg_meta.insert(sales_csv)"
   ]
  },
  {
   "cell_type": "markdown",
   "id": "f93ac38c",
   "metadata": {},
   "source": [
    "You can enable a feature group to be online by setting the `online_enabled` flag to true. \n",
    "\n",
    "By default `HSFS` configures the feature group such that new feature data that gets saved or inserted is written to the offline feature store. If `online_enabled = True`, additionally, the data is saved to the online storage of the feature store. Note that the insert and save to both storages is not transactional.\n",
    "\n",
    "If you want to create a purely online feature group. Save the feature group with `online_enabled = True` but with an empty dataframe and subsequently use the insert with `storage = \"online\"` to overwrite the default and write to the online feature store only."
   ]
  },
  {
   "cell_type": "code",
   "execution_count": 17,
   "id": "f508d8df",
   "metadata": {},
   "outputs": [
    {
     "name": "stdout",
     "output_type": "stream",
     "text": [
      "Feature Group created successfully, explore it at https://e457b610-ee84-11ec-826a-b9f03258546b.cloud.hopsworks.ai/p/1147/fs/1095/fg/1076\n",
      "Launching offline feature group backfill job...\n",
      "Backfill Job started successfully, you can follow the progress at https://e457b610-ee84-11ec-826a-b9f03258546b.cloud.hopsworks.ai/p/1147/jobs/named/sales_fg_3_offline_fg_backfill/executions\n"
     ]
    },
    {
     "data": {
      "text/plain": [
       "(<hsfs.core.job.Job at 0x7f3b979c55b0>, None)"
      ]
     },
     "execution_count": 17,
     "metadata": {},
     "output_type": "execute_result"
    }
   ],
   "source": [
    "sales_part_fg_meta = fs.get_or_create_feature_group(\n",
    "    name = \"sales_fg\",\n",
    "    version = 3,\n",
    "    primary_key = ['store', 'dept', 'date'],\n",
    "    online_enabled = True,\n",
    "    description = \"Sales related features\"\n",
    ")\n",
    "\n",
    "sales_part_fg_meta.insert(sales_csv)"
   ]
  },
  {
   "cell_type": "markdown",
   "id": "c2d263ca",
   "metadata": {},
   "source": [
    "#### <span style=\"color:#ff5f27;\">⛳️ Exogenous Dataset </span>\n",
    "\n",
    "This feature group will contain exogenous features that can influence sales, but are not under the control of the distribution chain. These are the unemployment, the consumer price index (cpi) and so on.\n",
    "We are going to write these features as they are in the feature store"
   ]
  },
  {
   "cell_type": "code",
   "execution_count": 19,
   "id": "256d0ed0",
   "metadata": {},
   "outputs": [
    {
     "data": {
      "text/html": [
       "<div>\n",
       "<style scoped>\n",
       "    .dataframe tbody tr th:only-of-type {\n",
       "        vertical-align: middle;\n",
       "    }\n",
       "\n",
       "    .dataframe tbody tr th {\n",
       "        vertical-align: top;\n",
       "    }\n",
       "\n",
       "    .dataframe thead th {\n",
       "        text-align: right;\n",
       "    }\n",
       "</style>\n",
       "<table border=\"1\" class=\"dataframe\">\n",
       "  <thead>\n",
       "    <tr style=\"text-align: right;\">\n",
       "      <th></th>\n",
       "      <th>store</th>\n",
       "      <th>date</th>\n",
       "      <th>temperature</th>\n",
       "      <th>fuel_price</th>\n",
       "      <th>markdown1</th>\n",
       "      <th>markdown2</th>\n",
       "      <th>markdown3</th>\n",
       "      <th>markdown4</th>\n",
       "      <th>markdown5</th>\n",
       "      <th>cpi</th>\n",
       "      <th>unemployment</th>\n",
       "      <th>is_holiday</th>\n",
       "    </tr>\n",
       "  </thead>\n",
       "  <tbody>\n",
       "    <tr>\n",
       "      <th>0</th>\n",
       "      <td>1</td>\n",
       "      <td>1265328000000</td>\n",
       "      <td>42.31</td>\n",
       "      <td>2.572</td>\n",
       "      <td>NaN</td>\n",
       "      <td>NaN</td>\n",
       "      <td>NaN</td>\n",
       "      <td>NaN</td>\n",
       "      <td>NaN</td>\n",
       "      <td>211.096358</td>\n",
       "      <td>8.106</td>\n",
       "      <td>0</td>\n",
       "    </tr>\n",
       "    <tr>\n",
       "      <th>1</th>\n",
       "      <td>1</td>\n",
       "      <td>1265932800000</td>\n",
       "      <td>38.51</td>\n",
       "      <td>2.548</td>\n",
       "      <td>NaN</td>\n",
       "      <td>NaN</td>\n",
       "      <td>NaN</td>\n",
       "      <td>NaN</td>\n",
       "      <td>NaN</td>\n",
       "      <td>211.242170</td>\n",
       "      <td>8.106</td>\n",
       "      <td>1</td>\n",
       "    </tr>\n",
       "    <tr>\n",
       "      <th>2</th>\n",
       "      <td>1</td>\n",
       "      <td>1266537600000</td>\n",
       "      <td>39.93</td>\n",
       "      <td>2.514</td>\n",
       "      <td>NaN</td>\n",
       "      <td>NaN</td>\n",
       "      <td>NaN</td>\n",
       "      <td>NaN</td>\n",
       "      <td>NaN</td>\n",
       "      <td>211.289143</td>\n",
       "      <td>8.106</td>\n",
       "      <td>0</td>\n",
       "    </tr>\n",
       "    <tr>\n",
       "      <th>3</th>\n",
       "      <td>1</td>\n",
       "      <td>1267142400000</td>\n",
       "      <td>46.63</td>\n",
       "      <td>2.561</td>\n",
       "      <td>NaN</td>\n",
       "      <td>NaN</td>\n",
       "      <td>NaN</td>\n",
       "      <td>NaN</td>\n",
       "      <td>NaN</td>\n",
       "      <td>211.319643</td>\n",
       "      <td>8.106</td>\n",
       "      <td>0</td>\n",
       "    </tr>\n",
       "    <tr>\n",
       "      <th>4</th>\n",
       "      <td>1</td>\n",
       "      <td>1267747200000</td>\n",
       "      <td>46.50</td>\n",
       "      <td>2.625</td>\n",
       "      <td>NaN</td>\n",
       "      <td>NaN</td>\n",
       "      <td>NaN</td>\n",
       "      <td>NaN</td>\n",
       "      <td>NaN</td>\n",
       "      <td>211.350143</td>\n",
       "      <td>8.106</td>\n",
       "      <td>0</td>\n",
       "    </tr>\n",
       "  </tbody>\n",
       "</table>\n",
       "</div>"
      ],
      "text/plain": [
       "   store           date  temperature  fuel_price  markdown1  markdown2  \\\n",
       "0      1  1265328000000        42.31       2.572        NaN        NaN   \n",
       "1      1  1265932800000        38.51       2.548        NaN        NaN   \n",
       "2      1  1266537600000        39.93       2.514        NaN        NaN   \n",
       "3      1  1267142400000        46.63       2.561        NaN        NaN   \n",
       "4      1  1267747200000        46.50       2.625        NaN        NaN   \n",
       "\n",
       "   markdown3  markdown4  markdown5         cpi  unemployment  is_holiday  \n",
       "0        NaN        NaN        NaN  211.096358         8.106           0  \n",
       "1        NaN        NaN        NaN  211.242170         8.106           1  \n",
       "2        NaN        NaN        NaN  211.289143         8.106           0  \n",
       "3        NaN        NaN        NaN  211.319643         8.106           0  \n",
       "4        NaN        NaN        NaN  211.350143         8.106           0  "
      ]
     },
     "execution_count": 19,
     "metadata": {},
     "output_type": "execute_result"
    }
   ],
   "source": [
    "exogenous_csv.date = exogenous_csv.date.apply(timestamp_2_time)\n",
    "exogenous_csv.is_holiday = exogenous_csv.is_holiday.apply(int)\n",
    "exogenous_csv.head()"
   ]
  },
  {
   "cell_type": "code",
   "execution_count": 20,
   "id": "f818c0c6",
   "metadata": {},
   "outputs": [
    {
     "name": "stdout",
     "output_type": "stream",
     "text": [
      "Feature Group created successfully, explore it at https://e457b610-ee84-11ec-826a-b9f03258546b.cloud.hopsworks.ai/p/1147/fs/1095/fg/1077\n",
      "Launching offline feature group backfill job...\n",
      "Backfill Job started successfully, you can follow the progress at https://e457b610-ee84-11ec-826a-b9f03258546b.cloud.hopsworks.ai/p/1147/jobs/named/exogenous_fg_1_offline_fg_backfill/executions\n"
     ]
    },
    {
     "data": {
      "text/plain": [
       "(<hsfs.core.job.Job at 0x7f3b979c6100>, None)"
      ]
     },
     "execution_count": 20,
     "metadata": {},
     "output_type": "execute_result"
    }
   ],
   "source": [
    "exogenous_fg_meta = fs.get_or_create_feature_group(\n",
    "    name = \"exogenous_fg\",\n",
    "    version = 1,\n",
    "    primary_key = ['store', 'date'],\n",
    "    description = \"External features that influence sales, but are not under the control of the distribution chain\",\n",
    "    online_enabled = True,\n",
    "    event_time = ['date']\n",
    ")\n",
    "\n",
    "exogenous_fg_meta.insert(exogenous_csv)"
   ]
  },
  {
   "cell_type": "markdown",
   "id": "fbd43fe4",
   "metadata": {},
   "source": [
    "---\n",
    "## <span style=\"color:#ff5f27;\"> 🔮 Append additional data </span>\n",
    "\n",
    "You can add additional data to a feature group by calling the `insert` method. In the example below we assume that we got also the data for 2013 and we are going to append it to the existing `exogenous_fg`."
   ]
  },
  {
   "cell_type": "code",
   "execution_count": 21,
   "id": "c99f52d8",
   "metadata": {},
   "outputs": [],
   "source": [
    "exogenous_fg_2000 = exogenous_csv.copy()\n",
    "exogenous_fg_2000.date = exogenous_fg_2000.date + timestamp_2_time('01/01/2000')"
   ]
  },
  {
   "cell_type": "code",
   "execution_count": 22,
   "id": "ad4a6428",
   "metadata": {},
   "outputs": [
    {
     "name": "stdout",
     "output_type": "stream",
     "text": [
      "Launching offline feature group backfill job...\n",
      "Backfill Job started successfully, you can follow the progress at https://e457b610-ee84-11ec-826a-b9f03258546b.cloud.hopsworks.ai/p/1147/jobs/named/exogenous_fg_1_offline_fg_backfill/executions\n"
     ]
    },
    {
     "data": {
      "text/plain": [
       "(<hsfs.core.job.Job at 0x7f3b979c5c70>, None)"
      ]
     },
     "execution_count": 22,
     "metadata": {},
     "output_type": "execute_result"
    }
   ],
   "source": [
    "exogenous_fg_meta = fs.get_or_create_feature_group(\n",
    "    name = 'exogenous_fg',\n",
    "    version = 1\n",
    ")\n",
    "\n",
    "exogenous_fg_meta.insert(exogenous_fg_2000)"
   ]
  },
  {
   "cell_type": "markdown",
   "id": "03737cbe",
   "metadata": {},
   "source": [
    "This will also recompute statistics after inserting new data. The new statistics will be saved along the metadata with a new commit time."
   ]
  },
  {
   "cell_type": "markdown",
   "id": "7a1e98c6",
   "metadata": {},
   "source": [
    "---\n",
    "## <span style=\"color:#ff5f27;\"> 🔮 Append an additional feature </span>\n",
    "\n",
    "Appending features to a feature group is a non-breaking schema change compared to removing features, which will require creating a new version of the feature group.\n",
    "\n",
    "You can append a feature group by specifying a data type and default value for the new feature. The default value is necessary for the data that is already in the feature group."
   ]
  },
  {
   "cell_type": "code",
   "execution_count": 23,
   "id": "2c70a8d1",
   "metadata": {},
   "outputs": [],
   "source": [
    "from hsfs.feature import Feature"
   ]
  },
  {
   "cell_type": "code",
   "execution_count": 24,
   "id": "fad2e203",
   "metadata": {},
   "outputs": [
    {
     "name": "stdout",
     "output_type": "stream",
     "text": [
      "2022-06-20 13:41:49,240 INFO: USE `basics_featurestore`\n",
      "2022-06-20 13:41:50,163 INFO: SELECT `fg0`.`store` `store`, `fg0`.`date` `date`, `fg0`.`temperature` `temperature`, `fg0`.`fuel_price` `fuel_price`, `fg0`.`markdown1` `markdown1`, `fg0`.`markdown2` `markdown2`, `fg0`.`markdown3` `markdown3`, `fg0`.`markdown4` `markdown4`, `fg0`.`markdown5` `markdown5`, `fg0`.`cpi` `cpi`, `fg0`.`unemployment` `unemployment`, `fg0`.`is_holiday` `is_holiday`\n",
      "FROM `basics_featurestore`.`exogenous_fg_1` `fg0`\n"
     ]
    },
    {
     "data": {
      "text/plain": [
       "<hsfs.feature_group.FeatureGroup at 0x7f3b979c68b0>"
      ]
     },
     "execution_count": 24,
     "metadata": {},
     "output_type": "execute_result"
    }
   ],
   "source": [
    "exogenous_fg_meta.append_features([Feature(\"appended_feature\", type=\"double\", default_value=\"10.0\")])"
   ]
  },
  {
   "cell_type": "markdown",
   "id": "d6fce5fc",
   "metadata": {},
   "source": [
    "---\n",
    "## <span style=\"color:#ff5f27;\"> 🧬 Delete a feature group </span>\n",
    "\n",
    "You can call the `delete` method on a feature group to delete the entire feature group."
   ]
  },
  {
   "cell_type": "code",
   "execution_count": 25,
   "id": "04718210",
   "metadata": {},
   "outputs": [
    {
     "name": "stdout",
     "output_type": "stream",
     "text": [
      "Feature Group created successfully, explore it at https://e457b610-ee84-11ec-826a-b9f03258546b.cloud.hopsworks.ai/p/1147/fs/1095/fg/1078\n",
      "Launching offline feature group backfill job...\n",
      "Backfill Job started successfully, you can follow the progress at https://e457b610-ee84-11ec-826a-b9f03258546b.cloud.hopsworks.ai/p/1147/jobs/named/exogenous_fg_3_offline_fg_backfill/executions\n"
     ]
    },
    {
     "data": {
      "text/plain": [
       "(<hsfs.core.job.Job at 0x7f3ba41b2850>, None)"
      ]
     },
     "execution_count": 25,
     "metadata": {},
     "output_type": "execute_result"
    }
   ],
   "source": [
    "exogenous_fg_meta = fs.get_or_create_feature_group(\n",
    "    name = \"exogenous_fg\",\n",
    "    version = 3,\n",
    "    primary_key = ['store', 'date'],\n",
    "    description = \"External features that influence sales, but are not under the control of the distribution chain\",\n",
    "    time_travel_format = None,                                                                                        \n",
    "    statistics_config = False\n",
    ")\n",
    "\n",
    "exogenous_fg_meta.insert(exogenous_csv)"
   ]
  },
  {
   "cell_type": "code",
   "execution_count": 26,
   "id": "0c9e397a",
   "metadata": {},
   "outputs": [],
   "source": [
    "exogenous_fg_meta = fs.get_or_create_feature_group(\n",
    "    name = 'exogenous_fg',\n",
    "    version = 3\n",
    ")\n",
    "\n",
    "exogenous_fg_meta.delete()"
   ]
  },
  {
   "cell_type": "markdown",
   "id": "752f25c8",
   "metadata": {},
   "source": [
    "---\n",
    "\n",
    "## <span style=\"color:#ff5f27;\">⏭️ **Next:** Part 02 </span>\n",
    "\n",
    "In the following notebook we will explore feature groups."
   ]
  }
 ],
 "metadata": {
  "kernelspec": {
   "display_name": "Python 3",
   "language": "python",
   "name": "python3"
  },
  "language_info": {
   "codemirror_mode": {
    "name": "ipython",
    "version": 3
   },
   "file_extension": ".py",
   "mimetype": "text/x-python",
   "name": "python",
   "nbconvert_exporter": "python",
   "pygments_lexer": "ipython3",
   "version": "3.8.8"
  }
 },
 "nbformat": 4,
 "nbformat_minor": 5
}
