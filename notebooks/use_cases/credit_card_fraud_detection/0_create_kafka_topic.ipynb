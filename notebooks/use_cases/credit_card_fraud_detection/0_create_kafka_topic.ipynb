{
 "cells": [
  {
   "cell_type": "markdown",
   "id": "478f7196",
   "metadata": {},
   "source": [
    "---\n",
    "title: \"Create a Kafka topic\"\n",
    "date: 2021-04-25\n",
    "type: technical_note\n",
    "draft: false\n",
    "---"
   ]
  },
  {
   "cell_type": "markdown",
   "id": "91c531f5",
   "metadata": {},
   "source": [
    "# Create Kafka topics\n",
    "\n",
    "The first step for this demo is to create the following Kafka topics:\n",
    "\n",
    "- **'credit_card_transactions'**: used in `2_produce-transactions.ipynb` and `3_stream-ingestion.ipynb` for logging the financial transactions and ingesting aggregations on this data into the Online Feature Store. To create this topic, first we need to create and **emtpy schema** `credit_card_transactions_schema`. An empty schema is represented with the value `[]`.\n",
    "\n",
    "- **'credit_card_prediction_logs'**: used in `6_online-serving.ipynb` and `7_inference-analysis.ipynb` for storing the prediction logs. For this schema we can choose the built-in schema with name `inferenceschema`"
   ]
  },
  {
   "cell_type": "markdown",
   "id": "3f1ccd34",
   "metadata": {},
   "source": [
    "## Step-by-step example"
   ]
  },
  {
   "cell_type": "markdown",
   "id": "868115a7",
   "metadata": {},
   "source": [
    "![kafka.png](./images/kafka.png)\n",
    "![kafka2.png](./images/kafka2.png)\n",
    "![kafka3.png](./images/kafka3.png)\n",
    "![kafka4.png](./images/kafka4.png)\n",
    "![kafka5.png](./images/kafka5.png)\n",
    "![kafka6.png](./images/kafka6.png)\n",
    "![kafka7.png](./images/kafka7.png)\n",
    "![kafka8.png](./images/kafka8.png)"
   ]
  },
  {
   "cell_type": "code",
   "execution_count": null,
   "id": "8274ff46",
   "metadata": {},
   "outputs": [],
   "source": []
  }
 ],
 "metadata": {
  "kernelspec": {
   "display_name": "Python",
   "language": "python",
   "name": "python3"
  },
  "language_info": {
   "codemirror_mode": {
    "name": "ipython",
    "version": 3
   },
   "file_extension": ".py",
   "mimetype": "text/x-python",
   "name": "python",
   "nbconvert_exporter": "python",
   "pygments_lexer": "ipython3",
   "version": "3.7.9"
  }
 },
 "nbformat": 4,
 "nbformat_minor": 5
}