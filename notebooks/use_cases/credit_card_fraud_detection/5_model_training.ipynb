{
 "cells": [
  {
   "cell_type": "markdown",
   "id": "5cb9fd6d",
   "metadata": {},
   "source": [
    "---\n",
    "title: \"Card fraud model training\"\n",
    "date: 2021-06-04\n",
    "type: technical_note\n",
    "draft: false\n",
    "---"
   ]
  },
  {
   "cell_type": "markdown",
   "id": "b2ec4948",
   "metadata": {},
   "source": [
    "# Train a credit card fraud detector with Tensorflow (Keras)"
   ]
  },
  {
   "cell_type": "markdown",
   "id": "446bc359",
   "metadata": {},
   "source": [
    "![overview-4.png](./images/overview-4.png)"
   ]
  },
  {
   "cell_type": "code",
   "execution_count": 1,
   "id": "bcbdcf9a",
   "metadata": {},
   "outputs": [
    {
     "name": "stdout",
     "output_type": "stream",
     "text": [
      "Starting Spark application\n"
     ]
    },
    {
     "data": {
      "text/html": [
       "<table>\n",
       "<tr><th>ID</th><th>YARN Application ID</th><th>Kind</th><th>State</th><th>Spark UI</th><th>Driver log</th></tr><tr><td>63</td><td>application_1623853832952_0045</td><td>pyspark</td><td>idle</td><td><a target=\"_blank\" href=\"/hopsworks-api/yarnui/https://javierhead.h.w:8089/proxy/application_1623853832952_0045/\">Link</a></td><td><a target=\"_blank\" href=\"/hopsworks-api/yarnui/https://javiergpu00.h.w:8044/node/containerlogs/container_e01_1623853832952_0045_01_000001/card_fraud_detection__meb10000\">Link</a></td></tr></table>"
      ],
      "text/plain": [
       "<IPython.core.display.HTML object>"
      ]
     },
     "metadata": {},
     "output_type": "display_data"
    },
    {
     "name": "stdout",
     "output_type": "stream",
     "text": [
      "SparkSession available as 'spark'.\n",
      "'2.4.1'"
     ]
    }
   ],
   "source": [
    "import tensorflow as tf\n",
    "tf.__version__"
   ]
  },
  {
   "cell_type": "markdown",
   "id": "c2e82be5",
   "metadata": {},
   "source": [
    "## Define the autoencoder "
   ]
  },
  {
   "cell_type": "code",
   "execution_count": 2,
   "id": "465eb1f0",
   "metadata": {},
   "outputs": [],
   "source": [
    "class CCFraudDetector(tf.keras.Model):\n",
    "  def __init__(self, input_dim):\n",
    "    super(CCFraudDetector, self).__init__()\n",
    "    self.encoder = tf.keras.Sequential([\n",
    "        tf.keras.layers.Dense(16, activation='selu', input_shape=(input_dim,)),\n",
    "        tf.keras.layers.Dense(8, activation='selu'),\n",
    "        tf.keras.layers.Dense(4, activation='linear', name=\"bottleneck\")])\n",
    "\n",
    "    self.decoder = tf.keras.Sequential([\n",
    "        tf.keras.layers.Dense(8, activation='selu'),\n",
    "        tf.keras.layers.Dense(16, activation='selu'),\n",
    "        tf.keras.layers.Dense(input_dim, activation='selu')])\n",
    "\n",
    "  def call(self, x):\n",
    "    encoded = self.encoder(x)\n",
    "    decoded = self.decoder(encoded)\n",
    "    return decoded"
   ]
  },
  {
   "cell_type": "markdown",
   "id": "5d11556e",
   "metadata": {},
   "source": [
    "## Extend the autoencoder to return the reconstruction loss"
   ]
  },
  {
   "cell_type": "code",
   "execution_count": 3,
   "id": "cab4da28",
   "metadata": {},
   "outputs": [],
   "source": [
    "class CCFraudDetectorModule(tf.Module):\n",
    "    def __init__(self, detector):\n",
    "        self.detector = detector\n",
    "\n",
    "    @tf.function()\n",
    "    def reconstruct(self, instances):\n",
    "        reconstruction = self.detector(instances)\n",
    "        loss = tf.reduce_mean((instances - reconstruction)**2, axis=1)\n",
    "        return { \"reconstruction_loss\": loss }"
   ]
  },
  {
   "cell_type": "markdown",
   "id": "f79006bc",
   "metadata": {},
   "source": [
    "## Create experiment"
   ]
  },
  {
   "cell_type": "code",
   "execution_count": 4,
   "id": "f03e108e",
   "metadata": {},
   "outputs": [],
   "source": [
    "def experiment_wrapper():\n",
    "\n",
    "    import os\n",
    "    import sys\n",
    "    import uuid\n",
    "    import random\n",
    "        \n",
    "    import tensorflow as tf\n",
    "    from tensorflow.keras.callbacks import TensorBoard\n",
    "    from hops import tensorboard\n",
    "    \n",
    "    from hops import model as hops_model\n",
    "    from hops import hdfs\n",
    "    import hsfs\n",
    "    \n",
    "    # Create a connection\n",
    "    connection = hsfs.connection(engine='training')\n",
    "    # Get the feature store handle for the project's feature store\n",
    "    fs = connection.get_feature_store()\n",
    "    # Get training dataset\n",
    "    td_meta = fs.get_training_dataset(\"card_fraud_model\", 1)\n",
    "\n",
    "    input_dim = 9\n",
    "    BATCH_SIZE = 32\n",
    "    EPOCHS = 5\n",
    "    \n",
    "    # Training data\n",
    "    train_input = td_meta.tf_data(target_name=None, is_training=True)\n",
    "    train_input_not_processed = train_input.tf_record_dataset()\n",
    "    \n",
    "    def custom_impl(example):\n",
    "        feature_names = [td_feature.name for td_feature in td_meta.schema] \n",
    "        x = [tf.cast(example[feature_name], tf.float32) for feature_name in feature_names]\n",
    "        return x,x\n",
    "    \n",
    "    train_input_custom_processed = train_input_not_processed.map(lambda value: custom_impl(value))\\\n",
    "        .shuffle(EPOCHS * BATCH_SIZE)\\\n",
    "        .repeat(EPOCHS * BATCH_SIZE)\\\n",
    "        .cache()\\\n",
    "        .batch(BATCH_SIZE, drop_remainder=True)\\\n",
    "        .prefetch(tf.data.experimental.AUTOTUNE)\n",
    "\n",
    "\n",
    "    # Autoencoder\n",
    "    cc_fraud_detector = CCFraudDetector(input_dim)\n",
    "    \n",
    "    # Compile the model.\n",
    "    cc_fraud_detector.compile(loss=tf.keras.losses.MeanSquaredError(),\n",
    "                              optimizer= tf.keras.optimizers.Adam(0.001),\n",
    "                              metrics=tf.keras.metrics.MeanSquaredError())\n",
    "    \n",
    "    # Fit training data\n",
    "    history = cc_fraud_detector.fit(train_input_custom_processed,\n",
    "                                    verbose=0,\n",
    "                                    epochs=EPOCHS, \n",
    "                                    steps_per_epoch=1,\n",
    "                                    validation_data=train_input_custom_processed,\n",
    "                                    validation_steps=1,\n",
    "                                    callbacks=[tf.keras.callbacks.TensorBoard(log_dir=tensorboard.logdir()),\n",
    "                                               tf.keras.callbacks.ModelCheckpoint(filepath=tensorboard.logdir())])  \n",
    "    \n",
    "\n",
    "    metrics={'loss': history.history['loss'][0]}\n",
    "    \n",
    "    # Export model\n",
    "    export_path = os.getcwd() + '/model-' + str(uuid.uuid4())\n",
    "    print('Saving trained model to: {} ...'.format(export_path))\n",
    "    \n",
    "    # Module and Signature\n",
    "    model = CCFraudDetectorModule(cc_fraud_detector)\n",
    "    signatures=model.reconstruct.get_concrete_function(\n",
    "        instances=tf.TensorSpec(shape=(None,9,), dtype=tf.float32)) \n",
    "    \n",
    "    tf.saved_model.save(model, export_path, signatures=signatures)\n",
    "    print('Model saved!')\n",
    "    \n",
    "    print('Exporting model ...')    \n",
    "    hops_model.export(export_path, \"ccfraudmodel\", metrics=metrics)\n",
    "    \n",
    "    print('Model exported!')\n",
    "    return metrics"
   ]
  },
  {
   "cell_type": "markdown",
   "id": "123c22de",
   "metadata": {},
   "source": [
    "## Launch experiment"
   ]
  },
  {
   "cell_type": "code",
   "execution_count": 5,
   "id": "25e59953",
   "metadata": {},
   "outputs": [
    {
     "name": "stdout",
     "output_type": "stream",
     "text": [
      "Finished Experiment \n",
      "\n",
      "('hdfs://rpc.namenode.service.consul:8020/Projects/card_fraud_detection/Experiments/application_1623853832952_0045_1', {'loss': 1.74222993850708, 'log': 'Experiments/application_1623853832952_0045_1/output.log'})"
     ]
    }
   ],
   "source": [
    "from hops import experiment\n",
    "from hops import hdfs\n",
    "\n",
    "experiment.launch(experiment_wrapper, name='credit card fraud model', local_logdir=True, metric_key='loss')"
   ]
  },
  {
   "cell_type": "code",
   "execution_count": null,
   "id": "44dd92be",
   "metadata": {},
   "outputs": [],
   "source": []
  }
 ],
 "metadata": {
  "kernelspec": {
   "display_name": "PySpark",
   "language": "python",
   "name": "pysparkkernel"
  },
  "language_info": {
   "codemirror_mode": {
    "name": "python",
    "version": 3
   },
   "mimetype": "text/x-python",
   "name": "pyspark",
   "pygments_lexer": "python3"
  }
 },
 "nbformat": 4,
 "nbformat_minor": 5
}