{
 "cells": [
  {
   "cell_type": "raw",
   "metadata": {},
   "source": [
    "---\n",
    "title: \"End-To-End Example with Tensorflow Keras - MNIST Classification\"\n",
    "date: 2021-02-24\n",
    "type: technical_note\n",
    "draft: false\n",
    "---"
   ]
  },
  {
   "cell_type": "markdown",
   "metadata": {},
   "source": [
    "# End-To-End Example with Tensorflow Keras and Hops - MNIST Classification\n",
    "---\n",
    "*DATA PREPARATION --> MODEL TRAINING --> MODEL SERVING --> MODEL MONITORING*\n",
    "\n",
    "<font color='red'> <h3>Tested with TensorFlow 2.4.0</h3></font>"
   ]
  },
  {
   "cell_type": "markdown",
   "metadata": {},
   "source": [
    "## Model Serving on [Hopsworks](https://github.com/logicalclocks/hopsworks)\n",
    "\n",
    "![hops.png](../../images/hops.png)\n",
    "\n",
    "## The `hops` python library\n",
    "\n",
    "`hops` is a helper library for Hops that facilitates development by hiding the complexity of running applications and iteracting with services.\n",
    "\n",
    "Have a feature request or encountered an issue? Please let us know on <a href=\"https://github.com/logicalclocks/hops-util-py\">github</a>.\n",
    "\n",
    "### Using the `experiment` module\n",
    "\n",
    "To be able to run your Machine Learning code in Hopsworks, the code for the whole program needs to be provided and put inside a wrapper function. Everything, from importing libraries to reading data and defining the model and running the program needs to be put inside a wrapper function.\n",
    "\n",
    "The `experiment` module provides an api to Python programs such as TensorFlow, Keras and PyTorch on a Hopsworks on any number of machines and GPUs.\n",
    "\n",
    "An Experiment could be a single Python program, which we refer to as an **Experiment**. \n",
    "\n",
    "Grid search or genetic hyperparameter optimization such as differential evolution which runs several Experiments in parallel, which we refer to as **Parallel Experiment**. \n",
    "\n",
    "ParameterServerStrategy, CollectiveAllReduceStrategy and MultiworkerMirroredStrategy making multi-machine/multi-gpu training as simple as invoking a function for orchestration. This mode is referred to as **Distributed Training**.\n",
    "\n",
    "### Using the `tensorboard` module\n",
    "The `tensorboard` module allow us to get the log directory for summaries and checkpoints to be written to the TensorBoard we will see in a bit. The only function that we currently need to call is `tensorboard.logdir()`, which returns the path to the TensorBoard log directory. Furthermore, the content of this directory will be put in as a Dataset in your project's Experiments folder.\n",
    "\n",
    "The directory could in practice be used to store other data that should be accessible after the experiment is finished.\n",
    "```python\n",
    "# Use this module to get the TensorBoard logdir\n",
    "from hops import tensorboard\n",
    "tensorboard_logdir = tensorboard.logdir()\n",
    "```\n",
    "\n",
    "### Using the `hdfs` module\n",
    "The `hdfs` module provides a method to get the path in HopsFS where your data is stored, namely by calling `hdfs.project_path()`. The path resolves to the root path for your project, which is the view that you see when you click `Data Sets` in HopsWorks. To point where your actual data resides in the project you to append the full path from there to your Dataset. For example if you create a mnist folder in your Resources Dataset, the path to the mnist data would be `hdfs.project_path() + 'Resources/mnist'`\n",
    "\n",
    "```python\n",
    "# Use this module to get the path to your project in HopsFS, then append the path to your Dataset in your project\n",
    "from hops import hdfs\n",
    "project_path = hdfs.project_path()\n",
    "```\n",
    "\n",
    "```python\n",
    "# Downloading the mnist dataset to the current working directory\n",
    "from hops import hdfs\n",
    "mnist_hdfs_path = hdfs.project_path() + \"Resources/mnist\"\n",
    "local_mnist_path = hdfs.copy_to_local(mnist_hdfs_path)\n",
    "```\n",
    "\n",
    "### Documentation\n",
    "See the following links to learn more about running experiments in Hopsworks\n",
    "\n",
    "- <a href=\"https://hopsworks.readthedocs.io/en/latest/hopsml/experiment.html\">Learn more about experiments</a>\n",
    "<br>\n",
    "- <a href=\"https://hopsworks.readthedocs.io/en/latest/hopsml/hopsML.html\">Building End-To-End pipelines</a>\n",
    "<br>\n",
    "- Give us a star, create an issue or a feature request on  <a href=\"https://github.com/logicalclocks/hopsworks\">Hopsworks github</a>\n",
    "\n",
    "### Managing experiments\n",
    "Experiments service provides a unified view of all the experiments run using the `experiment` module.\n",
    "<br>\n",
    "As demonstrated in the gif it provides general information about the experiment and the resulting metric. Experiments can be visualized meanwhile or after training in a TensorBoard.\n",
    "<br>\n",
    "<br>\n",
    "![Image7-Monitor.png](../../images/experiments.gif)"
   ]
  },
  {
   "cell_type": "markdown",
   "metadata": {},
   "source": [
    "## Train a Mnist Classifier running a Experiment"
   ]
  },
  {
   "cell_type": "code",
   "execution_count": 1,
   "metadata": {},
   "outputs": [
    {
     "name": "stdout",
     "output_type": "stream",
     "text": [
      "Starting Spark application\n"
     ]
    },
    {
     "data": {
      "text/html": [
       "<table>\n",
       "<tr><th>ID</th><th>Application ID</th><th>Kind</th><th>State</th><th>Spark UI</th><th>Driver log</th></tr><tr><td>3</td><td>application_1652804119304_0004</td><td>pyspark</td><td>idle</td><td><a target=\"_blank\" href=\"/hopsworks-api/yarnui/https://hopsworks0.logicalclocks.com:8089/proxy/application_1652804119304_0004/\">Link</a></td><td><a target=\"_blank\" href=\"/hopsworks-api/yarnui/https://hopsworks0.logicalclocks.com:8044/node/containerlogs/container_1652804119304_0004_01_000001/demo_ml_meb10000__meb10000\">Link</a></td></tr></table>"
      ],
      "text/plain": [
       "<IPython.core.display.HTML object>"
      ]
     },
     "metadata": {},
     "output_type": "display_data"
    },
    {
     "name": "stdout",
     "output_type": "stream",
     "text": [
      "SparkSession available as 'spark'.\n"
     ]
    }
   ],
   "source": [
    "MODEL_NAME = \"mniste2e\"\n",
    "EXPERIMENT_NAME = \"Mnist classifier for e2e example\""
   ]
  },
  {
   "cell_type": "code",
   "execution_count": 2,
   "metadata": {},
   "outputs": [],
   "source": [
    "def keras_mnist():\n",
    "    \n",
    "    import os\n",
    "    import sys\n",
    "    import uuid\n",
    "    import random\n",
    "    \n",
    "    import numpy as np\n",
    "    \n",
    "    from tensorflow import keras\n",
    "    import tensorflow as tf\n",
    "    from tensorflow.keras.datasets import mnist\n",
    "    from tensorflow.keras.models import Sequential\n",
    "    from tensorflow.keras.layers import Dense, Dropout, Flatten\n",
    "    from tensorflow.keras.layers import Conv2D, MaxPooling2D\n",
    "    from tensorflow.keras.callbacks import TensorBoard\n",
    "    from tensorflow.keras import backend as K\n",
    "\n",
    "    import math\n",
    "    from hops import tensorboard\n",
    "\n",
    "    import hsml\n",
    "    from hsml.schema import Schema\n",
    "    from hsml.model_schema import ModelSchema\n",
    "    from hops import hdfs\n",
    "\n",
    "    import pydoop.hdfs as pydoop\n",
    "    \n",
    "    batch_size=32\n",
    "    num_classes = 10\n",
    "\n",
    "    # Provide path to train and validation datasets\n",
    "    train_filenames = [hdfs.project_path() + \"TourData/mnist/train/train.tfrecords\"]\n",
    "    validation_filenames = [hdfs.project_path() + \"TourData/mnist/validation/validation.tfrecords\"]\n",
    "    \n",
    "    # Define input function\n",
    "    def data_input(filenames, batch_size=128, num_classes = 10, shuffle=False, repeat=None):\n",
    "\n",
    "        def parser(serialized_example):\n",
    "            \"\"\"Parses a single tf.Example into image and label tensors.\"\"\"\n",
    "            features = tf.io.parse_single_example(\n",
    "                serialized_example,\n",
    "                features={\n",
    "                    'image_raw': tf.io.FixedLenFeature([], tf.string),\n",
    "                    'label': tf.io.FixedLenFeature([], tf.int64),\n",
    "                })\n",
    "            image = tf.io.decode_raw(features['image_raw'], tf.uint8)\n",
    "            image.set_shape([28 * 28])\n",
    "\n",
    "            # Normalize the values of the image from the range [0, 255] to [-0.5, 0.5]\n",
    "            image = tf.cast(image, tf.float32) / 255 - 0.5\n",
    "            label = tf.cast(features['label'], tf.int32)\n",
    "    \n",
    "            # Create a one hot array for your labels\n",
    "            label = tf.one_hot(label, num_classes)\n",
    "            \n",
    "            return image, label\n",
    "\n",
    "        # Import MNIST data\n",
    "        dataset = tf.data.TFRecordDataset(filenames)\n",
    "\n",
    "        # Map the parser over dataset, and batch results by up to batch_size\n",
    "        dataset = dataset.map(parser)\n",
    "        if shuffle:\n",
    "            dataset = dataset.shuffle(buffer_size=128)\n",
    "        dataset = dataset.batch(batch_size, drop_remainder=True)\n",
    "        dataset = dataset.repeat(repeat)\n",
    "        return dataset\n",
    "\n",
    "    # Define a Keras Model.\n",
    "    model = tf.keras.Sequential()\n",
    "    model.add(tf.keras.layers.Dense(128, activation='relu', input_shape=(784,)))\n",
    "    model.add(tf.keras.layers.Dense(num_classes, activation='softmax'))\n",
    "\n",
    "    # Compile the model.\n",
    "    model.compile(loss=tf.keras.losses.categorical_crossentropy,\n",
    "                  optimizer= tf.keras.optimizers.Adam(0.001),\n",
    "                  metrics=['accuracy']\n",
    "                 )\n",
    "        \n",
    "    callbacks = [\n",
    "        tf.keras.callbacks.TensorBoard(log_dir=tensorboard.logdir()),\n",
    "        tf.keras.callbacks.ModelCheckpoint(filepath=tensorboard.logdir()),\n",
    "    ]\n",
    "    model.fit(data_input(train_filenames, batch_size), \n",
    "        verbose=0,\n",
    "        epochs=3, \n",
    "        steps_per_epoch=5,\n",
    "        validation_data=data_input(validation_filenames, batch_size),\n",
    "        validation_steps=1,                    \n",
    "        callbacks=callbacks\n",
    "    )\n",
    "    \n",
    "    score = model.evaluate(data_input(validation_filenames, batch_size), steps=1)\n",
    "\n",
    "    # Export model\n",
    "    # WARNING(break-tutorial-inline-code): The following code snippet is\n",
    "    # in-lined in tutorials, please update tutorial documents accordingly\n",
    "    # whenever code changes.\n",
    "\n",
    "    export_path = os.getcwd() + '/model-' + str(uuid.uuid4())\n",
    "    print('Saving trained model to: {}'.format(export_path))\n",
    "    \n",
    "    tf.saved_model.save(model, export_path)\n",
    "\n",
    "    print('Done saving!')\n",
    "    \n",
    "    metrics = {'accuracy': score[1]}\n",
    "\n",
    "    # export trained model\n",
    "    \n",
    "    conn = hsml.connection()\n",
    "    mr = conn.get_model_registry()\n",
    "    \n",
    "    input_example = np.random.randint(0, high=256, size=784, dtype=np.uint8)\n",
    "    \n",
    "    input_schema = Schema(input_example)\n",
    "    output_schema = Schema([{'type': 'float32', 'shape': [10], 'description': 'Predictions per image category'}])\n",
    "    \n",
    "    tf_model = mr.tensorflow.create_model(MODEL_NAME,\n",
    "                                          metrics=metrics,\n",
    "                                          input_example=input_example,\n",
    "                                          model_schema=ModelSchema(input_schema=input_schema, output_schema=output_schema))\n",
    "    \n",
    "    tf_model.save(export_path)   \n",
    "    \n",
    "    return metrics"
   ]
  },
  {
   "cell_type": "code",
   "execution_count": 3,
   "metadata": {},
   "outputs": [
    {
     "name": "stdout",
     "output_type": "stream",
     "text": [
      "Finished Experiment \n",
      "\n",
      "('hdfs://rpc.namenode.service.consul:8020/Projects/demo_ml_meb10000/Experiments/application_1652804119304_0004_1', {'accuracy': 0.65625, 'log': 'Experiments/application_1652804119304_0004_1/output.log'})"
     ]
    }
   ],
   "source": [
    "from hops import experiment\n",
    "from hops import hdfs\n",
    "\n",
    "experiment.launch(keras_mnist, name=EXPERIMENT_NAME, local_logdir=True, metric_key='accuracy')"
   ]
  },
  {
   "cell_type": "markdown",
   "metadata": {},
   "source": [
    "## Serve the MNIST classifier"
   ]
  },
  {
   "cell_type": "markdown",
   "metadata": {},
   "source": [
    "#### Create a connection to Hopsworks"
   ]
  },
  {
   "cell_type": "code",
   "execution_count": 4,
   "metadata": {},
   "outputs": [
    {
     "name": "stdout",
     "output_type": "stream",
     "text": [
      "Connected. Call `.close()` to terminate connection gracefully."
     ]
    }
   ],
   "source": [
    "import hsml\n",
    "\n",
    "# Connect with Hopsworks\n",
    "conn = hsml.connection()\n",
    "\n",
    "# Retrieve the model registry handle\n",
    "mr = conn.get_model_registry()"
   ]
  },
  {
   "cell_type": "markdown",
   "metadata": {},
   "source": [
    "### Query Model Repository for best Mnist model"
   ]
  },
  {
   "cell_type": "code",
   "execution_count": 5,
   "metadata": {},
   "outputs": [
    {
     "name": "stdout",
     "output_type": "stream",
     "text": [
      "Model name: mniste2e\n",
      "Model version: 1\n",
      "{'accuracy': '0.65625'}"
     ]
    }
   ],
   "source": [
    "# Get best version of the mnist model\n",
    "best_model = mr.get_best_model(MODEL_NAME, \"accuracy\", \"max\")\n",
    "\n",
    "print('Model name: ' + best_model.name)\n",
    "print('Model version: ' + str(best_model.version))\n",
    "print(best_model.training_metrics)"
   ]
  },
  {
   "cell_type": "markdown",
   "metadata": {},
   "source": [
    "### Create a Deployment for the Trained Model"
   ]
  },
  {
   "cell_type": "code",
   "execution_count": 6,
   "metadata": {},
   "outputs": [],
   "source": [
    "# Deploy the best version of the model\n",
    "mnistclassifier = best_model.deploy() # To deploy the model using KServe, set serving_tool to KSERVE"
   ]
  },
  {
   "cell_type": "markdown",
   "metadata": {},
   "source": [
    "After the serving have been created, you can find it in the Hopsworks UI by going to the \"Deployments\" tab. You can also use the class attributes or the `.describe()` method of a deployment object to describe access its metadata."
   ]
  },
  {
   "cell_type": "code",
   "execution_count": 7,
   "metadata": {},
   "outputs": [
    {
     "name": "stdout",
     "output_type": "stream",
     "text": [
      "Description of mniste2e\n",
      "{\n",
      "    \"artifact_version\": 0,\n",
      "    \"batching_enabled\": false,\n",
      "    \"created\": \"2022-05-18T13:09:20.272Z\",\n",
      "    \"creator\": \"Admin Admin\",\n",
      "    \"id\": 3,\n",
      "    \"inference_logging\": \"ALL\",\n",
      "    \"kafka_topic_dto\": {\n",
      "        \"name\": \"CREATE\",\n",
      "        \"num_of_partitions\": 1,\n",
      "        \"num_of_replicas\": 1\n",
      "    },\n",
      "    \"model_name\": \"mniste2e\",\n",
      "    \"model_path\": \"/Projects/demo_ml_meb10000/Models/mniste2e\",\n",
      "    \"model_server\": \"TENSORFLOW_SERVING\",\n",
      "    \"model_version\": 1,\n",
      "    \"name\": \"mniste2e\",\n",
      "    \"predictor\": null,\n",
      "    \"predictor_resource_config\": {\n",
      "        \"cores\": 1,\n",
      "        \"gpus\": 0,\n",
      "        \"memory\": 1024\n",
      "    },\n",
      "    \"requested_instances\": 1,\n",
      "    \"serving_tool\": \"DEFAULT\"\n",
      "}"
     ]
    }
   ],
   "source": [
    "print(\"Description of \" + mnistclassifier.name)\n",
    "mnistclassifier.describe()"
   ]
  },
  {
   "cell_type": "markdown",
   "metadata": {},
   "source": [
    "## Classify Mnist samples using the Trained Model"
   ]
  },
  {
   "cell_type": "markdown",
   "metadata": {},
   "source": [
    "### Start Deployment"
   ]
  },
  {
   "cell_type": "code",
   "execution_count": 8,
   "metadata": {},
   "outputs": [
    {
     "name": "stdout",
     "output_type": "stream",
     "text": [
      "Deployment is running: 100%|##########| 1/1 [00:05<00:00,  5.74s/it]"
     ]
    }
   ],
   "source": [
    "if mnistclassifier.get_state().status == \"Stopped\":\n",
    "    mnistclassifier.start()"
   ]
  },
  {
   "cell_type": "code",
   "execution_count": 9,
   "metadata": {},
   "outputs": [],
   "source": [
    "import time\n",
    "while mnistclassifier.get_state().status != \"Running\":\n",
    "    time.sleep(5) # Let the serving startup correctly\n",
    "time.sleep(10)"
   ]
  },
  {
   "cell_type": "markdown",
   "metadata": {},
   "source": [
    "### Send prediction requests to the Mnist model"
   ]
  },
  {
   "cell_type": "code",
   "execution_count": 16,
   "metadata": {},
   "outputs": [
    {
     "name": "stdout",
     "output_type": "stream",
     "text": [
      "{'predictions': [[0.0, 0.0, 0.0, 0.0, 7.00596943e-14, 0.0, 0.0, 0.0, 0.0, 1.0]]}\n",
      "{'predictions': [[0.0, 0.0, 0.0, 0.0, 7.00596943e-14, 0.0, 0.0, 0.0, 0.0, 1.0]]}\n",
      "{'predictions': [[0.0, 0.0, 0.0, 0.0, 7.00596943e-14, 0.0, 0.0, 0.0, 0.0, 1.0]]}\n",
      "{'predictions': [[0.0, 0.0, 0.0, 0.0, 7.00596943e-14, 0.0, 0.0, 0.0, 0.0, 1.0]]}\n",
      "{'predictions': [[0.0, 0.0, 0.0, 0.0, 7.00596943e-14, 0.0, 0.0, 0.0, 0.0, 1.0]]}\n",
      "{'predictions': [[0.0, 0.0, 0.0, 0.0, 7.00596943e-14, 0.0, 0.0, 0.0, 0.0, 1.0]]}\n",
      "{'predictions': [[0.0, 0.0, 0.0, 0.0, 7.00596943e-14, 0.0, 0.0, 0.0, 0.0, 1.0]]}\n",
      "{'predictions': [[0.0, 0.0, 0.0, 0.0, 7.00596943e-14, 0.0, 0.0, 0.0, 0.0, 1.0]]}\n",
      "{'predictions': [[0.0, 0.0, 0.0, 0.0, 7.00596943e-14, 0.0, 0.0, 0.0, 0.0, 1.0]]}\n",
      "{'predictions': [[0.0, 0.0, 0.0, 0.0, 7.00596943e-14, 0.0, 0.0, 0.0, 0.0, 1.0]]}"
     ]
    }
   ],
   "source": [
    "for i in range(10):\n",
    "    data = { \"signature_name\": \"serving_default\", \"instances\": [best_model.input_example] }\n",
    "    predictions = mnistclassifier.predict(data)\n",
    "    print(predictions)"
   ]
  },
  {
   "cell_type": "markdown",
   "metadata": {},
   "source": [
    "## Monitor Prediction Logs\n",
    "\n",
    "### Consume Prediction Requests and Responses using Kafka\n",
    "\n",
    "All prediction requestst are automatically logged to Kafka which means that you can keep track for your model's performance and its predictions in a scalable manner."
   ]
  },
  {
   "cell_type": "code",
   "execution_count": 11,
   "metadata": {},
   "outputs": [],
   "source": [
    "from hops import kafka\n",
    "from confluent_kafka import Producer, Consumer, KafkaError"
   ]
  },
  {
   "cell_type": "markdown",
   "metadata": {},
   "source": [
    "Setup a Kafka consumer and subscribe to the topic containing the prediction logs"
   ]
  },
  {
   "cell_type": "code",
   "execution_count": 12,
   "metadata": {},
   "outputs": [],
   "source": [
    "TOPIC_NAME = mnistclassifier.inference_logger.kafka_topic.name\n",
    "\n",
    "config = kafka.get_kafka_default_config()\n",
    "config['default.topic.config'] = {'auto.offset.reset': 'earliest'}\n",
    "consumer = Consumer(config)\n",
    "topics = [TOPIC_NAME]\n",
    "consumer.subscribe(topics)"
   ]
  },
  {
   "cell_type": "markdown",
   "metadata": {},
   "source": [
    "Read the Kafka Avro schema from Hopsworks and setup an Avro reader"
   ]
  },
  {
   "cell_type": "code",
   "execution_count": 13,
   "metadata": {},
   "outputs": [],
   "source": [
    "json_schema = kafka.get_schema(TOPIC_NAME)\n",
    "avro_schema = kafka.convert_json_schema_to_avro(json_schema)"
   ]
  },
  {
   "cell_type": "markdown",
   "metadata": {},
   "source": [
    "Read messages from the Kafka topic, parse them with the Avro schema and print the results"
   ]
  },
  {
   "cell_type": "code",
   "execution_count": 17,
   "metadata": {},
   "outputs": [
    {
     "name": "stdout",
     "output_type": "stream",
     "text": [
      "serving: mniste2e, version: 1, timestamp: 1652879564387,\n",
      "         http_response_code: 200, model_server: TENSORFLOW_SERVING, serving_tool: DEFAULT\n",
      "predictions: [0.0, 0.0, 0.0, 0.0, 7.00596943e-14, 0.0, 0.0, 0.0, 0.0, 1.0]\n",
      "\n",
      "serving: mniste2e, version: 1, timestamp: 1652879565135,\n",
      "         http_response_code: 200, model_server: TENSORFLOW_SERVING, serving_tool: DEFAULT\n",
      "predictions: [0.0, 0.0, 0.0, 0.0, 7.00596943e-14, 0.0, 0.0, 0.0, 0.0, 1.0]\n",
      "\n",
      "serving: mniste2e, version: 1, timestamp: 1652879565862,\n",
      "         http_response_code: 200, model_server: TENSORFLOW_SERVING, serving_tool: DEFAULT\n",
      "predictions: [0.0, 0.0, 0.0, 0.0, 7.00596943e-14, 0.0, 0.0, 0.0, 0.0, 1.0]\n",
      "\n",
      "serving: mniste2e, version: 1, timestamp: 1652879566577,\n",
      "         http_response_code: 200, model_server: TENSORFLOW_SERVING, serving_tool: DEFAULT\n",
      "predictions: [0.0, 0.0, 0.0, 0.0, 7.00596943e-14, 0.0, 0.0, 0.0, 0.0, 1.0]\n",
      "\n",
      "serving: mniste2e, version: 1, timestamp: 1652879567340,\n",
      "         http_response_code: 200, model_server: TENSORFLOW_SERVING, serving_tool: DEFAULT\n",
      "predictions: [0.0, 0.0, 0.0, 0.0, 7.00596943e-14, 0.0, 0.0, 0.0, 0.0, 1.0]\n",
      "\n",
      "serving: mniste2e, version: 1, timestamp: 1652879567887,\n",
      "         http_response_code: 200, model_server: TENSORFLOW_SERVING, serving_tool: DEFAULT\n",
      "predictions: [0.0, 0.0, 0.0, 0.0, 7.00596943e-14, 0.0, 0.0, 0.0, 0.0, 1.0]\n",
      "\n",
      "serving: mniste2e, version: 1, timestamp: 1652879568665,\n",
      "         http_response_code: 200, model_server: TENSORFLOW_SERVING, serving_tool: DEFAULT\n",
      "predictions: [0.0, 0.0, 0.0, 0.0, 7.00596943e-14, 0.0, 0.0, 0.0, 0.0, 1.0]\n",
      "\n",
      "serving: mniste2e, version: 1, timestamp: 1652879569472,\n",
      "         http_response_code: 200, model_server: TENSORFLOW_SERVING, serving_tool: DEFAULT\n",
      "predictions: [0.0, 0.0, 0.0, 0.0, 7.00596943e-14, 0.0, 0.0, 0.0, 0.0, 1.0]\n",
      "\n",
      "serving: mniste2e, version: 1, timestamp: 1652879570196,\n",
      "         http_response_code: 200, model_server: TENSORFLOW_SERVING, serving_tool: DEFAULT\n",
      "predictions: [0.0, 0.0, 0.0, 0.0, 7.00596943e-14, 0.0, 0.0, 0.0, 0.0, 1.0]\n",
      "\n",
      "serving: mniste2e, version: 1, timestamp: 1652879570950,\n",
      "         http_response_code: 200, model_server: TENSORFLOW_SERVING, serving_tool: DEFAULT\n",
      "predictions: [0.0, 0.0, 0.0, 0.0, 7.00596943e-14, 0.0, 0.0, 0.0, 0.0, 1.0]"
     ]
    }
   ],
   "source": [
    "import json\n",
    "\n",
    "PRINT_INSTANCES=False\n",
    "PRINT_PREDICTIONS=True\n",
    "\n",
    "for i in range(0, 10):\n",
    "    msg = consumer.poll(timeout=5.0)\n",
    "    if msg is not None:\n",
    "        value = msg.value()\n",
    "        try:\n",
    "            event_dict = kafka.parse_avro_msg(value, avro_schema)\n",
    "            \n",
    "            print(\"serving: {}, version: {}, timestamp: {},\\n\"\\\n",
    "                  \"         http_response_code: {}, model_server: {}, serving_tool: {}\".format(\n",
    "                       event_dict[\"modelName\"],\n",
    "                       event_dict[\"modelVersion\"],\n",
    "                       event_dict[\"requestTimestamp\"],\n",
    "                       event_dict[\"responseHttpCode\"],\n",
    "                       event_dict[\"modelServer\"],\n",
    "                       event_dict[\"servingTool\"]))\n",
    "            \n",
    "            if PRINT_INSTANCES:\n",
    "                print(\"instances: {}\\n\".format(event_dict[\"inferenceRequest\"]))\n",
    "            if PRINT_PREDICTIONS:\n",
    "                print(\"predictions: {}\\n\".format(json.loads(event_dict[\"inferenceResponse\"])[\"predictions\"][0]))\n",
    "                      \n",
    "        except Exception as e:\n",
    "            print(\"A message was read but there was an error parsing it\")\n",
    "            print(e)\n",
    "    else:\n",
    "        print(\"timeout.. no more messages to read from topic\")"
   ]
  },
  {
   "cell_type": "code",
   "execution_count": null,
   "metadata": {},
   "outputs": [],
   "source": []
  }
 ],
 "metadata": {
  "kernelspec": {
   "display_name": "PySpark",
   "language": "python",
   "name": "pysparkkernel"
  },
  "language_info": {
   "codemirror_mode": {
    "name": "python",
    "version": 3
   },
   "mimetype": "text/x-python",
   "name": "pyspark",
   "pygments_lexer": "python3"
  }
 },
 "nbformat": 4,
 "nbformat_minor": 4
}