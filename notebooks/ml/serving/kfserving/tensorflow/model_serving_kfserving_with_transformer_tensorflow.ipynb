{
 "cells": [
  {
   "cell_type": "raw",
   "metadata": {},
   "source": [
    "---\n",
    "title: \"Model Serving with KFServing, Transformers and Tensorflow - MNIST Classification\"\n",
    "date: 2021-02-24\n",
    "type: technical_note\n",
    "draft: false\n",
    "---"
   ]
  },
  {
   "cell_type": "markdown",
   "metadata": {},
   "source": [
    "# Model Serving with KFServing, Transformers and Tensorflow - MNIST Classification\n",
    "---\n",
    "\n",
    "*INPUT --> TRANSFORMER --> ENRICHED INPUT --> MODEL --> PREDICTION*\n",
    "\n",
    "<font color='red'><h3>This notebook requires KFServing</h3></font>"
   ]
  },
  {
   "cell_type": "markdown",
   "metadata": {},
   "source": [
    "> **NOTE:** It is assumed that a model called *mnist* is already available in Hopsworks. An example of training a model for the *MNIST handwritten digit classification problem* is available in `Jupyter/experiment/Tensorflow/mnist.ipynb`"
   ]
  },
  {
   "cell_type": "markdown",
   "metadata": {},
   "source": [
    "## Model Serving on [Hopsworks](https://github.com/logicalclocks/hopsworks)"
   ]
  },
  {
   "cell_type": "markdown",
   "metadata": {},
   "source": [
    "![hops.png](../../../images/hops.png)\n",
    "\n",
    "### The `hops` python library\n",
    "\n",
    "`hops` is a helper library for Hops that facilitates development by hiding the complexity of running applications and iteracting with services.\n",
    "\n",
    "Have a feature request or encountered an issue? Please let us know on <a href=\"https://github.com/logicalclocks/hops-util-py\">github</a>."
   ]
  },
  {
   "cell_type": "markdown",
   "metadata": {},
   "source": [
    "## Serve the MNIST classifier"
   ]
  },
  {
   "cell_type": "markdown",
   "metadata": {},
   "source": [
    "### Check Model Repository for best model based on accuracy"
   ]
  },
  {
   "cell_type": "markdown",
   "metadata": {},
   "source": [
    "![Image7-Monitor.png](../../../images/models.gif)"
   ]
  },
  {
   "cell_type": "markdown",
   "metadata": {},
   "source": [
    "### Query Model Repository for best mnist Model"
   ]
  },
  {
   "cell_type": "code",
   "execution_count": 1,
   "metadata": {},
   "outputs": [
    {
     "name": "stdout",
     "output_type": "stream",
     "text": [
      "Connected. Call `.close()` to terminate connection gracefully.\n"
     ]
    }
   ],
   "source": [
    "import hsml\n",
    "\n",
    "conn = hsml.connection()\n",
    "mr = conn.get_model_registry()\n",
    "\n",
    "MODEL_NAME=\"mnist\"\n",
    "EVALUATION_METRIC=\"accuracy\""
   ]
  },
  {
   "cell_type": "code",
   "execution_count": 2,
   "metadata": {},
   "outputs": [],
   "source": [
    "best_model = mr.get_best_model(MODEL_NAME, EVALUATION_METRIC, \"max\")"
   ]
  },
  {
   "cell_type": "code",
   "execution_count": 3,
   "metadata": {},
   "outputs": [
    {
     "name": "stdout",
     "output_type": "stream",
     "text": [
      "Model name: mnist\n",
      "Model version: 1\n",
      "{'accuracy': '0.71875'}\n"
     ]
    }
   ],
   "source": [
    "print('Model name: ' + best_model.name)\n",
    "print('Model version: ' + str(best_model.version))\n",
    "print(best_model.training_metrics)"
   ]
  },
  {
   "cell_type": "markdown",
   "metadata": {},
   "source": [
    "### Serve the Trained Model with a Transformer"
   ]
  },
  {
   "cell_type": "markdown",
   "metadata": {},
   "source": [
    "To serve a model with a transformer, write a python script that implements the `Transformer` class and the methods `preprocess` and `postprocess`, like this:\n",
    "\n",
    "```python\n",
    "class Transformer(object):\n",
    "    def __init__(self):\n",
    "        print(\"[Transformer] Initializing...\")\n",
    "        # Initialization code goes here\n",
    "\n",
    "    def preprocess(self, inputs):\n",
    "        # Transform the request inputs here. The object returned by this method will be used as model input.\n",
    "        return inputs\n",
    "\n",
    "    def postprocess(self, outputs):\n",
    "        # Transform the predictions computed by the model before returning a response.\n",
    "        return outputs\n",
    "```\n"
   ]
  },
  {
   "cell_type": "code",
   "execution_count": 4,
   "metadata": {},
   "outputs": [],
   "source": [
    "from hops import serving\n",
    "from hops import hdfs"
   ]
  },
  {
   "cell_type": "code",
   "execution_count": 5,
   "metadata": {},
   "outputs": [
    {
     "name": "stdout",
     "output_type": "stream",
     "text": [
      "Inferring model server from artifact files: TENSORFLOW_SERVING\n",
      "Creating serving mnist for artifact /Projects/demo_ml_meb10000//Models/mnist ...\n",
      "Serving mnist successfully created\n"
     ]
    }
   ],
   "source": [
    "# Create serving instance\n",
    "SERVING_NAME = MODEL_NAME\n",
    "MODEL_PATH=\"/Models/\" + best_model.name\n",
    "TRANSFORMER_PATH=hdfs.project_path() + \"/Jupyter/serving/kfserving/tensorflow/transformer.py\" # or .ipynb\n",
    "\n",
    "response = serving.create_or_update(SERVING_NAME, # define a name for the serving instance\n",
    "                                    MODEL_PATH, model_version=best_model.version, # set the path and version of the model to be deployed\n",
    "                                    kfserving=True, # whether to serve the model using KFServing or the default tool in the current Hopsworks version\n",
    "                                    topic_name=\"CREATE\", # (optional) set the topic name or CREATE to create a new topic for inference logging\n",
    "                                    inference_logging=\"ALL\", # with KFServing, select the type of inference data to log into Kafka, e.g MODEL_INPUTS, PREDICTIONS or ALL\n",
    "                                    transformer=TRANSFORMER_PATH, \n",
    "                                    instances=1, # with KFServing, set 0 instances to leverage scale-to-zero capabilities\n",
    "                                    transformer_instances=1, # with KFServing, set 0 instances to leverage scale-to-zero capabilities\n",
    "                                    )"
   ]
  },
  {
   "cell_type": "code",
   "execution_count": 6,
   "metadata": {},
   "outputs": [
    {
     "name": "stdout",
     "output_type": "stream",
     "text": [
      "mnist\n"
     ]
    }
   ],
   "source": [
    "# List all available servings in the project\n",
    "for s in serving.get_all():\n",
    "    print(s.name)"
   ]
  },
  {
   "cell_type": "code",
   "execution_count": 7,
   "metadata": {},
   "outputs": [
    {
     "data": {
      "text/plain": [
       "'Stopped'"
      ]
     },
     "execution_count": 7,
     "metadata": {},
     "output_type": "execute_result"
    }
   ],
   "source": [
    "# Get serving status\n",
    "serving.get_status(SERVING_NAME)"
   ]
  },
  {
   "cell_type": "markdown",
   "metadata": {},
   "source": [
    "## Classify digits with the MNIST classifier"
   ]
  },
  {
   "cell_type": "markdown",
   "metadata": {},
   "source": [
    "### Start Model Serving Server"
   ]
  },
  {
   "cell_type": "code",
   "execution_count": 8,
   "metadata": {},
   "outputs": [
    {
     "name": "stdout",
     "output_type": "stream",
     "text": [
      "Starting serving with name: mnist...\n",
      "Serving with name: mnist successfully started\n"
     ]
    }
   ],
   "source": [
    "if serving.get_status(SERVING_NAME) == 'Stopped':\n",
    "    serving.start(SERVING_NAME)"
   ]
  },
  {
   "cell_type": "code",
   "execution_count": 9,
   "metadata": {},
   "outputs": [],
   "source": [
    "import time\n",
    "while serving.get_status(SERVING_NAME) != \"Running\":\n",
    "    time.sleep(5) # Let the serving startup correctly\n",
    "time.sleep(10)"
   ]
  },
  {
   "cell_type": "markdown",
   "metadata": {},
   "source": [
    "### Check Model Serving for active servings"
   ]
  },
  {
   "cell_type": "markdown",
   "metadata": {},
   "source": [
    "![Image7-Monitor.png](../../../images/servings.gif)"
   ]
  },
  {
   "cell_type": "markdown",
   "metadata": {},
   "source": [
    "### Send Prediction Requests to the Served Model using Hopsworks REST API"
   ]
  },
  {
   "cell_type": "code",
   "execution_count": 10,
   "metadata": {},
   "outputs": [
    {
     "name": "stdout",
     "output_type": "stream",
     "text": [
      "{'predictions': [[0.0137021886, 0.0677420273, 0.0292149764, 0.191990316, 0.127408266, 0.00461552059, 0.367597848, 0.113464594, 0.0338007659, 0.0504634716]]}\n",
      "{'predictions': [[0.0189599581, 0.0472099446, 0.0424997695, 0.187853515, 0.150768891, 0.0110897673, 0.412878215, 0.0501961894, 0.0413965173, 0.0371471234]]}\n",
      "{'predictions': [[0.0112110134, 0.0727639943, 0.0558238067, 0.135703281, 0.135276303, 0.00986007415, 0.41217351, 0.0851974338, 0.0288695, 0.0531211831]]}\n",
      "{'predictions': [[0.0356102847, 0.0747722313, 0.0763402805, 0.135825962, 0.1375902, 0.0124450168, 0.373686343, 0.0581079796, 0.0473188423, 0.0483028106]]}\n",
      "{'predictions': [[0.0185755845, 0.0853011534, 0.0644860417, 0.195167631, 0.154377118, 0.016472118, 0.288549781, 0.106394552, 0.0351197869, 0.035556335]]}\n",
      "{'predictions': [[0.0233460106, 0.0540076382, 0.040135853, 0.195226252, 0.0804001316, 0.0169349462, 0.452840418, 0.0811912417, 0.0321122631, 0.0238052]]}\n",
      "{'predictions': [[0.0114567261, 0.10346631, 0.0741356909, 0.206764832, 0.100969762, 0.0105429776, 0.33957383, 0.0910645, 0.039491456, 0.022533888]]}\n",
      "{'predictions': [[0.0128288604, 0.0484299064, 0.0665263087, 0.144729093, 0.100146264, 0.0108449422, 0.471181333, 0.0990689173, 0.0180417895, 0.0282026958]]}\n",
      "{'predictions': [[0.0161445029, 0.0610838085, 0.0999077857, 0.105673127, 0.140954942, 0.00983355, 0.444789171, 0.0534957275, 0.0368245468, 0.0312928334]]}\n",
      "{'predictions': [[0.0139131062, 0.0619532727, 0.0521616861, 0.162161961, 0.118194342, 0.0180470552, 0.411713928, 0.0898847878, 0.032136444, 0.0398333706]]}\n"
     ]
    }
   ],
   "source": [
    "import json\n",
    "import numpy as np\n",
    "\n",
    "NUM_FEATURES=784\n",
    "\n",
    "for i in range(10):\n",
    "    data = {\n",
    "                \"signature_name\": \"serving_default\", \"instances\": [np.random.rand(NUM_FEATURES).tolist()]\n",
    "            }\n",
    "    response = serving.make_inference_request(SERVING_NAME, data)\n",
    "    print(response)"
   ]
  },
  {
   "cell_type": "markdown",
   "metadata": {},
   "source": [
    "## Monitor Prediction Requests and Responses using Kafka"
   ]
  },
  {
   "cell_type": "markdown",
   "metadata": {},
   "source": [
    "All prediction requestst are automatically logged to Kafka which means that you can keep track for your model's performance and its predictions in a scalable manner."
   ]
  },
  {
   "cell_type": "code",
   "execution_count": 11,
   "metadata": {},
   "outputs": [],
   "source": [
    "from hops import kafka\n",
    "from confluent_kafka import Producer, Consumer, KafkaError"
   ]
  },
  {
   "cell_type": "markdown",
   "metadata": {},
   "source": [
    "Setup Kafka consumer and subscribe to the topic containing the prediction logs"
   ]
  },
  {
   "cell_type": "code",
   "execution_count": 12,
   "metadata": {},
   "outputs": [],
   "source": [
    "TOPIC_NAME = serving.get_kafka_topic(SERVING_NAME)\n",
    "\n",
    "config = kafka.get_kafka_default_config()\n",
    "config['default.topic.config'] = {'auto.offset.reset': 'earliest'}\n",
    "consumer = Consumer(config)\n",
    "topics = [TOPIC_NAME]\n",
    "consumer.subscribe(topics)"
   ]
  },
  {
   "cell_type": "markdown",
   "metadata": {},
   "source": [
    "Read the Kafka Avro schema from Hopsworks and setup an Avro reader"
   ]
  },
  {
   "cell_type": "code",
   "execution_count": 13,
   "metadata": {},
   "outputs": [],
   "source": [
    "json_schema = kafka.get_schema(TOPIC_NAME)\n",
    "avro_schema = kafka.convert_json_schema_to_avro(json_schema)"
   ]
  },
  {
   "cell_type": "markdown",
   "metadata": {},
   "source": [
    "Read messages from the Kafka topic, parse them with the Avro schema and print the results"
   ]
  },
  {
   "cell_type": "code",
   "execution_count": 14,
   "metadata": {},
   "outputs": [
    {
     "name": "stdout",
     "output_type": "stream",
     "text": [
      "timeout.. no more messages to read from topic\n",
      "INFO -> servingId: 2049, modelName: mnist, modelVersion: 1,requestTimestamp: 1634309496, inferenceId:baf90231-c76f-456b-a31d-4a1735dbb63e, messageType:response\n",
      "Predictions -> [[0.0137021886, 0.0677420273, 0.0292149764, 0.191990316, 0.127408266, 0.00461552059, 0.367597848, 0.113464594, 0.0338007659, 0.0504634716]]\n",
      "\n",
      "INFO -> servingId: 2049, modelName: mnist, modelVersion: 1,requestTimestamp: 1634309497, inferenceId:912e660e-f8f9-4437-8e4e-296795a5d447, messageType:response\n",
      "Predictions -> [[0.0189599581, 0.0472099446, 0.0424997695, 0.187853515, 0.150768891, 0.0110897673, 0.412878215, 0.0501961894, 0.0413965173, 0.0371471234]]\n",
      "\n",
      "INFO -> servingId: 2049, modelName: mnist, modelVersion: 1,requestTimestamp: 1634309497, inferenceId:b9ecfaa8-65b9-4b03-85c0-daa4a2887811, messageType:response\n",
      "Predictions -> [[0.0112110134, 0.0727639943, 0.0558238067, 0.135703281, 0.135276303, 0.00986007415, 0.41217351, 0.0851974338, 0.0288695, 0.0531211831]]\n",
      "\n",
      "INFO -> servingId: 2049, modelName: mnist, modelVersion: 1,requestTimestamp: 1634309497, inferenceId:e0657b0f-c38d-490e-b60f-8f6054797609, messageType:response\n",
      "Predictions -> [[0.0356102847, 0.0747722313, 0.0763402805, 0.135825962, 0.1375902, 0.0124450168, 0.373686343, 0.0581079796, 0.0473188423, 0.0483028106]]\n",
      "\n"
     ]
    }
   ],
   "source": [
    "PRINT_INSTANCES=False\n",
    "PRINT_PREDICTIONS=True\n",
    "\n",
    "for i in range(0, 10):\n",
    "    msg = consumer.poll(timeout=5.0)\n",
    "    if msg is not None:\n",
    "        value = msg.value()\n",
    "        try:\n",
    "            event_dict = kafka.parse_avro_msg(value, avro_schema)  \n",
    "            payload = json.loads(event_dict[\"payload\"])\n",
    "            \n",
    "            if (event_dict['messageType'] == \"request\" and not PRINT_INSTANCES) or \\\n",
    "                (event_dict['messageType'] == \"response\" and not PRINT_PREDICTIONS):\n",
    "                continue\n",
    "            \n",
    "            print(\"INFO -> servingId: {}, modelName: {}, modelVersion: {},\"\\\n",
    "                  \"requestTimestamp: {}, inferenceId:{}, messageType:{}\".format(\n",
    "                       event_dict[\"servingId\"],\n",
    "                       event_dict[\"modelName\"],\n",
    "                       event_dict[\"modelVersion\"],\n",
    "                       event_dict[\"requestTimestamp\"],\n",
    "                       event_dict[\"inferenceId\"],\n",
    "                       event_dict[\"messageType\"]))\n",
    "\n",
    "            if event_dict['messageType'] == \"request\":\n",
    "                print(\"Instances -> {}\\n\".format(payload['instances']))\n",
    "                \n",
    "            if event_dict['messageType'] == \"response\":\n",
    "                print(\"Predictions -> {}\\n\".format(payload['predictions']))\n",
    "\n",
    "        except Exception as e:\n",
    "            print(\"A message was read but there was an error parsing it\")\n",
    "            print(e)\n",
    "    else:\n",
    "        print(\"timeout.. no more messages to read from topic\")"
   ]
  },
  {
   "cell_type": "code",
   "execution_count": null,
   "metadata": {},
   "outputs": [],
   "source": []
  }
 ],
 "metadata": {
  "kernelspec": {
   "display_name": "Python",
   "language": "python",
   "name": "python3"
  },
  "language_info": {
   "codemirror_mode": {
    "name": "ipython",
    "version": 3
   },
   "file_extension": ".py",
   "mimetype": "text/x-python",
   "name": "python",
   "nbconvert_exporter": "python",
   "pygments_lexer": "ipython3",
   "version": "3.7.9"
  }
 },
 "nbformat": 4,
 "nbformat_minor": 4
}